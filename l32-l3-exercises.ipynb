{
 "cells": [
  {
   "cell_type": "markdown",
   "metadata": {},
   "source": [
    "# Lecture 3: Exercises\n",
    "\n",
    "![\\[text\\](https://www.google.com/url?sa=i&url=https%3A%2F%2Fin.pinterest.com%2Fcodeitbro%2Fpython-memes%2F&psig=AOvVaw2SiPTu4z3wb8sQj904VtVt&ust=1714619099891000&source=images&cd=vfe&opi=89978449&ved=0CBIQjRxqFwoTCOi8x4W864UDFQAAAAAdAAAAABAE)](https://i.pinimg.com/564x/eb/8f/4f/eb8f4f53710928768afecbc36d34293b.jpg)\n",
    "\n",
    "Problems are arranged in increasing difficulty:"
   ]
  },
  {
   "cell_type": "markdown",
   "metadata": {},
   "source": [
    "#### ❓Ex1: Write function to check if its inputed contains number or not. Return `True` if any number inside inputed string, otherwise return `False`.\n",
    "\n",
    "+ *Optional*: \n",
    "    + *Write another version using `lambda` function*\n",
    "    + *Hint: How to combine list comprehension and if-else*\n",
    "\n",
    "<img src=\"https://www.codingem.com/wp-content/uploads/2022/12/traditional-for-loop-to-one-line-list-comprehension-with-if-else.png\" width=\"400\">\n",
    "\n",
    "\n"
   ]
  },
  {
   "cell_type": "code",
   "execution_count": 33,
   "metadata": {},
   "outputs": [
    {
     "name": "stdout",
     "output_type": "stream",
     "text": [
      "Bạn đã nhập:  Hôm nay là ngày 2/9, là ngày quốc khánh thứ 90\n",
      "Kiểm tra giá trị nhập có bao gồm số không, kết quả:  True\n"
     ]
    }
   ],
   "source": [
    "# Your code here: Dùng hàm\n",
    "s = input('Nhập giá trị cần kiểm tra: ')\n",
    "\n",
    "def nhap_giatri(s):\n",
    "    for kytu in s:\n",
    "        if kytu.isnumeric():\n",
    "            return True\n",
    "    return False\n",
    "print('Bạn đã nhập: ', s)\n",
    "print('Kiểm tra giá trị nhập có bao gồm số không, kết quả: ', nhap_giatri(s))"
   ]
  },
  {
   "cell_type": "code",
   "execution_count": 34,
   "metadata": {},
   "outputs": [
    {
     "name": "stdout",
     "output_type": "stream",
     "text": [
      "Bạn đã nhập:  Thứ 6 ngày 13 rất xui xẻo\n",
      "Giá trị số trong giá trị nhập:  ['6', '1', '3']\n",
      "Kiểm tra giá trị nhập có bao gồm số không, kết quả: True\n"
     ]
    }
   ],
   "source": [
    "# Use list comprehension \n",
    "s = input(\"Nhập chuỗi giá trị tùy ý: \")\n",
    "so_list = [c for c in s if c.isnumeric()] \n",
    "\n",
    "print('Bạn đã nhập: ', s)\n",
    "print ('Giá trị số trong giá trị nhập: ', so_list)\n",
    "\n",
    "if so_list != []:\n",
    "    print('Kiểm tra giá trị nhập có bao gồm số không, kết quả: True')\n",
    "else:\n",
    "    print('Kiểm tra giá trị nhập có bao gồm số không, kết quả: False')\n",
    "\n"
   ]
  },
  {
   "cell_type": "code",
   "execution_count": 35,
   "metadata": {},
   "outputs": [
    {
     "name": "stdout",
     "output_type": "stream",
     "text": [
      "Bạn đã nhập:  tháng 7 là tháng có rất nhiều kỉ niệm\n",
      "Kiểm tra giá trị nhập có bao gồm số không, kết quả:  True\n"
     ]
    }
   ],
   "source": [
    "# Use lambda\n",
    "s = input('Nhập giá trị cần kiểm tra: ')\n",
    "\n",
    "nhap_giatri = lambda s: any(kytu.isnumeric() for kytu in s)\n",
    "\n",
    "print('Bạn đã nhập: ', s)\n",
    "print('Kiểm tra giá trị nhập có bao gồm số không, kết quả: ', nhap_giatri(s))\n"
   ]
  },
  {
   "cell_type": "markdown",
   "metadata": {},
   "source": [
    "#### ❓Ex2: **Write a Python function to get all the numbers in a inputed sentence. The example inputed sentence is `news` variable below:**\n",
    "\n",
    "+ Example:\n",
    "    + Input: `'Around 766.7 million products were sold, an increase of 83.2%.'`\n",
    "    + Output: `7667832`\n",
    "+ *Optional*: \n",
    "    + *Write another version using `lambda` function*\n",
    "    + *Hint: `'<string>'.isnumeric()` to check if string is numeric or not*\n"
   ]
  },
  {
   "cell_type": "code",
   "execution_count": 37,
   "metadata": {},
   "outputs": [],
   "source": [
    "news = '''Menin attended the announcement of the 2023 Miss Grand \n",
    "International and Miss Grand Vietnam, on Monday afternoon. \n",
    "The 26-year-old beauty queen, along with the 2022 Miss Grand \n",
    "Vietnam Doan Thien An along with some models, walked the runway \n",
    "showing off an ao dai collection created by designer Vu Lan Anh.'''"
   ]
  },
  {
   "cell_type": "code",
   "execution_count": null,
   "metadata": {},
   "outputs": [
    {
     "name": "stdout",
     "output_type": "stream",
     "text": [
      "Giá trị số trong news:  2023262022\n"
     ]
    }
   ],
   "source": [
    "# Your code here:\n",
    "# Use list comprehension \n",
    "\n",
    "so_news = [a for a in news if a.isnumeric()]    # Lấy list các số trong news\n",
    "\n",
    "if so_news != []:\n",
    "    print ('Giá trị số trong news: ', ''.join(so_news)) # Join các số với nhau\n",
    "else:\n",
    "    print('Không có giá trị số')\n"
   ]
  },
  {
   "attachments": {},
   "cell_type": "markdown",
   "metadata": {},
   "source": [
    "#### ❓Ex3: **Write a Python function to sum all the numbers in a inputed sentencw. The example inputed sentence is `news` variable below:**\n",
    "\n",
    "+ *Optional*: \n",
    "    + *Write another version using `lambda` function*\n",
    "    + *Hint: calculating sum of a list of numbers: `sum([1, 2, 3])` -> will return: `6`*\n"
   ]
  },
  {
   "cell_type": "code",
   "execution_count": 60,
   "metadata": {
    "collapsed": true
   },
   "outputs": [],
   "source": [
    "news = '''Menin attended the announcement of the 2023 Miss Grand \n",
    "International and Miss Grand Vietnam, on Monday afternoon. \n",
    "The 26-year-old beauty queen, along with the 2022 Miss Grand \n",
    "Vietnam Doan Thien An along with some models, walked the runway \n",
    "showing off an ao dai collection created by designer Vu Lan Anh.'''"
   ]
  },
  {
   "cell_type": "code",
   "execution_count": null,
   "metadata": {},
   "outputs": [
    {
     "name": "stdout",
     "output_type": "stream",
     "text": [
      "Giá trị số trong news: 2023262022\n",
      "Tổng các số là: 21\n"
     ]
    }
   ],
   "source": [
    "# Your code here:\n",
    "so_news = [a for a in news if a.isnumeric()]    # Lấy list các số trong news\n",
    "\n",
    "if so_news:\n",
    "    tong = sum([int(a) for a in so_news])   # Định dạng lại dữ liệu là int trước khi tính tổng\n",
    "    print('Giá trị số trong news:', ''.join(so_news))   # Join các số với nhau\n",
    "    print('Tổng các số là:', tong)\n",
    "else:\n",
    "    print('Không có giá trị số')\n"
   ]
  },
  {
   "attachments": {},
   "cell_type": "markdown",
   "metadata": {},
   "source": [
    "#### ❓Ex4: **Write function to return list of all words contained a defined single letter from variable `news` below**\n",
    "\n",
    "+ Example you want to return all words contained 'r' in the variable `news`, the output should be:\n",
    "```python\n",
    "        ['Grand',\n",
    "        'International',\n",
    "        'Grand',\n",
    "        'afternoon.',\n",
    "        '26-year-old',\n",
    "        'Grand',\n",
    "        'runway',\n",
    "        'created',\n",
    "        'designer']\n",
    " ```"
   ]
  },
  {
   "cell_type": "code",
   "execution_count": 62,
   "metadata": {},
   "outputs": [],
   "source": [
    "news = '''Menin attended the announcement of the 2023 Miss Grand \n",
    "International and Miss Grand Vietnam, on Monday afternoon. \n",
    "The 26-year-old beauty queen, along with the 2022 Miss Grand \n",
    "Vietnam Doan Thien An along with some models, walked the runway \n",
    "showing off an ao dai collection created by designer Vu Lan Anh.'''"
   ]
  },
  {
   "cell_type": "code",
   "execution_count": 63,
   "metadata": {},
   "outputs": [
    {
     "name": "stdout",
     "output_type": "stream",
     "text": [
      "['Grand', 'International', 'Grand', 'afternoon.', '26-year-old', 'Grand', 'runway', 'created', 'designer']\n"
     ]
    }
   ],
   "source": [
    "# Your code here:\n",
    "\n",
    "def letter_r(news, letter):\n",
    "    words = news.split()\n",
    "    result = [word for word in words if letter in word]\n",
    "    return result\n",
    "\n",
    "# Gọi hàm với chữ cái cần tìm, là 'r'\n",
    "output = letter_r(news, 'r')\n",
    "print(output)\n",
    "\n"
   ]
  },
  {
   "cell_type": "code",
   "execution_count": 65,
   "metadata": {},
   "outputs": [
    {
     "name": "stdout",
     "output_type": "stream",
     "text": [
      "['Grand', 'International', 'Grand', 'afternoon.', '26-year-old', 'Grand', 'runway', 'created', 'designer']\n"
     ]
    }
   ],
   "source": [
    "letter_r = []\n",
    "\n",
    "for word in news.split():\n",
    "    if 'r' in word:\n",
    "        letter_r.append(word)\n",
    "\n",
    "print(letter_r)"
   ]
  },
  {
   "attachments": {},
   "cell_type": "markdown",
   "metadata": {},
   "source": [
    "#### ❓**Ex5: Write a Python program to calculate the sum of the positive and negative numbers of a given list of numbers using the lambda function:**\n",
    "+ Original list: [2, 4, -6, -9, 11, -12, 14, -5, 17]\n",
    "\n",
    "- Sum of the negative numbers: -32\n",
    "- Sum of the positive numbers: 48"
   ]
  },
  {
   "cell_type": "code",
   "execution_count": 67,
   "metadata": {},
   "outputs": [],
   "source": [
    "numbers = [2, 4, -6, -9, 11, -12, 14, -5, 17]"
   ]
  },
  {
   "cell_type": "code",
   "execution_count": 68,
   "metadata": {},
   "outputs": [
    {
     "name": "stdout",
     "output_type": "stream",
     "text": [
      "Giá trị số dương trong list: 2, 4, 11, 14, 17\n",
      "Tổng các số là: 48\n"
     ]
    }
   ],
   "source": [
    "# Sum of the positive number:\n",
    "# your code here\n",
    "\n",
    "# Lọc các số nguyên dương\n",
    "so_duong = [a for a in numbers if a > 0]    # Lấy list các số nguyên dương\n",
    "\n",
    "if so_duong:\n",
    "    tong = sum(so_duong)\n",
    "    print('Giá trị số dương trong list:', ', '.join(str(x) for x in so_duong))  # Join giá trị bằng dấu ','\n",
    "    print('Tổng các số là:', tong)\n",
    "else:\n",
    "    print('Không có giá trị số dương')\n",
    "\n"
   ]
  },
  {
   "cell_type": "code",
   "execution_count": 69,
   "metadata": {},
   "outputs": [
    {
     "name": "stdout",
     "output_type": "stream",
     "text": [
      "Giá trị số âm trong list: -6, -9, -12, -5\n",
      "Tổng các số là: -32\n"
     ]
    }
   ],
   "source": [
    "# Sum of the negative number:\n",
    "# your code here\n",
    "\n",
    "# Lọc các số nguyên âm\n",
    "so_am = [a for a in numbers if a < 0]\n",
    "\n",
    "if so_am:\n",
    "    tong = sum(so_am)\n",
    "    print('Giá trị số âm trong list:', ', '.join(str(x) for x in so_am))\n",
    "    print('Tổng các số là:', tong)\n",
    "else:\n",
    "    print('Không có giá trị số âm')"
   ]
  },
  {
   "cell_type": "markdown",
   "metadata": {},
   "source": [
    "### 🤔 Optional Challenge: Create Game **Rock, Paper, Scissors!**\n",
    "\n",
    "You think you can beat your computer with a game of scissors 🤔 Prove it by creating this game and win your computer!\n",
    "\n",
    "<img src=\"https://andygrunwald.com/images/posts/playing-rock-paper-scissors-with-500-people/rock-paper-scissors-game-rules.png\" width=\"400\">"
   ]
  },
  {
   "cell_type": "code",
   "execution_count": 78,
   "metadata": {},
   "outputs": [],
   "source": [
    "import random"
   ]
  },
  {
   "cell_type": "code",
   "execution_count": 79,
   "metadata": {},
   "outputs": [],
   "source": [
    "# Write function to get your choice from keyboard:\n",
    "# your code here:\n",
    "\n",
    "# Danh sách lựa chọn hợp lệ\n",
    "choices = [\"rock\", \"paper\", \"scissors\"]\n",
    "\n",
    "# Nhập từ người chơi\n",
    "ban_chon = input(\"Chọn rock, paper hoặc scissors: \").lower()"
   ]
  },
  {
   "cell_type": "code",
   "execution_count": 80,
   "metadata": {},
   "outputs": [],
   "source": [
    "# Write function to get computer choice:\n",
    "# your code here:\n",
    "\n",
    "computer = random.choice(choices)"
   ]
  },
  {
   "cell_type": "code",
   "execution_count": 81,
   "metadata": {},
   "outputs": [
    {
     "name": "stdout",
     "output_type": "stream",
     "text": [
      "💻 Máy tính chọn: paper\n",
      "👤 Bạn chọn: paper\n",
      "🤝 Kết quả: Hòa rồi nha!\n"
     ]
    }
   ],
   "source": [
    "# Write function to compare your choice and computer choice and return result\n",
    "# your code here\n",
    "if ban_chon not in choices:\n",
    "    print(\"❌ Giá trị không hợp lệ. Vui lòng chọn rock, paper hoặc scissors.\")\n",
    "else:\n",
    "    # Máy tính chọn ngẫu nhiên\n",
    "    computer = random.choice(choices)\n",
    "    print(f\"💻 Máy tính chọn: {computer}\")\n",
    "    print(f\"👤 Bạn chọn: {ban_chon}\")\n",
    "\n",
    "    # So sánh kết quả\n",
    "    if ban_chon == computer:\n",
    "        print(\"🤝 Kết quả: Hòa rồi nha!\")\n",
    "    elif (\n",
    "        (ban_chon == \"rock\" and computer == \"scissors\") or\n",
    "        (ban_chon == \"scissors\" and computer == \"paper\") or\n",
    "        (ban_chon == \"paper\" and computer == \"rock\")\n",
    "    ):\n",
    "        print(\"🎉 Bạn đã thắng, xin chúc mừng!\")\n",
    "    else:\n",
    "        print(\"😞 Bạn thua rồi, chia buồn nhé.\")"
   ]
  },
  {
   "cell_type": "markdown",
   "metadata": {},
   "source": [
    "🎉 Code hoàn chỉnh"
   ]
  },
  {
   "cell_type": "code",
   "execution_count": 82,
   "metadata": {},
   "outputs": [
    {
     "name": "stdout",
     "output_type": "stream",
     "text": [
      "💻 Máy tính chọn: paper\n",
      "👤 Bạn chọn: rock\n",
      "😞 Bạn thua rồi, chia buồn nhé.\n"
     ]
    }
   ],
   "source": [
    "# Put all functions together to complete the game:\n",
    "# your code here\n",
    "\n",
    "import random\n",
    "\n",
    "# Danh sách lựa chọn hợp lệ\n",
    "choices = [\"rock\", \"paper\", \"scissors\"]\n",
    "\n",
    "# Nhập từ người chơi\n",
    "ban_chon = input(\"Chọn rock, paper hoặc scissors: \").lower()\n",
    "\n",
    "# Kiểm tra đầu vào hợp lệ\n",
    "if ban_chon not in choices:\n",
    "    print(\"❌ Giá trị không hợp lệ. Vui lòng chọn rock, paper hoặc scissors.\")\n",
    "else:\n",
    "    # Máy tính chọn ngẫu nhiên\n",
    "    computer = random.choice(choices)\n",
    "    print(f\"💻 Máy tính chọn: {computer}\")\n",
    "    print(f\"👤 Bạn chọn: {ban_chon}\")\n",
    "\n",
    "    # So sánh kết quả\n",
    "    if ban_chon == computer:\n",
    "        print(\"🤝 Kết quả: Hòa rồi nha!\")\n",
    "    elif (\n",
    "        (ban_chon == \"rock\" and computer == \"scissors\") or\n",
    "        (ban_chon == \"scissors\" and computer == \"paper\") or\n",
    "        (ban_chon == \"paper\" and computer == \"rock\")\n",
    "    ):\n",
    "        print(\"🎉 Bạn đã thắng, xin chúc mừng!\")\n",
    "    else:\n",
    "        print(\"😞 Bạn thua rồi, chia buồn nhé.\")\n"
   ]
  }
 ],
 "metadata": {
  "kernelspec": {
   "display_name": "base",
   "language": "python",
   "name": "python3"
  },
  "language_info": {
   "codemirror_mode": {
    "name": "ipython",
    "version": 3
   },
   "file_extension": ".py",
   "mimetype": "text/x-python",
   "name": "python",
   "nbconvert_exporter": "python",
   "pygments_lexer": "ipython3",
   "version": "3.12.7"
  }
 },
 "nbformat": 4,
 "nbformat_minor": 2
}
