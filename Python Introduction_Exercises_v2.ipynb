{
 "cells": [
  {
   "attachments": {},
   "cell_type": "markdown",
   "metadata": {},
   "source": [
    "👉 Ex1: Nhập từ bàn phím độ dài 2 cạnh của hình chữ nhật và in ra màn hình diện tích của hình chữ nhật đó."
   ]
  },
  {
   "attachments": {},
   "cell_type": "markdown",
   "metadata": {},
   "source": [
    "✳️ hint: \n",
    "\n",
    "+ `int(*str*)`: to convert a string to integer\n",
    "+ `float(*str*)`: to convert a string to float"
   ]
  },
  {
   "cell_type": "code",
   "execution_count": 2,
   "metadata": {},
   "outputs": [
    {
     "name": "stdout",
     "output_type": "stream",
     "text": [
      "Diện tích hình chữ nhật là: 84.0\n"
     ]
    }
   ],
   "source": [
    "# Your code here!\n",
    "# Nhập chiều dài và chiều rộng từ bàn phím\n",
    "chieu_dai = float(input(\"Nhập chiều dài: \"))\n",
    "chieu_rong = float(input(\"Nhập chiều rộng: \"))\n",
    "\n",
    "# Tính diện tích\n",
    "dien_tich = chieu_dai * chieu_rong\n",
    "\n",
    "# In kết quả\n",
    "print(\"Diện tích hình chữ nhật là:\", dien_tich)"
   ]
  },
  {
   "attachments": {},
   "cell_type": "markdown",
   "metadata": {},
   "source": [
    "👉 Ex2: Chuyển các ký tự trong biến words thành: in hoa; viết hoa chữ cái đầu, chữ thường"
   ]
  },
  {
   "cell_type": "code",
   "execution_count": 3,
   "metadata": {},
   "outputs": [],
   "source": [
    "words = 'You only live once, but if you do it right, once is enough.'"
   ]
  },
  {
   "cell_type": "code",
   "execution_count": 4,
   "metadata": {},
   "outputs": [
    {
     "name": "stdout",
     "output_type": "stream",
     "text": [
      "YOU ONLY LIVE ONCE, BUT IF YOU DO IT RIGHT, ONCE IS ENOUGH.\n",
      "you only live once, but if you do it right, once is enough.\n",
      "You only live once, but if you do it right, once is enough.\n",
      "You Only Live Once, But If You Do It Right, Once Is Enough.\n"
     ]
    }
   ],
   "source": [
    "# Your code here!\n",
    "# In hoa toàn bộ\n",
    "print(words.upper())\n",
    "\n",
    "# Viết thường toàn bộ\n",
    "print(words.lower())\n",
    "\n",
    "# Viết hoa đầu câu (chỉ chữ cái đầu tiên)\n",
    "print(words.capitalize())\n",
    "\n",
    "# Viết hoa đầu mỗi từ\n",
    "print(words.title())\n",
    "\n"
   ]
  },
  {
   "attachments": {},
   "cell_type": "markdown",
   "metadata": {},
   "source": [
    "👉 Ex3: Lấy chữ 'live' từ trong chuỗi words"
   ]
  },
  {
   "cell_type": "code",
   "execution_count": 5,
   "metadata": {},
   "outputs": [
    {
     "data": {
      "text/plain": [
       "'live'"
      ]
     },
     "execution_count": 5,
     "metadata": {},
     "output_type": "execute_result"
    }
   ],
   "source": [
    "# Your code here!\n",
    "# TH1: Gốc ban đầu\n",
    "chu_goc = words.split()\n",
    "word_th1 = chu_goc[2]  # \"live\"\n",
    "word_th1"
   ]
  },
  {
   "cell_type": "code",
   "execution_count": 7,
   "metadata": {},
   "outputs": [
    {
     "data": {
      "text/plain": [
       "'LIVE'"
      ]
     },
     "execution_count": 7,
     "metadata": {},
     "output_type": "execute_result"
    }
   ],
   "source": [
    "# TH2: Toàn bộ chữ hoa:\n",
    "words.upper().split()[2]  # \"LIVE\"\n"
   ]
  },
  {
   "cell_type": "code",
   "execution_count": 8,
   "metadata": {},
   "outputs": [
    {
     "data": {
      "text/plain": [
       "'live'"
      ]
     },
     "execution_count": 8,
     "metadata": {},
     "output_type": "execute_result"
    }
   ],
   "source": [
    "# TH3: Toàn bộ chữ thường:\n",
    "words.lower().split()[2]  # \"live\"\n"
   ]
  },
  {
   "cell_type": "code",
   "execution_count": 9,
   "metadata": {},
   "outputs": [
    {
     "data": {
      "text/plain": [
       "'live'"
      ]
     },
     "execution_count": 9,
     "metadata": {},
     "output_type": "execute_result"
    }
   ],
   "source": [
    "# TH4: Viết hoa chữ cái đầu câu:\n",
    "words.lower().capitalize().split()[2]  # \"live\"\n"
   ]
  },
  {
   "cell_type": "code",
   "execution_count": 10,
   "metadata": {},
   "outputs": [
    {
     "data": {
      "text/plain": [
       "'Live'"
      ]
     },
     "execution_count": 10,
     "metadata": {},
     "output_type": "execute_result"
    }
   ],
   "source": [
    "# TH5: Viết hoa đầu mỗi từ:\n",
    "words.title().split()[2]  # \"Live\"\n"
   ]
  },
  {
   "attachments": {},
   "cell_type": "markdown",
   "metadata": {},
   "source": [
    "👉 Ex4: Vị trí (index) của dấu \",\" thứ 2 là bao nhiêu? "
   ]
  },
  {
   "cell_type": "code",
   "execution_count": 11,
   "metadata": {},
   "outputs": [
    {
     "data": {
      "text/plain": [
       "42"
      ]
     },
     "execution_count": 11,
     "metadata": {},
     "output_type": "execute_result"
    }
   ],
   "source": [
    "# Your code here!\n",
    "\n",
    "words.index(',',19) #Bắt đầu từ index 19"
   ]
  },
  {
   "cell_type": "code",
   "execution_count": 12,
   "metadata": {},
   "outputs": [
    {
     "name": "stdout",
     "output_type": "stream",
     "text": [
      "Vị trí dấu ',' thứ 2 là: 42\n"
     ]
    }
   ],
   "source": [
    "# Cách khác:\n",
    "dauphay_1 = words.find(\",\")\n",
    "dauphay_2 = words.find(\",\", dauphay_1 + 1)\n",
    "print(\"Vị trí dấu ',' thứ 2 là:\", dauphay_2)\n"
   ]
  },
  {
   "attachments": {},
   "cell_type": "markdown",
   "metadata": {},
   "source": [
    "👉 Ex5: Đảo chiểu chuỗi `words` "
   ]
  },
  {
   "cell_type": "code",
   "execution_count": 13,
   "metadata": {},
   "outputs": [
    {
     "data": {
      "text/plain": [
       "'.hguone si ecno ,thgir ti od uoy fi tub ,ecno evil ylno uoY'"
      ]
     },
     "execution_count": 13,
     "metadata": {},
     "output_type": "execute_result"
    }
   ],
   "source": [
    "# Your code here!\n",
    "dao_chieu = words[::-1]\n",
    "dao_chieu "
   ]
  },
  {
   "attachments": {},
   "cell_type": "markdown",
   "metadata": {},
   "source": [
    "👉 Ex6: Chỉ dùng lệnh (tức là bạn không cần phải đếm) để lấy ra câu` \"but if you do it right\" `trong chuỗi `words`"
   ]
  },
  {
   "cell_type": "code",
   "execution_count": 14,
   "metadata": {},
   "outputs": [
    {
     "name": "stdout",
     "output_type": "stream",
     "text": [
      "but if you do it right\n"
     ]
    }
   ],
   "source": [
    "# Your code here!\n",
    "words = 'You only live once, but if you do it right, once is enough.'\n",
    "result = words.split(',')[1].strip()    #Split xong lấy index 1, loại bỏ khoảng trắng\n",
    "print(result)\n"
   ]
  },
  {
   "attachments": {},
   "cell_type": "markdown",
   "metadata": {},
   "source": [
    "👉 Ex7: Nhập từ bàn phím 1 tên của một file bất kì, nhiệm vụ của bạn là in ra màn hình đuôi của tên file đó:\n",
    "\n",
    "Ví dụ:\n",
    "+ Bạn input: `'image.jpg'`\n",
    "+ Kết quả in ra màn hình là: `'.jpg'`"
   ]
  },
  {
   "cell_type": "code",
   "execution_count": 35,
   "metadata": {},
   "outputs": [
    {
     "data": {
      "text/plain": [
       "'.mp3'"
      ]
     },
     "execution_count": 35,
     "metadata": {},
     "output_type": "execute_result"
    }
   ],
   "source": [
    "# Your code here!\n",
    "# Nhập tên file:\n",
    "ten_file = input(\"Nhập tên file có định dạng: \")\n",
    "\n",
    "a = ten_file.split('.') # Tách tên file và đuôi file (index 0 và 1)\n",
    "b = a[1].strip()    # Lấy index 1 và loại bỏ khoảng trắng\n",
    "duoi_file = '.' + b\n",
    "\n",
    "duoi_file\n"
   ]
  },
  {
   "cell_type": "code",
   "execution_count": 43,
   "metadata": {},
   "outputs": [
    {
     "data": {
      "text/plain": [
       "'File không có đuôi mở rộng.'"
      ]
     },
     "execution_count": 43,
     "metadata": {},
     "output_type": "execute_result"
    }
   ],
   "source": [
    "filename = input(\"Nhập tên file: \")\n",
    "\n",
    "# Tách từ dấu chấm cuối và in phần đuôi\n",
    "if '.' in filename:\n",
    "    print('.' + filename.split('.')[-1])\n",
    "else:\n",
    "    none = \"File không có đuôi mở rộng.\"\n",
    "none\n"
   ]
  },
  {
   "attachments": {},
   "cell_type": "markdown",
   "metadata": {},
   "source": [
    "👉 Ex8: Nhập từ bàn phím họ và tên của bạn, sau đó bạn in ra màn hình họ và độ dài họ và tên của bạn:\n",
    "\n",
    "Ví dụ:\n",
    "+ Bạn input: `'Trần Thành Tâm'`\n",
    "+ Kết quả in ra màn hình là: `Bạn họ \"Trần\", tên bạn có độ dài là: 14`"
   ]
  },
  {
   "cell_type": "code",
   "execution_count": 44,
   "metadata": {},
   "outputs": [
    {
     "name": "stdout",
     "output_type": "stream",
     "text": [
      "Bạn họ \"Nguyễn\", tên bạn có độ dài là: 15\n"
     ]
    }
   ],
   "source": [
    "# Your code here!\n",
    "# Nhập tên đâỳ đủ:\n",
    "ten_full = input(\"Nhập tên đầy đủ: \")\n",
    "tach_hoten = ten_full.split()\n",
    "ho = tach_hoten[0]\n",
    "do_dai = len(ten_full)\n",
    "\n",
    "# In kết quả\n",
    "print(f'Bạn họ \"{ho}\", tên bạn có độ dài là: {do_dai}')\n"
   ]
  },
  {
   "cell_type": "code",
   "execution_count": 45,
   "metadata": {},
   "outputs": [
    {
     "name": "stdout",
     "output_type": "stream",
     "text": [
      "Nguyễn\n",
      "15\n"
     ]
    }
   ],
   "source": [
    "# Hoặc:\n",
    "# Nhập tên đâỳ đủ:\n",
    "ten_full = input(\"Nhập tên đầy đủ: \")\n",
    "tach_hoten = ten_full.split()\n",
    "ho = tach_hoten[0]\n",
    "do_dai = len(ten_full)\n",
    "print(ho)\n",
    "print(do_dai)"
   ]
  },
  {
   "cell_type": "markdown",
   "metadata": {},
   "source": [
    "👉 Ex9: Tách các thành phần trong chuỗi `createdDate` thành các phần nhỏ là năm, tháng, ngày.\n",
    "\n",
    "+ Expected output: `['2024', '12', '31']`"
   ]
  },
  {
   "cell_type": "code",
   "execution_count": 46,
   "metadata": {},
   "outputs": [],
   "source": [
    "createdDate = '2024-12-31'"
   ]
  },
  {
   "cell_type": "code",
   "execution_count": 47,
   "metadata": {},
   "outputs": [
    {
     "data": {
      "text/plain": [
       "['2024', '12', '31']"
      ]
     },
     "execution_count": 47,
     "metadata": {},
     "output_type": "execute_result"
    }
   ],
   "source": [
    "# Your code here!\n",
    "a = createdDate.split('-')\n",
    "a"
   ]
  },
  {
   "cell_type": "markdown",
   "metadata": {},
   "source": [
    "👉 Ex10: Chọn câu đúng 🤔\n",
    "\n",
    "```python\n",
    "    x = 10\n",
    "    y = 15\n",
    "\n",
    "    x += 6\n",
    "\n",
    "    x < y\n",
    "```\n",
    "Khi chạy đoạn code trên, kết quả sẽ là:\n",
    "\n",
    "+ A: True\n",
    "+ B: False\n"
   ]
  },
  {
   "cell_type": "code",
   "execution_count": 21,
   "metadata": {},
   "outputs": [
    {
     "data": {
      "text/plain": [
       "False"
      ]
     },
     "execution_count": 21,
     "metadata": {},
     "output_type": "execute_result"
    }
   ],
   "source": [
    "# your answer here: \n",
    "False"
   ]
  },
  {
   "cell_type": "markdown",
   "metadata": {},
   "source": [
    "👉 Ex11: Chọn câu đúng 🤔\n",
    "\n",
    "```python\n",
    "    x = 10\n",
    "    y = 15\n",
    "\n",
    "    x *= 2\n",
    "\n",
    "    x <= y\n",
    "```\n",
    "Khi chạy đoạn code trên, kết quả sẽ là:\n",
    "\n",
    "+ A: True\n",
    "+ B: False\n"
   ]
  },
  {
   "cell_type": "code",
   "execution_count": null,
   "metadata": {},
   "outputs": [],
   "source": [
    "# your answer here: \n",
    "False"
   ]
  },
  {
   "cell_type": "markdown",
   "metadata": {},
   "source": [
    "👉 Ex12: Chọn câu đúng 🤔\n",
    "\n",
    "```python\n",
    "    x = 10\n",
    "    y = 15\n",
    "\n",
    "    x += 5\n",
    "\n",
    "    (x > 12) and (x <= y) \n",
    "```\n",
    "Khi chạy đoạn code trên, kết quả sẽ là:\n",
    "\n",
    "+ A: True\n",
    "+ B: False\n"
   ]
  },
  {
   "cell_type": "code",
   "execution_count": 22,
   "metadata": {},
   "outputs": [
    {
     "data": {
      "text/plain": [
       "True"
      ]
     },
     "execution_count": 22,
     "metadata": {},
     "output_type": "execute_result"
    }
   ],
   "source": [
    "# your answer here: \n",
    "True"
   ]
  },
  {
   "cell_type": "markdown",
   "metadata": {},
   "source": [
    "👉 Ex13: Chọn câu đúng 🤔\n",
    "\n",
    "```python\n",
    "    x = 10\n",
    "    y = 15\n",
    "\n",
    "    x += 5\n",
    "\n",
    "    (x < 12) or (x <= y) \n",
    "```\n",
    "Khi chạy đoạn code trên, kết quả sẽ là:\n",
    "\n",
    "+ A: True\n",
    "+ B: False\n"
   ]
  },
  {
   "cell_type": "code",
   "execution_count": 23,
   "metadata": {},
   "outputs": [
    {
     "data": {
      "text/plain": [
       "True"
      ]
     },
     "execution_count": 23,
     "metadata": {},
     "output_type": "execute_result"
    }
   ],
   "source": [
    "# your answer here: \n",
    "True"
   ]
  },
  {
   "cell_type": "markdown",
   "metadata": {},
   "source": [
    "👉 Ex14: Chọn câu đúng 🤔\n",
    "\n",
    "```python\n",
    "    x = 10\n",
    "    y = 15\n",
    "\n",
    "    x += 5\n",
    "\n",
    "    ( (x > 12) and (x < y) ) or (x > 10 ) \n",
    "```\n",
    "Khi chạy đoạn code trên, kết quả sẽ là:\n",
    "\n",
    "+ A: True\n",
    "+ B: False\n"
   ]
  },
  {
   "cell_type": "code",
   "execution_count": 24,
   "metadata": {},
   "outputs": [
    {
     "data": {
      "text/plain": [
       "True"
      ]
     },
     "execution_count": 24,
     "metadata": {},
     "output_type": "execute_result"
    }
   ],
   "source": [
    "# your answer here:\n",
    "True"
   ]
  },
  {
   "cell_type": "markdown",
   "metadata": {},
   "source": [
    "👉 Ex15:  Cho danh sách điểm số của các học sinh như bên dưới:"
   ]
  },
  {
   "cell_type": "code",
   "execution_count": 48,
   "metadata": {},
   "outputs": [],
   "source": [
    "scores = [8.5, 7.2, 9.0, 6.8, 8.8, 9.5, 7.0, 8.2]"
   ]
  },
  {
   "cell_type": "code",
   "execution_count": 49,
   "metadata": {},
   "outputs": [
    {
     "name": "stdout",
     "output_type": "stream",
     "text": [
      "[8.5, 7.2, 9.0]\n"
     ]
    }
   ],
   "source": [
    "# Hãy lấy 3 điểm số đầu tiên:\n",
    "# Your code here:\n",
    "\n",
    "ba_giatri_dau = scores[:3]\n",
    "print(ba_giatri_dau)\n"
   ]
  },
  {
   "cell_type": "code",
   "execution_count": 50,
   "metadata": {},
   "outputs": [
    {
     "name": "stdout",
     "output_type": "stream",
     "text": [
      "[8.8, 9.5, 7.0, 8.2]\n"
     ]
    }
   ],
   "source": [
    "# Hãy lấy 4 điểm số cuối cùng:\n",
    "# Your code here:\n",
    "\n",
    "bon_giatri_cuoi = scores[-4:]\n",
    "print(bon_giatri_cuoi)"
   ]
  },
  {
   "cell_type": "code",
   "execution_count": 51,
   "metadata": {},
   "outputs": [
    {
     "name": "stdout",
     "output_type": "stream",
     "text": [
      "[7.0, 9.5, 8.8, 6.8, 9.0, 7.2]\n"
     ]
    }
   ],
   "source": [
    "# Lấy các điểm số vị trí thứ 2 đến thứ 6 (kể cả vị trí thứ 6) và đảo ngược thứ tự của chúng:\n",
    "# Kết quả mong muốn là: [7.0, 9.5, 8.8, 6.8, 9.0, 7.2]\n",
    "# your code here:\n",
    "\n",
    "# Lấy vị trí 2 đến 6\n",
    "so_haisau = scores[1:7]\n",
    "\n",
    "# Đảo ngược thứ tự\n",
    "reversed_so_haisau = so_haisau[::-1]\n",
    "\n",
    "print(reversed_so_haisau)"
   ]
  },
  {
   "cell_type": "markdown",
   "metadata": {},
   "source": [
    "👉 Ex16: Cho list sau:"
   ]
  },
  {
   "cell_type": "code",
   "execution_count": 30,
   "metadata": {},
   "outputs": [],
   "source": [
    "transactions = [['Áo thun', 105000, 'Quần áo'],\n",
    "                ['Tai nghe', 500000, 'Điện tử'],\n",
    "                ['Quần tây', 356000, 'Điện tử'],\n",
    "                ['Ly nước', 77000, 'Đồ dùng gia đình'],\n",
    "                ['Smartwatch', 3450000, 'Điện tử'],\n",
    "                ['Áo sơ mi', 305000, 'Quần áo']]\n"
   ]
  },
  {
   "cell_type": "code",
   "execution_count": 35,
   "metadata": {},
   "outputs": [
    {
     "data": {
      "text/plain": [
       "3450000"
      ]
     },
     "execution_count": 35,
     "metadata": {},
     "output_type": "execute_result"
    }
   ],
   "source": [
    "# Lấy giá tiền của \"Smartwatch\":\n",
    "transactions[4][1]  #Row index 4 -- Col index 1"
   ]
  },
  {
   "cell_type": "code",
   "execution_count": 37,
   "metadata": {},
   "outputs": [],
   "source": [
    "# Thông tin loại mặc hàng của quần tây bị sai, hãy đổi nó từ \"Điện tử\" thành \"Quần áo\"\n",
    "\n",
    "transactions[2][2] = transactions[2][2].replace('Điện tử', 'Quần áo')"
   ]
  },
  {
   "cell_type": "code",
   "execution_count": 49,
   "metadata": {},
   "outputs": [
    {
     "data": {
      "text/plain": [
       "[['Áo thun', 105000, 'Quần áo'],\n",
       " ['Tai nghe', 500000, 'Điện tử'],\n",
       " ['Quần tây', 356000, 'Quần áo'],\n",
       " ['Ly nước', 77000, 'Đồ dùng gia đình'],\n",
       " ['Smartwatch', 3450000, 'Điện tử'],\n",
       " ['Áo sơ mi', 305000, 'Quần áo'],\n",
       " ['iphone16promax', 30000000, 'Điện tử'],\n",
       " ['iphone16promax', 30000000, 'Điện tử']]"
      ]
     },
     "execution_count": 49,
     "metadata": {},
     "output_type": "execute_result"
    }
   ],
   "source": [
    "# Sau khi Relace\n",
    "transactions"
   ]
  },
  {
   "cell_type": "code",
   "execution_count": 47,
   "metadata": {},
   "outputs": [
    {
     "data": {
      "text/plain": [
       "[['Áo thun', 105000, 'Quần áo'],\n",
       " ['Tai nghe', 500000, 'Điện tử'],\n",
       " ['Quần tây', 356000, 'Quần áo'],\n",
       " ['Ly nước', 77000, 'Đồ dùng gia đình'],\n",
       " ['Smartwatch', 3450000, 'Điện tử'],\n",
       " ['Áo sơ mi', 305000, 'Quần áo'],\n",
       " ['iphone16promax', 30000000, 'Điện tử'],\n",
       " ['iphone16promax', 30000000, 'Điện tử']]"
      ]
     },
     "execution_count": 47,
     "metadata": {},
     "output_type": "execute_result"
    }
   ],
   "source": [
    "# Khách hàng thực hiện thêm 1 giao dịch sau:\n",
    "next_tranx = ['iphone16promax', 30000000, 'Điện tử']\n",
    "\n",
    "# hãy thêm nó vào danh sách các giao dịch trên, theo 2 trường hợp:\n",
    "# + Thêm vào cuối giao dịch\n",
    "transactions.append(next_tranx)\n",
    "transactions\n"
   ]
  },
  {
   "cell_type": "code",
   "execution_count": 51,
   "metadata": {},
   "outputs": [
    {
     "data": {
      "text/plain": [
       "[['Áo thun', 105000, 'Quần áo'],\n",
       " ['Tai nghe', 500000, 'Điện tử'],\n",
       " ['iphone16promax', 30000000, 'Điện tử'],\n",
       " ['iphone16promax', 30000000, 'Điện tử'],\n",
       " ['Quần tây', 356000, 'Quần áo'],\n",
       " ['Ly nước', 77000, 'Đồ dùng gia đình'],\n",
       " ['Smartwatch', 3450000, 'Điện tử'],\n",
       " ['Áo sơ mi', 305000, 'Quần áo'],\n",
       " ['iphone16promax', 30000000, 'Điện tử'],\n",
       " ['iphone16promax', 30000000, 'Điện tử']]"
      ]
     },
     "execution_count": 51,
     "metadata": {},
     "output_type": "execute_result"
    }
   ],
   "source": [
    "# + Thêm vào giao dịch thứ 3 (index là 2):\n",
    "transactions.insert(2, next_tranx)\n",
    "transactions"
   ]
  },
  {
   "cell_type": "code",
   "execution_count": 52,
   "metadata": {},
   "outputs": [
    {
     "data": {
      "text/plain": [
       "['Quần tây', 356000, 'Quần áo']"
      ]
     },
     "execution_count": 52,
     "metadata": {},
     "output_type": "execute_result"
    }
   ],
   "source": [
    "# Khách hàng trả hàng Ly nước, hãy loại bỏ nó ra danh sách các giao dịch:\n",
    "transactions.pop(4)"
   ]
  }
 ],
 "metadata": {
  "kernelspec": {
   "display_name": "base",
   "language": "python",
   "name": "python3"
  },
  "language_info": {
   "codemirror_mode": {
    "name": "ipython",
    "version": 3
   },
   "file_extension": ".py",
   "mimetype": "text/x-python",
   "name": "python",
   "nbconvert_exporter": "python",
   "pygments_lexer": "ipython3",
   "version": "3.12.7"
  },
  "orig_nbformat": 4
 },
 "nbformat": 4,
 "nbformat_minor": 2
}
