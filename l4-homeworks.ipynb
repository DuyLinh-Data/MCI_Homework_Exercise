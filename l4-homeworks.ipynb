{
 "cells": [
  {
   "cell_type": "markdown",
   "metadata": {},
   "source": [
    "### Ex1: Sum of Even Numbers from 1 to N\n",
    "Write a program that calculates the sum of all even numbers from 1 to N, where N is input by the user."
   ]
  },
  {
   "cell_type": "code",
   "execution_count": 6,
   "metadata": {},
   "outputs": [
    {
     "name": "stdout",
     "output_type": "stream",
     "text": [
      "Tổng các số chẵn từ 1 đến 8 là: 20\n"
     ]
    }
   ],
   "source": [
    "# Your code here:\n",
    "N = int(input('Nhập số nguyên N: '))\n",
    "tong_chan = 0\n",
    "\n",
    "for i in range(1, N + 1):   # Kiểm tra giá trị từ 1 đến số N ---> Phải lấy N + 1\n",
    "    if i % 2 == 0:\n",
    "        tong_chan = tong_chan + i\n",
    "\n",
    "# In kết quả\n",
    "print(\"Tổng các số chẵn từ 1 đến\", N, \"là:\", tong_chan)"
   ]
  },
  {
   "cell_type": "markdown",
   "metadata": {},
   "source": [
    "### Ex2: **FizzBuzz**\n",
    "\n",
    "*Instructions:*\n",
    "\n",
    "You are going to write a program that automatically prints the solution to the FizzBuzz game by using **for-loop** or **while-loop**\n",
    "\n",
    "Write a program that prints the integers from 1 to 100. But for multiples of `3` print `\"Fizz\"` instead of the number, and for the multiples of `5` print `\"Buzz\"`. For numbers which are multiples of both `3` and `5` print `\"FizzBuzz\"`\n",
    "\n",
    "e.g. it might start off like this:\n",
    "\n",
    "```\n",
    "`1\n",
    "2\n",
    "Fizz\n",
    "4\n",
    "Buzz\n",
    "Fizz\n",
    "7\n",
    "8\n",
    "Fizz\n",
    "Buzz\n",
    "11\n",
    "Fizz\n",
    "13\n",
    "14\n",
    "FizzBuzz`\n",
    "```\n",
    "\n",
    "`.... etc.`\n",
    "\n",
    "*✳️ Note:*\n",
    "\n",
    "1. Remember your answer should start from 1 and go up to and including 100. \n",
    "2. Each number/text should be printed on a separate line.\n",
    "3. Write 2 versions: verion 1 use `for` loop and version 2 use `while` loop\n",
    "\n"
   ]
  },
  {
   "cell_type": "code",
   "execution_count": 22,
   "metadata": {},
   "outputs": [
    {
     "name": "stdout",
     "output_type": "stream",
     "text": [
      "1\n",
      "2\n",
      "Fizz\n",
      "4\n",
      "Buzz\n",
      "Fizz\n",
      "7\n",
      "8\n",
      "Fizz\n",
      "Buzz\n",
      "11\n",
      "Fizz\n",
      "13\n",
      "14\n",
      "FizzBuzz\n",
      "16\n",
      "17\n",
      "Fizz\n",
      "19\n",
      "Buzz\n",
      "Fizz\n",
      "22\n",
      "23\n",
      "Fizz\n",
      "Buzz\n",
      "26\n",
      "Fizz\n",
      "28\n",
      "29\n",
      "FizzBuzz\n",
      "31\n",
      "32\n",
      "Fizz\n",
      "34\n",
      "Buzz\n",
      "Fizz\n",
      "37\n",
      "38\n",
      "Fizz\n",
      "Buzz\n",
      "41\n",
      "Fizz\n",
      "43\n",
      "44\n",
      "FizzBuzz\n",
      "46\n",
      "47\n",
      "Fizz\n",
      "49\n",
      "Buzz\n",
      "Fizz\n",
      "52\n",
      "53\n",
      "Fizz\n",
      "Buzz\n",
      "56\n",
      "Fizz\n",
      "58\n",
      "59\n",
      "FizzBuzz\n",
      "61\n",
      "62\n",
      "Fizz\n",
      "64\n",
      "Buzz\n",
      "Fizz\n",
      "67\n",
      "68\n",
      "Fizz\n",
      "Buzz\n",
      "71\n",
      "Fizz\n",
      "73\n",
      "74\n",
      "FizzBuzz\n",
      "76\n",
      "77\n",
      "Fizz\n",
      "79\n",
      "Buzz\n",
      "Fizz\n",
      "82\n",
      "83\n",
      "Fizz\n",
      "Buzz\n",
      "86\n",
      "Fizz\n",
      "88\n",
      "89\n",
      "FizzBuzz\n",
      "91\n",
      "92\n",
      "Fizz\n",
      "94\n",
      "Buzz\n",
      "Fizz\n",
      "97\n",
      "98\n",
      "Fizz\n",
      "Buzz\n"
     ]
    }
   ],
   "source": [
    "# Your code here: (Use for loop)\n",
    "list(range(1,101))\n",
    "for i in range(1,101):\n",
    "    if i % 3 == 0 and i % 5 == 0:\n",
    "        print('FizzBuzz')\n",
    "    elif i % 3 == 0:\n",
    "        print('Fizz')\n",
    "    elif i % 5 == 0:\n",
    "        print('Buzz')\n",
    "    else:\n",
    "        print(str(i))\n",
    "        "
   ]
  },
  {
   "cell_type": "code",
   "execution_count": 21,
   "metadata": {},
   "outputs": [
    {
     "name": "stdout",
     "output_type": "stream",
     "text": [
      "1\n",
      "2\n",
      "Fizz\n",
      "4\n",
      "Buzz\n",
      "Fizz\n",
      "7\n",
      "8\n",
      "Fizz\n",
      "Buzz\n",
      "11\n",
      "Fizz\n",
      "13\n",
      "14\n",
      "FizzBuzz\n",
      "16\n",
      "17\n",
      "Fizz\n",
      "19\n",
      "Buzz\n",
      "Fizz\n",
      "22\n",
      "23\n",
      "Fizz\n",
      "Buzz\n",
      "26\n",
      "Fizz\n",
      "28\n",
      "29\n",
      "FizzBuzz\n",
      "31\n",
      "32\n",
      "Fizz\n",
      "34\n",
      "Buzz\n",
      "Fizz\n",
      "37\n",
      "38\n",
      "Fizz\n",
      "Buzz\n",
      "41\n",
      "Fizz\n",
      "43\n",
      "44\n",
      "FizzBuzz\n",
      "46\n",
      "47\n",
      "Fizz\n",
      "49\n",
      "Buzz\n",
      "Fizz\n",
      "52\n",
      "53\n",
      "Fizz\n",
      "Buzz\n",
      "56\n",
      "Fizz\n",
      "58\n",
      "59\n",
      "FizzBuzz\n",
      "61\n",
      "62\n",
      "Fizz\n",
      "64\n",
      "Buzz\n",
      "Fizz\n",
      "67\n",
      "68\n",
      "Fizz\n",
      "Buzz\n",
      "71\n",
      "Fizz\n",
      "73\n",
      "74\n",
      "FizzBuzz\n",
      "76\n",
      "77\n",
      "Fizz\n",
      "79\n",
      "Buzz\n",
      "Fizz\n",
      "82\n",
      "83\n",
      "Fizz\n",
      "Buzz\n",
      "86\n",
      "Fizz\n",
      "88\n",
      "89\n",
      "FizzBuzz\n",
      "91\n",
      "92\n",
      "Fizz\n",
      "94\n",
      "Buzz\n",
      "Fizz\n",
      "97\n",
      "98\n",
      "Fizz\n",
      "Buzz\n"
     ]
    }
   ],
   "source": [
    "# Your code here: (Use while loop)\n",
    "i = 1\n",
    "while i <= 100:\n",
    "    if i % 3 == 0 and i % 5 == 0:\n",
    "        print('FizzBuzz')\n",
    "    elif i % 3 == 0:\n",
    "        print('Fizz')\n",
    "    elif i % 5 == 0:\n",
    "        print('Buzz')\n",
    "    else:\n",
    "        print(str(i))\n",
    "    i = i + 1\n"
   ]
  },
  {
   "cell_type": "markdown",
   "metadata": {},
   "source": [
    "### Ex3: Get list of customers who have amount expense > 100000 based transaction data below:"
   ]
  },
  {
   "cell_type": "code",
   "execution_count": 25,
   "metadata": {},
   "outputs": [],
   "source": [
    "transaction_data = {\n",
    "    'An': 150000,\n",
    "    'Binh': 75000,\n",
    "    'Nghia': 300000,\n",
    "    'Hong': 40000\n",
    "}"
   ]
  },
  {
   "cell_type": "code",
   "execution_count": 29,
   "metadata": {},
   "outputs": [
    {
     "name": "stdout",
     "output_type": "stream",
     "text": [
      "['An', 'Nghia']\n"
     ]
    }
   ],
   "source": [
    "# Your code here:\n",
    "khach_chiuchi = []\n",
    "for name, amount in transaction_data.items():\n",
    "    if amount > 100000:\n",
    "        khach_chiuchi.append(name)\n",
    "print(khach_chiuchi)\n"
   ]
  },
  {
   "cell_type": "code",
   "execution_count": 34,
   "metadata": {},
   "outputs": [
    {
     "name": "stdout",
     "output_type": "stream",
     "text": [
      "['An', 'Nghia']\n"
     ]
    }
   ],
   "source": [
    "# Dùng list comprehension\n",
    "khach_chiuchi = [name for name, amount in transaction_data.items() if amount > 100000] # Lấy name trong name:amount nếu amount > 100000\n",
    "print(khach_chiuchi)"
   ]
  },
  {
   "attachments": {},
   "cell_type": "markdown",
   "metadata": {},
   "source": [
    "### Ex 4: **PASSWORD GENERATOR**\n",
    "\n",
    "I have given a list of letters, numbers and symbols as below, your task is to create a program that automatically generates a trong passwords with number of letter, symbol and number was inputed from keyboard.\n",
    "\n",
    "You can refer to the video `L2_password_generator.mp4` to see how this program works. Good luck! 😉\n",
    "\n",
    "✳️ Hint:\n",
    "+ `break` help to stop the loop\n",
    "+ set parameter ```flush=True``` in the `print` function will help to prevent printed results not display out to screen:\n",
    "\n",
    "```python\n",
    "        print('hello world!', flush = True)\n",
    "```"
   ]
  },
  {
   "cell_type": "code",
   "execution_count": 36,
   "metadata": {},
   "outputs": [],
   "source": [
    "import random\n",
    "letters = ['a', 'b', 'c', 'd', 'e', 'f', 'g', 'h', 'i', 'j', 'k', 'l', 'm', 'n', \\\n",
    "    'o', 'p', 'q', 'r', 's', 't', 'u', 'v', 'w', 'x', 'y', 'z', 'A', 'B', 'C', 'D'\\\n",
    "        , 'E', 'F', 'G', 'H', 'I', 'J', 'K', 'L', 'M', 'N', 'O', 'P', 'Q', 'R', 'S'\\\n",
    "            , 'T', 'U', 'V', 'W', 'X', 'Y', 'Z']\n",
    "numbers = ['0', '1', '2', '3', '4', '5', '6', '7', '8', '9']\n",
    "symbols = ['!', '#', '$', '%', '&', '(', ')', '*', '+']"
   ]
  },
  {
   "cell_type": "code",
   "execution_count": 75,
   "metadata": {},
   "outputs": [
    {
     "name": "stdout",
     "output_type": "stream",
     "text": [
      "Số ký tự bạn cần tạo password:  4\n",
      "Số lượng số bạn cần tạo password:  6\n",
      "Số ký tự đặc biệt bạn cần tạo password:  9\n",
      "\n",
      "Mật khẩu ngẫu nhiên là: +#$6!(d7*0e)&38ab%1\n"
     ]
    }
   ],
   "source": [
    "# your code here:\n",
    "\n",
    "num_letters = int(input(\"Nhập số chữ cái: \"))\n",
    "num_numbers = int(input(\"Nhập số chữ số: \"))\n",
    "num_symbols = int(input(\"Nhập số ký hiệu đặc biệt: \"))\n",
    "\n",
    "print('Số ký tự bạn cần tạo password: ', num_letters)\n",
    "print('Số lượng số bạn cần tạo password: ', num_numbers)\n",
    "print('Số ký tự đặc biệt bạn cần tạo password: ', num_symbols)\n",
    "\n",
    "# sample không cho trùng\n",
    "password_chars = (random.sample(letters, num_letters) + random.sample(numbers, num_numbers) + \n",
    "                  random.sample(symbols, num_symbols))  # Lấy ngẫu nhiên ký tự từng list\n",
    "random.shuffle(password_chars)  # Trộn ngẫu nhiên các phần tử\n",
    "password = ''.join(password_chars)  # Nối các phần tử trong danh sách lại thành một chuỗi duy nhất.\n",
    "print(\"\\nMật khẩu ngẫu nhiên là:\", password)"
   ]
  }
 ],
 "metadata": {
  "kernelspec": {
   "display_name": "base",
   "language": "python",
   "name": "python3"
  },
  "language_info": {
   "codemirror_mode": {
    "name": "ipython",
    "version": 3
   },
   "file_extension": ".py",
   "mimetype": "text/x-python",
   "name": "python",
   "nbconvert_exporter": "python",
   "pygments_lexer": "ipython3",
   "version": "3.12.7"
  },
  "orig_nbformat": 4
 },
 "nbformat": 4,
 "nbformat_minor": 2
}
