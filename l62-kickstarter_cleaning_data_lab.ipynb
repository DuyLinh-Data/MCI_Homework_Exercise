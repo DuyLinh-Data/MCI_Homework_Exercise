{
 "cells": [
  {
   "cell_type": "markdown",
   "id": "8ee3f1df",
   "metadata": {
    "id": "8ee3f1df"
   },
   "source": [
    "# APPLIED DATA CLEANING ON KICKSTARTER DATASET\n",
    "\n",
    "<img src='https://c3.iggcdn.com/indiegogo-media-prod-cld/image/upload/c_fill,w_695,g_auto,q_auto,dpr_2.6,f_auto,h_460/raayulrjgqrecunugw8y' width=600>"
   ]
  },
  {
   "cell_type": "code",
   "execution_count": 1,
   "id": "32c14a03",
   "metadata": {
    "id": "32c14a03"
   },
   "outputs": [
    {
     "data": {
      "text/html": [
       "<div>\n",
       "<style scoped>\n",
       "    .dataframe tbody tr th:only-of-type {\n",
       "        vertical-align: middle;\n",
       "    }\n",
       "\n",
       "    .dataframe tbody tr th {\n",
       "        vertical-align: top;\n",
       "    }\n",
       "\n",
       "    .dataframe thead th {\n",
       "        text-align: right;\n",
       "    }\n",
       "</style>\n",
       "<table border=\"1\" class=\"dataframe\">\n",
       "  <thead>\n",
       "    <tr style=\"text-align: right;\">\n",
       "      <th></th>\n",
       "      <th>Unnamed: 0</th>\n",
       "      <th>ID</th>\n",
       "      <th>name</th>\n",
       "      <th>category</th>\n",
       "      <th>main_category</th>\n",
       "      <th>currency</th>\n",
       "      <th>deadline</th>\n",
       "      <th>goal</th>\n",
       "      <th>launched</th>\n",
       "      <th>pledged</th>\n",
       "      <th>state</th>\n",
       "      <th>backers</th>\n",
       "      <th>country</th>\n",
       "      <th>usd pledged</th>\n",
       "      <th>usd_pledged_real</th>\n",
       "      <th>usd_goal_real</th>\n",
       "    </tr>\n",
       "  </thead>\n",
       "  <tbody>\n",
       "    <tr>\n",
       "      <th>323578</th>\n",
       "      <td>323578</td>\n",
       "      <td>718177192</td>\n",
       "      <td>Dawn McGhee</td>\n",
       "      <td>Documentary</td>\n",
       "      <td>Film &amp; Video</td>\n",
       "      <td>USD</td>\n",
       "      <td>2011-11-24</td>\n",
       "      <td>5000.0</td>\n",
       "      <td>2011-09-25 00:42:04</td>\n",
       "      <td>1887.21</td>\n",
       "      <td>failed</td>\n",
       "      <td>21</td>\n",
       "      <td>US</td>\n",
       "      <td>1887.21</td>\n",
       "      <td>1887.21</td>\n",
       "      <td>5000.00</td>\n",
       "    </tr>\n",
       "    <tr>\n",
       "      <th>264092</th>\n",
       "      <td>264092</td>\n",
       "      <td>413192474</td>\n",
       "      <td>Enfutown Bumpers Card Game</td>\n",
       "      <td>Playing Cards</td>\n",
       "      <td>Games</td>\n",
       "      <td>USD</td>\n",
       "      <td>2017-10-22</td>\n",
       "      <td>6000.0</td>\n",
       "      <td>2017-09-22 15:00:48</td>\n",
       "      <td>8736.00</td>\n",
       "      <td>successful</td>\n",
       "      <td>413</td>\n",
       "      <td>US</td>\n",
       "      <td>2018.00</td>\n",
       "      <td>8736.00</td>\n",
       "      <td>6000.00</td>\n",
       "    </tr>\n",
       "    <tr>\n",
       "      <th>236435</th>\n",
       "      <td>236435</td>\n",
       "      <td>271937053</td>\n",
       "      <td>Karsten Torebjer - The Filmö</td>\n",
       "      <td>Comedy</td>\n",
       "      <td>Film &amp; Video</td>\n",
       "      <td>SEK</td>\n",
       "      <td>2016-12-16</td>\n",
       "      <td>1000000.0</td>\n",
       "      <td>2016-10-18 09:37:30</td>\n",
       "      <td>57192.00</td>\n",
       "      <td>failed</td>\n",
       "      <td>156</td>\n",
       "      <td>SE</td>\n",
       "      <td>3303.19</td>\n",
       "      <td>6098.98</td>\n",
       "      <td>106640.50</td>\n",
       "    </tr>\n",
       "    <tr>\n",
       "      <th>255046</th>\n",
       "      <td>255046</td>\n",
       "      <td>36701623</td>\n",
       "      <td>The Re-Assassination of Abraham Lincoln - Phase 1</td>\n",
       "      <td>Webseries</td>\n",
       "      <td>Film &amp; Video</td>\n",
       "      <td>USD</td>\n",
       "      <td>2012-01-26</td>\n",
       "      <td>10000.0</td>\n",
       "      <td>2011-12-27 15:20:47</td>\n",
       "      <td>1528.69</td>\n",
       "      <td>failed</td>\n",
       "      <td>37</td>\n",
       "      <td>US</td>\n",
       "      <td>1528.69</td>\n",
       "      <td>1528.69</td>\n",
       "      <td>10000.00</td>\n",
       "    </tr>\n",
       "    <tr>\n",
       "      <th>341169</th>\n",
       "      <td>341169</td>\n",
       "      <td>807767310</td>\n",
       "      <td>www.wholivesinlondon.com</td>\n",
       "      <td>Web</td>\n",
       "      <td>Journalism</td>\n",
       "      <td>GBP</td>\n",
       "      <td>2014-12-14</td>\n",
       "      <td>8000.0</td>\n",
       "      <td>2014-11-14 10:42:41</td>\n",
       "      <td>502.00</td>\n",
       "      <td>failed</td>\n",
       "      <td>8</td>\n",
       "      <td>GB</td>\n",
       "      <td>791.82</td>\n",
       "      <td>785.53</td>\n",
       "      <td>12518.39</td>\n",
       "    </tr>\n",
       "  </tbody>\n",
       "</table>\n",
       "</div>"
      ],
      "text/plain": [
       "        Unnamed: 0         ID  \\\n",
       "323578      323578  718177192   \n",
       "264092      264092  413192474   \n",
       "236435      236435  271937053   \n",
       "255046      255046   36701623   \n",
       "341169      341169  807767310   \n",
       "\n",
       "                                                     name       category  \\\n",
       "323578                                        Dawn McGhee    Documentary   \n",
       "264092                         Enfutown Bumpers Card Game  Playing Cards   \n",
       "236435                       Karsten Torebjer - The Filmö         Comedy   \n",
       "255046  The Re-Assassination of Abraham Lincoln - Phase 1      Webseries   \n",
       "341169                           www.wholivesinlondon.com            Web   \n",
       "\n",
       "       main_category currency    deadline       goal             launched  \\\n",
       "323578  Film & Video      USD  2011-11-24     5000.0  2011-09-25 00:42:04   \n",
       "264092         Games      USD  2017-10-22     6000.0  2017-09-22 15:00:48   \n",
       "236435  Film & Video      SEK  2016-12-16  1000000.0  2016-10-18 09:37:30   \n",
       "255046  Film & Video      USD  2012-01-26    10000.0  2011-12-27 15:20:47   \n",
       "341169    Journalism      GBP  2014-12-14     8000.0  2014-11-14 10:42:41   \n",
       "\n",
       "         pledged       state  backers country  usd pledged  usd_pledged_real  \\\n",
       "323578   1887.21      failed       21      US      1887.21           1887.21   \n",
       "264092   8736.00  successful      413      US      2018.00           8736.00   \n",
       "236435  57192.00      failed      156      SE      3303.19           6098.98   \n",
       "255046   1528.69      failed       37      US      1528.69           1528.69   \n",
       "341169    502.00      failed        8      GB       791.82            785.53   \n",
       "\n",
       "        usd_goal_real  \n",
       "323578        5000.00  \n",
       "264092        6000.00  \n",
       "236435      106640.50  \n",
       "255046       10000.00  \n",
       "341169       12518.39  "
      ]
     },
     "execution_count": 1,
     "metadata": {},
     "output_type": "execute_result"
    }
   ],
   "source": [
    "# Import pandas\n",
    "import pandas as pd\n",
    "import warnings\n",
    "warnings.filterwarnings('ignore')\n",
    "\n",
    "# Load dataset\n",
    "# df = pd.read_csv('https://www.dropbox.com/s/k0fyjksq5c6cbvx/kickstarter_data.csv?dl=1', index_col=[0])\n",
    "df = pd.read_csv('data\\\\kickstarter_data.csv')\n",
    "\n",
    "# First 5 rows of the dataframe\n",
    "df.sample(5)"
   ]
  },
  {
   "cell_type": "markdown",
   "id": "f38a62c6",
   "metadata": {
    "id": "f38a62c6"
   },
   "source": [
    "**ANNOTATION**\n",
    "\n",
    "- Question: *graded* exercises to complete for score\n",
    "\n",
    "- Task: *not graded* exercises, highly recommended to follow through\n",
    "\n",
    "- Dataframe Columns:\n",
    "    - `goal`: Goal set at the launched time.\n",
    "\n",
    "    - `pledge`: Total amount of funding the project successfully called.\n",
    "\n",
    "    - `backers`: Number of investors that fund the project.\n",
    "\n",
    "    - `usd pledged`: conversion in US dollars of the pledged column (conversion done by kickstarter).\n",
    "\n",
    "    - `usd_pledge_real`: conversion in US dollars of the pledged column (conversion from Fixer.io API).\n",
    "\n",
    "    - `usd_goal_real`: conversion in US dollars of the goal column (conversion from Fixer.io API).\n",
    "\n",
    "The dataset is acquired from Kaggle.com. You can visit it here: https://www.kaggle.com/kemical/kickstarter-projects"
   ]
  },
  {
   "cell_type": "markdown",
   "id": "3c1042a5",
   "metadata": {
    "id": "3c1042a5"
   },
   "source": [
    "🙋🏻‍♂️ **DISCUSSION :** Discuss with your teammate to:\n",
    "\n",
    "- Understand the meaning of each column\n",
    "- Is there any column that you feel unnecessary?\n",
    "\n"
   ]
  },
  {
   "cell_type": "markdown",
   "id": "KTG243xAxUxy",
   "metadata": {
    "id": "KTG243xAxUxy"
   },
   "source": [
    "# A. OVERVIEW AND CLEAN"
   ]
  },
  {
   "cell_type": "markdown",
   "id": "cda04901",
   "metadata": {
    "id": "cda04901"
   },
   "source": [
    "## **A.1** - Remove unwanted observations\n",
    "---"
   ]
  },
  {
   "cell_type": "markdown",
   "id": "6b0bd809",
   "metadata": {
    "id": "6b0bd809"
   },
   "source": [
    "### Task"
   ]
  },
  {
   "cell_type": "markdown",
   "id": "SPEI3C7H-wxQ",
   "metadata": {
    "id": "SPEI3C7H-wxQ"
   },
   "source": [
    "We have many columns for the pledge and goal with different conversions. For this analysis, we choose to keep only `usd_pledged_real` and `usd_goal_real`. \n",
    "\n",
    "Write one line of code to drop the columns `goal`, `pledge`, `usd pledged`."
   ]
  },
  {
   "cell_type": "code",
   "execution_count": 2,
   "id": "10a8ad12",
   "metadata": {},
   "outputs": [
    {
     "data": {
      "text/plain": [
       "Index(['Unnamed: 0', 'ID', 'name', 'category', 'main_category', 'currency',\n",
       "       'deadline', 'goal', 'launched', 'pledged', 'state', 'backers',\n",
       "       'country', 'usd pledged', 'usd_pledged_real', 'usd_goal_real'],\n",
       "      dtype='object')"
      ]
     },
     "execution_count": 2,
     "metadata": {},
     "output_type": "execute_result"
    }
   ],
   "source": [
    "df.columns"
   ]
  },
  {
   "cell_type": "code",
   "execution_count": 3,
   "id": "5f72a2ee",
   "metadata": {
    "id": "5f72a2ee"
   },
   "outputs": [],
   "source": [
    "# YOUR CODE/ANSWER HERE\n",
    "df.drop(['goal', 'pledged', 'usd pledged'], axis=1, inplace=True)"
   ]
  },
  {
   "cell_type": "code",
   "execution_count": 4,
   "id": "1b4da325",
   "metadata": {
    "id": "1b4da325"
   },
   "outputs": [
    {
     "data": {
      "text/html": [
       "<div>\n",
       "<style scoped>\n",
       "    .dataframe tbody tr th:only-of-type {\n",
       "        vertical-align: middle;\n",
       "    }\n",
       "\n",
       "    .dataframe tbody tr th {\n",
       "        vertical-align: top;\n",
       "    }\n",
       "\n",
       "    .dataframe thead th {\n",
       "        text-align: right;\n",
       "    }\n",
       "</style>\n",
       "<table border=\"1\" class=\"dataframe\">\n",
       "  <thead>\n",
       "    <tr style=\"text-align: right;\">\n",
       "      <th></th>\n",
       "      <th>Unnamed: 0</th>\n",
       "      <th>ID</th>\n",
       "      <th>name</th>\n",
       "      <th>category</th>\n",
       "      <th>main_category</th>\n",
       "      <th>currency</th>\n",
       "      <th>deadline</th>\n",
       "      <th>launched</th>\n",
       "      <th>state</th>\n",
       "      <th>backers</th>\n",
       "      <th>country</th>\n",
       "      <th>usd_pledged_real</th>\n",
       "      <th>usd_goal_real</th>\n",
       "    </tr>\n",
       "  </thead>\n",
       "  <tbody>\n",
       "    <tr>\n",
       "      <th>0</th>\n",
       "      <td>0</td>\n",
       "      <td>1000002330</td>\n",
       "      <td>The Songs of Adelaide &amp; Abullah</td>\n",
       "      <td>Poetry</td>\n",
       "      <td>Publishing</td>\n",
       "      <td>GBP</td>\n",
       "      <td>2015-10-09</td>\n",
       "      <td>2015-08-11 12:12:28</td>\n",
       "      <td>failed</td>\n",
       "      <td>0</td>\n",
       "      <td>GB</td>\n",
       "      <td>0.0</td>\n",
       "      <td>1533.95</td>\n",
       "    </tr>\n",
       "    <tr>\n",
       "      <th>1</th>\n",
       "      <td>1</td>\n",
       "      <td>1000003930</td>\n",
       "      <td>Greeting From Earth: ZGAC Arts Capsule For ET</td>\n",
       "      <td>Narrative Film</td>\n",
       "      <td>Film &amp; Video</td>\n",
       "      <td>USD</td>\n",
       "      <td>2017-11-01</td>\n",
       "      <td>2017-09-02 04:43:57</td>\n",
       "      <td>failed</td>\n",
       "      <td>15</td>\n",
       "      <td>US</td>\n",
       "      <td>2421.0</td>\n",
       "      <td>30000.00</td>\n",
       "    </tr>\n",
       "    <tr>\n",
       "      <th>2</th>\n",
       "      <td>2</td>\n",
       "      <td>1000004038</td>\n",
       "      <td>Where is Hank?</td>\n",
       "      <td>Narrative Film</td>\n",
       "      <td>Film &amp; Video</td>\n",
       "      <td>USD</td>\n",
       "      <td>2013-02-26</td>\n",
       "      <td>2013-01-12 00:20:50</td>\n",
       "      <td>failed</td>\n",
       "      <td>3</td>\n",
       "      <td>US</td>\n",
       "      <td>220.0</td>\n",
       "      <td>45000.00</td>\n",
       "    </tr>\n",
       "    <tr>\n",
       "      <th>3</th>\n",
       "      <td>3</td>\n",
       "      <td>1000007540</td>\n",
       "      <td>ToshiCapital Rekordz Needs Help to Complete Album</td>\n",
       "      <td>Music</td>\n",
       "      <td>Music</td>\n",
       "      <td>USD</td>\n",
       "      <td>2012-04-16</td>\n",
       "      <td>2012-03-17 03:24:11</td>\n",
       "      <td>failed</td>\n",
       "      <td>1</td>\n",
       "      <td>US</td>\n",
       "      <td>1.0</td>\n",
       "      <td>5000.00</td>\n",
       "    </tr>\n",
       "    <tr>\n",
       "      <th>4</th>\n",
       "      <td>4</td>\n",
       "      <td>1000011046</td>\n",
       "      <td>Community Film Project: The Art of Neighborhoo...</td>\n",
       "      <td>Film &amp; Video</td>\n",
       "      <td>Film &amp; Video</td>\n",
       "      <td>USD</td>\n",
       "      <td>2015-08-29</td>\n",
       "      <td>2015-07-04 08:35:03</td>\n",
       "      <td>canceled</td>\n",
       "      <td>14</td>\n",
       "      <td>US</td>\n",
       "      <td>1283.0</td>\n",
       "      <td>19500.00</td>\n",
       "    </tr>\n",
       "  </tbody>\n",
       "</table>\n",
       "</div>"
      ],
      "text/plain": [
       "   Unnamed: 0          ID                                               name  \\\n",
       "0           0  1000002330                    The Songs of Adelaide & Abullah   \n",
       "1           1  1000003930      Greeting From Earth: ZGAC Arts Capsule For ET   \n",
       "2           2  1000004038                                     Where is Hank?   \n",
       "3           3  1000007540  ToshiCapital Rekordz Needs Help to Complete Album   \n",
       "4           4  1000011046  Community Film Project: The Art of Neighborhoo...   \n",
       "\n",
       "         category main_category currency    deadline             launched  \\\n",
       "0          Poetry    Publishing      GBP  2015-10-09  2015-08-11 12:12:28   \n",
       "1  Narrative Film  Film & Video      USD  2017-11-01  2017-09-02 04:43:57   \n",
       "2  Narrative Film  Film & Video      USD  2013-02-26  2013-01-12 00:20:50   \n",
       "3           Music         Music      USD  2012-04-16  2012-03-17 03:24:11   \n",
       "4    Film & Video  Film & Video      USD  2015-08-29  2015-07-04 08:35:03   \n",
       "\n",
       "      state  backers country  usd_pledged_real  usd_goal_real  \n",
       "0    failed        0      GB               0.0        1533.95  \n",
       "1    failed       15      US            2421.0       30000.00  \n",
       "2    failed        3      US             220.0       45000.00  \n",
       "3    failed        1      US               1.0        5000.00  \n",
       "4  canceled       14      US            1283.0       19500.00  "
      ]
     },
     "execution_count": 4,
     "metadata": {},
     "output_type": "execute_result"
    }
   ],
   "source": [
    "# Check your dataframe again to see if the columns are successfully dropped\n",
    "df.head()"
   ]
  },
  {
   "cell_type": "code",
   "execution_count": 5,
   "id": "1ae5ac2f",
   "metadata": {},
   "outputs": [
    {
     "data": {
      "text/plain": [
       "Index(['Unnamed: 0', 'ID', 'name', 'category', 'main_category', 'currency',\n",
       "       'deadline', 'launched', 'state', 'backers', 'country',\n",
       "       'usd_pledged_real', 'usd_goal_real'],\n",
       "      dtype='object')"
      ]
     },
     "execution_count": 5,
     "metadata": {},
     "output_type": "execute_result"
    }
   ],
   "source": [
    "df.columns"
   ]
  },
  {
   "cell_type": "markdown",
   "id": "2UmpzfIR-zyQ",
   "metadata": {
    "id": "2UmpzfIR-zyQ"
   },
   "source": [
    "For future convenience, let's rename the columns as follows:\n",
    "\n",
    "- `usd_pledged_real` --> `pledged`\n",
    "- `usd_goal_real` --> `goal`\n",
    "\n",
    "Write your code to do that below."
   ]
  },
  {
   "cell_type": "code",
   "execution_count": 6,
   "id": "6a34ba92",
   "metadata": {
    "id": "6a34ba92"
   },
   "outputs": [],
   "source": [
    "# YOUR CODE HERE\n",
    "df = df.rename(columns={\n",
    "    'usd_pledged_real': 'pledged',\n",
    "    'usd_goal_real': 'goal'\n",
    "})\n"
   ]
  },
  {
   "cell_type": "code",
   "execution_count": 7,
   "id": "1ed212a7",
   "metadata": {
    "id": "1ed212a7"
   },
   "outputs": [
    {
     "data": {
      "text/html": [
       "<div>\n",
       "<style scoped>\n",
       "    .dataframe tbody tr th:only-of-type {\n",
       "        vertical-align: middle;\n",
       "    }\n",
       "\n",
       "    .dataframe tbody tr th {\n",
       "        vertical-align: top;\n",
       "    }\n",
       "\n",
       "    .dataframe thead th {\n",
       "        text-align: right;\n",
       "    }\n",
       "</style>\n",
       "<table border=\"1\" class=\"dataframe\">\n",
       "  <thead>\n",
       "    <tr style=\"text-align: right;\">\n",
       "      <th></th>\n",
       "      <th>Unnamed: 0</th>\n",
       "      <th>ID</th>\n",
       "      <th>name</th>\n",
       "      <th>category</th>\n",
       "      <th>main_category</th>\n",
       "      <th>currency</th>\n",
       "      <th>deadline</th>\n",
       "      <th>launched</th>\n",
       "      <th>state</th>\n",
       "      <th>backers</th>\n",
       "      <th>country</th>\n",
       "      <th>pledged</th>\n",
       "      <th>goal</th>\n",
       "    </tr>\n",
       "  </thead>\n",
       "  <tbody>\n",
       "    <tr>\n",
       "      <th>0</th>\n",
       "      <td>0</td>\n",
       "      <td>1000002330</td>\n",
       "      <td>The Songs of Adelaide &amp; Abullah</td>\n",
       "      <td>Poetry</td>\n",
       "      <td>Publishing</td>\n",
       "      <td>GBP</td>\n",
       "      <td>2015-10-09</td>\n",
       "      <td>2015-08-11 12:12:28</td>\n",
       "      <td>failed</td>\n",
       "      <td>0</td>\n",
       "      <td>GB</td>\n",
       "      <td>0.0</td>\n",
       "      <td>1533.95</td>\n",
       "    </tr>\n",
       "    <tr>\n",
       "      <th>1</th>\n",
       "      <td>1</td>\n",
       "      <td>1000003930</td>\n",
       "      <td>Greeting From Earth: ZGAC Arts Capsule For ET</td>\n",
       "      <td>Narrative Film</td>\n",
       "      <td>Film &amp; Video</td>\n",
       "      <td>USD</td>\n",
       "      <td>2017-11-01</td>\n",
       "      <td>2017-09-02 04:43:57</td>\n",
       "      <td>failed</td>\n",
       "      <td>15</td>\n",
       "      <td>US</td>\n",
       "      <td>2421.0</td>\n",
       "      <td>30000.00</td>\n",
       "    </tr>\n",
       "    <tr>\n",
       "      <th>2</th>\n",
       "      <td>2</td>\n",
       "      <td>1000004038</td>\n",
       "      <td>Where is Hank?</td>\n",
       "      <td>Narrative Film</td>\n",
       "      <td>Film &amp; Video</td>\n",
       "      <td>USD</td>\n",
       "      <td>2013-02-26</td>\n",
       "      <td>2013-01-12 00:20:50</td>\n",
       "      <td>failed</td>\n",
       "      <td>3</td>\n",
       "      <td>US</td>\n",
       "      <td>220.0</td>\n",
       "      <td>45000.00</td>\n",
       "    </tr>\n",
       "    <tr>\n",
       "      <th>3</th>\n",
       "      <td>3</td>\n",
       "      <td>1000007540</td>\n",
       "      <td>ToshiCapital Rekordz Needs Help to Complete Album</td>\n",
       "      <td>Music</td>\n",
       "      <td>Music</td>\n",
       "      <td>USD</td>\n",
       "      <td>2012-04-16</td>\n",
       "      <td>2012-03-17 03:24:11</td>\n",
       "      <td>failed</td>\n",
       "      <td>1</td>\n",
       "      <td>US</td>\n",
       "      <td>1.0</td>\n",
       "      <td>5000.00</td>\n",
       "    </tr>\n",
       "    <tr>\n",
       "      <th>4</th>\n",
       "      <td>4</td>\n",
       "      <td>1000011046</td>\n",
       "      <td>Community Film Project: The Art of Neighborhoo...</td>\n",
       "      <td>Film &amp; Video</td>\n",
       "      <td>Film &amp; Video</td>\n",
       "      <td>USD</td>\n",
       "      <td>2015-08-29</td>\n",
       "      <td>2015-07-04 08:35:03</td>\n",
       "      <td>canceled</td>\n",
       "      <td>14</td>\n",
       "      <td>US</td>\n",
       "      <td>1283.0</td>\n",
       "      <td>19500.00</td>\n",
       "    </tr>\n",
       "  </tbody>\n",
       "</table>\n",
       "</div>"
      ],
      "text/plain": [
       "   Unnamed: 0          ID                                               name  \\\n",
       "0           0  1000002330                    The Songs of Adelaide & Abullah   \n",
       "1           1  1000003930      Greeting From Earth: ZGAC Arts Capsule For ET   \n",
       "2           2  1000004038                                     Where is Hank?   \n",
       "3           3  1000007540  ToshiCapital Rekordz Needs Help to Complete Album   \n",
       "4           4  1000011046  Community Film Project: The Art of Neighborhoo...   \n",
       "\n",
       "         category main_category currency    deadline             launched  \\\n",
       "0          Poetry    Publishing      GBP  2015-10-09  2015-08-11 12:12:28   \n",
       "1  Narrative Film  Film & Video      USD  2017-11-01  2017-09-02 04:43:57   \n",
       "2  Narrative Film  Film & Video      USD  2013-02-26  2013-01-12 00:20:50   \n",
       "3           Music         Music      USD  2012-04-16  2012-03-17 03:24:11   \n",
       "4    Film & Video  Film & Video      USD  2015-08-29  2015-07-04 08:35:03   \n",
       "\n",
       "      state  backers country  pledged      goal  \n",
       "0    failed        0      GB      0.0   1533.95  \n",
       "1    failed       15      US   2421.0  30000.00  \n",
       "2    failed        3      US    220.0  45000.00  \n",
       "3    failed        1      US      1.0   5000.00  \n",
       "4  canceled       14      US   1283.0  19500.00  "
      ]
     },
     "execution_count": 7,
     "metadata": {},
     "output_type": "execute_result"
    }
   ],
   "source": [
    "# Check your dataframe again to see if your columns are successfully renamed\n",
    "df.head()"
   ]
  },
  {
   "cell_type": "markdown",
   "id": "26a66451",
   "metadata": {
    "id": "26a66451"
   },
   "source": [
    "### Question 1 (5 pts)"
   ]
  },
  {
   "cell_type": "markdown",
   "id": "LZfLdSU1tesD",
   "metadata": {
    "id": "LZfLdSU1tesD"
   },
   "source": [
    "Write one line of code to check for duplications (of the whole row). Your code should return only one number, which is the total number of duplicated rows."
   ]
  },
  {
   "cell_type": "code",
   "execution_count": 8,
   "id": "GYOEYdQi9wzU",
   "metadata": {
    "id": "GYOEYdQi9wzU"
   },
   "outputs": [
    {
     "data": {
      "text/plain": [
       "0"
      ]
     },
     "execution_count": 8,
     "metadata": {},
     "output_type": "execute_result"
    }
   ],
   "source": [
    "# TEST YOUR CODE HERE\n",
    "df.duplicated().sum()"
   ]
  },
  {
   "cell_type": "markdown",
   "id": "3408e925",
   "metadata": {
    "id": "3408e925"
   },
   "source": [
    "### Question 2 (5 pts)"
   ]
  },
  {
   "cell_type": "markdown",
   "id": "NohxQAArtmvU",
   "metadata": {
    "id": "NohxQAArtmvU"
   },
   "source": [
    "How about duplicated values in the column `name`? Which of the following expression gives the number of rows with duplicated names?\n",
    "\n",
    "<ol type=\"A\">\n",
    "  <li><code>df['name'].isduplicated().sum()</code></li>\n",
    "  <li><code>df[df['name'].duplicated()].sum()</code></li>\n",
    "  <li><code>df['name'].duplicated().sum()</code></li>\n",
    "  <li><code>df.duplicated().sum()</code></li>\n",
    "</ol>"
   ]
  },
  {
   "cell_type": "code",
   "execution_count": 9,
   "id": "HhB0AKvj9-Fi",
   "metadata": {
    "id": "HhB0AKvj9-Fi"
   },
   "outputs": [
    {
     "data": {
      "text/plain": [
       "2896"
      ]
     },
     "execution_count": 9,
     "metadata": {},
     "output_type": "execute_result"
    }
   ],
   "source": [
    "# YOUR CODE/ANSWER HERE\n",
    "\n",
    "df['name'].duplicated().sum()"
   ]
  },
  {
   "cell_type": "markdown",
   "id": "adac13c9",
   "metadata": {
    "id": "adac13c9"
   },
   "source": [
    "### Question 3 (5 pts)"
   ]
  },
  {
   "cell_type": "markdown",
   "id": "KCIHe3eAtv7d",
   "metadata": {
    "id": "KCIHe3eAtv7d"
   },
   "source": [
    "Which of the following expression selects all rows with duplicated names?\n",
    "\n",
    "<ol type=\"A\">\n",
    "  <li><code>df(df['name'].duplicated())</code></li>\n",
    "  <li><code>df[df['name'].duplicated()]</code></li>\n",
    "  <li><code>df['name'].duplicated()</code></li>\n",
    "  <li><code>df[df.duplicated()]</code></li>\n",
    "</ol>"
   ]
  },
  {
   "cell_type": "code",
   "execution_count": 10,
   "id": "VTsIeZ5E9_uC",
   "metadata": {
    "id": "VTsIeZ5E9_uC"
   },
   "outputs": [
    {
     "data": {
      "text/html": [
       "<div>\n",
       "<style scoped>\n",
       "    .dataframe tbody tr th:only-of-type {\n",
       "        vertical-align: middle;\n",
       "    }\n",
       "\n",
       "    .dataframe tbody tr th {\n",
       "        vertical-align: top;\n",
       "    }\n",
       "\n",
       "    .dataframe thead th {\n",
       "        text-align: right;\n",
       "    }\n",
       "</style>\n",
       "<table border=\"1\" class=\"dataframe\">\n",
       "  <thead>\n",
       "    <tr style=\"text-align: right;\">\n",
       "      <th></th>\n",
       "      <th>Unnamed: 0</th>\n",
       "      <th>ID</th>\n",
       "      <th>name</th>\n",
       "      <th>category</th>\n",
       "      <th>main_category</th>\n",
       "      <th>currency</th>\n",
       "      <th>deadline</th>\n",
       "      <th>launched</th>\n",
       "      <th>state</th>\n",
       "      <th>backers</th>\n",
       "      <th>country</th>\n",
       "      <th>pledged</th>\n",
       "      <th>goal</th>\n",
       "    </tr>\n",
       "  </thead>\n",
       "  <tbody>\n",
       "    <tr>\n",
       "      <th>6379</th>\n",
       "      <td>6379</td>\n",
       "      <td>1032645935</td>\n",
       "      <td>Cancelled (Canceled)</td>\n",
       "      <td>Design</td>\n",
       "      <td>Design</td>\n",
       "      <td>USD</td>\n",
       "      <td>2015-06-05</td>\n",
       "      <td>2015-05-06 12:29:08</td>\n",
       "      <td>canceled</td>\n",
       "      <td>17</td>\n",
       "      <td>US</td>\n",
       "      <td>3105.00</td>\n",
       "      <td>100000.00</td>\n",
       "    </tr>\n",
       "    <tr>\n",
       "      <th>7743</th>\n",
       "      <td>7743</td>\n",
       "      <td>1039093987</td>\n",
       "      <td>New EP/Music Development</td>\n",
       "      <td>Music</td>\n",
       "      <td>Music</td>\n",
       "      <td>USD</td>\n",
       "      <td>2016-01-07</td>\n",
       "      <td>2015-11-24 15:29:35</td>\n",
       "      <td>undefined</td>\n",
       "      <td>0</td>\n",
       "      <td>N,0\"</td>\n",
       "      <td>257.00</td>\n",
       "      <td>3800.00</td>\n",
       "    </tr>\n",
       "    <tr>\n",
       "      <th>8356</th>\n",
       "      <td>8356</td>\n",
       "      <td>1042208764</td>\n",
       "      <td>The Basement</td>\n",
       "      <td>Horror</td>\n",
       "      <td>Film &amp; Video</td>\n",
       "      <td>USD</td>\n",
       "      <td>2015-05-07</td>\n",
       "      <td>2015-04-07 18:24:19</td>\n",
       "      <td>successful</td>\n",
       "      <td>106</td>\n",
       "      <td>US</td>\n",
       "      <td>12311.00</td>\n",
       "      <td>12000.00</td>\n",
       "    </tr>\n",
       "    <tr>\n",
       "      <th>8448</th>\n",
       "      <td>8448</td>\n",
       "      <td>1042642941</td>\n",
       "      <td>The Gift</td>\n",
       "      <td>Film &amp; Video</td>\n",
       "      <td>Film &amp; Video</td>\n",
       "      <td>USD</td>\n",
       "      <td>2013-05-08</td>\n",
       "      <td>2013-04-17 01:55:27</td>\n",
       "      <td>successful</td>\n",
       "      <td>37</td>\n",
       "      <td>US</td>\n",
       "      <td>3370.00</td>\n",
       "      <td>3000.00</td>\n",
       "    </tr>\n",
       "    <tr>\n",
       "      <th>8761</th>\n",
       "      <td>8761</td>\n",
       "      <td>1044230780</td>\n",
       "      <td>Redemption</td>\n",
       "      <td>Narrative Film</td>\n",
       "      <td>Film &amp; Video</td>\n",
       "      <td>USD</td>\n",
       "      <td>2012-08-25</td>\n",
       "      <td>2012-06-26 19:13:21</td>\n",
       "      <td>successful</td>\n",
       "      <td>67</td>\n",
       "      <td>US</td>\n",
       "      <td>11440.00</td>\n",
       "      <td>11000.00</td>\n",
       "    </tr>\n",
       "    <tr>\n",
       "      <th>...</th>\n",
       "      <td>...</td>\n",
       "      <td>...</td>\n",
       "      <td>...</td>\n",
       "      <td>...</td>\n",
       "      <td>...</td>\n",
       "      <td>...</td>\n",
       "      <td>...</td>\n",
       "      <td>...</td>\n",
       "      <td>...</td>\n",
       "      <td>...</td>\n",
       "      <td>...</td>\n",
       "      <td>...</td>\n",
       "      <td>...</td>\n",
       "    </tr>\n",
       "    <tr>\n",
       "      <th>378140</th>\n",
       "      <td>378140</td>\n",
       "      <td>997542782</td>\n",
       "      <td>Innocent Sin</td>\n",
       "      <td>Indie Rock</td>\n",
       "      <td>Music</td>\n",
       "      <td>USD</td>\n",
       "      <td>2015-01-25</td>\n",
       "      <td>2014-12-26 18:04:28</td>\n",
       "      <td>successful</td>\n",
       "      <td>15</td>\n",
       "      <td>US</td>\n",
       "      <td>600.00</td>\n",
       "      <td>300.00</td>\n",
       "    </tr>\n",
       "    <tr>\n",
       "      <th>378224</th>\n",
       "      <td>378224</td>\n",
       "      <td>997919903</td>\n",
       "      <td>Grassroots</td>\n",
       "      <td>Publishing</td>\n",
       "      <td>Publishing</td>\n",
       "      <td>EUR</td>\n",
       "      <td>2017-09-14</td>\n",
       "      <td>2017-08-15 18:36:18</td>\n",
       "      <td>failed</td>\n",
       "      <td>3</td>\n",
       "      <td>IE</td>\n",
       "      <td>25.12</td>\n",
       "      <td>11963.01</td>\n",
       "    </tr>\n",
       "    <tr>\n",
       "      <th>378426</th>\n",
       "      <td>378426</td>\n",
       "      <td>998836498</td>\n",
       "      <td>The InAction</td>\n",
       "      <td>Camera Equipment</td>\n",
       "      <td>Technology</td>\n",
       "      <td>USD</td>\n",
       "      <td>2016-07-29</td>\n",
       "      <td>2016-06-28 04:00:08</td>\n",
       "      <td>canceled</td>\n",
       "      <td>5</td>\n",
       "      <td>US</td>\n",
       "      <td>670.00</td>\n",
       "      <td>80000.00</td>\n",
       "    </tr>\n",
       "    <tr>\n",
       "      <th>378475</th>\n",
       "      <td>378475</td>\n",
       "      <td>999055513</td>\n",
       "      <td>The Last Hurrah</td>\n",
       "      <td>Rock</td>\n",
       "      <td>Music</td>\n",
       "      <td>USD</td>\n",
       "      <td>2012-06-03</td>\n",
       "      <td>2012-05-04 15:20:41</td>\n",
       "      <td>successful</td>\n",
       "      <td>69</td>\n",
       "      <td>US</td>\n",
       "      <td>7665.00</td>\n",
       "      <td>5500.00</td>\n",
       "    </tr>\n",
       "    <tr>\n",
       "      <th>378548</th>\n",
       "      <td>378548</td>\n",
       "      <td>999410766</td>\n",
       "      <td>Guilt</td>\n",
       "      <td>Shorts</td>\n",
       "      <td>Film &amp; Video</td>\n",
       "      <td>USD</td>\n",
       "      <td>2014-05-16</td>\n",
       "      <td>2014-04-16 17:45:46</td>\n",
       "      <td>failed</td>\n",
       "      <td>7</td>\n",
       "      <td>US</td>\n",
       "      <td>791.00</td>\n",
       "      <td>65000.00</td>\n",
       "    </tr>\n",
       "  </tbody>\n",
       "</table>\n",
       "<p>2896 rows × 13 columns</p>\n",
       "</div>"
      ],
      "text/plain": [
       "        Unnamed: 0          ID                      name          category  \\\n",
       "6379          6379  1032645935      Cancelled (Canceled)            Design   \n",
       "7743          7743  1039093987  New EP/Music Development             Music   \n",
       "8356          8356  1042208764              The Basement            Horror   \n",
       "8448          8448  1042642941                  The Gift      Film & Video   \n",
       "8761          8761  1044230780                Redemption    Narrative Film   \n",
       "...            ...         ...                       ...               ...   \n",
       "378140      378140   997542782              Innocent Sin        Indie Rock   \n",
       "378224      378224   997919903                Grassroots        Publishing   \n",
       "378426      378426   998836498              The InAction  Camera Equipment   \n",
       "378475      378475   999055513           The Last Hurrah              Rock   \n",
       "378548      378548   999410766                     Guilt            Shorts   \n",
       "\n",
       "       main_category currency    deadline             launched       state  \\\n",
       "6379          Design      USD  2015-06-05  2015-05-06 12:29:08    canceled   \n",
       "7743           Music      USD  2016-01-07  2015-11-24 15:29:35   undefined   \n",
       "8356    Film & Video      USD  2015-05-07  2015-04-07 18:24:19  successful   \n",
       "8448    Film & Video      USD  2013-05-08  2013-04-17 01:55:27  successful   \n",
       "8761    Film & Video      USD  2012-08-25  2012-06-26 19:13:21  successful   \n",
       "...              ...      ...         ...                  ...         ...   \n",
       "378140         Music      USD  2015-01-25  2014-12-26 18:04:28  successful   \n",
       "378224    Publishing      EUR  2017-09-14  2017-08-15 18:36:18      failed   \n",
       "378426    Technology      USD  2016-07-29  2016-06-28 04:00:08    canceled   \n",
       "378475         Music      USD  2012-06-03  2012-05-04 15:20:41  successful   \n",
       "378548  Film & Video      USD  2014-05-16  2014-04-16 17:45:46      failed   \n",
       "\n",
       "        backers country   pledged       goal  \n",
       "6379         17      US   3105.00  100000.00  \n",
       "7743          0    N,0\"    257.00    3800.00  \n",
       "8356        106      US  12311.00   12000.00  \n",
       "8448         37      US   3370.00    3000.00  \n",
       "8761         67      US  11440.00   11000.00  \n",
       "...         ...     ...       ...        ...  \n",
       "378140       15      US    600.00     300.00  \n",
       "378224        3      IE     25.12   11963.01  \n",
       "378426        5      US    670.00   80000.00  \n",
       "378475       69      US   7665.00    5500.00  \n",
       "378548        7      US    791.00   65000.00  \n",
       "\n",
       "[2896 rows x 13 columns]"
      ]
     },
     "execution_count": 10,
     "metadata": {},
     "output_type": "execute_result"
    }
   ],
   "source": [
    "# TEST YOUR CODE HERE\n",
    "df[df['name'].duplicated()]"
   ]
  },
  {
   "cell_type": "markdown",
   "id": "ae00869e",
   "metadata": {
    "id": "ae00869e"
   },
   "source": [
    "### Task\n"
   ]
  },
  {
   "attachments": {},
   "cell_type": "markdown",
   "id": "KaBZk-iK_ijh",
   "metadata": {
    "id": "KaBZk-iK_ijh"
   },
   "source": [
    "From duplicated **name**, Let's search for all the rows that have name '**The Gift**'."
   ]
  },
  {
   "cell_type": "code",
   "execution_count": 11,
   "id": "dcde4331",
   "metadata": {},
   "outputs": [
    {
     "data": {
      "text/html": [
       "<div>\n",
       "<style scoped>\n",
       "    .dataframe tbody tr th:only-of-type {\n",
       "        vertical-align: middle;\n",
       "    }\n",
       "\n",
       "    .dataframe tbody tr th {\n",
       "        vertical-align: top;\n",
       "    }\n",
       "\n",
       "    .dataframe thead th {\n",
       "        text-align: right;\n",
       "    }\n",
       "</style>\n",
       "<table border=\"1\" class=\"dataframe\">\n",
       "  <thead>\n",
       "    <tr style=\"text-align: right;\">\n",
       "      <th></th>\n",
       "      <th>Unnamed: 0</th>\n",
       "      <th>ID</th>\n",
       "      <th>name</th>\n",
       "      <th>category</th>\n",
       "      <th>main_category</th>\n",
       "      <th>currency</th>\n",
       "      <th>deadline</th>\n",
       "      <th>launched</th>\n",
       "      <th>state</th>\n",
       "      <th>backers</th>\n",
       "      <th>country</th>\n",
       "      <th>pledged</th>\n",
       "      <th>goal</th>\n",
       "    </tr>\n",
       "  </thead>\n",
       "  <tbody>\n",
       "    <tr>\n",
       "      <th>5003</th>\n",
       "      <td>5003</td>\n",
       "      <td>1025568649</td>\n",
       "      <td>The Gift</td>\n",
       "      <td>Shorts</td>\n",
       "      <td>Film &amp; Video</td>\n",
       "      <td>USD</td>\n",
       "      <td>2014-05-10</td>\n",
       "      <td>2014-04-29 03:14:49</td>\n",
       "      <td>successful</td>\n",
       "      <td>27</td>\n",
       "      <td>US</td>\n",
       "      <td>4560.0</td>\n",
       "      <td>4500.0</td>\n",
       "    </tr>\n",
       "    <tr>\n",
       "      <th>8448</th>\n",
       "      <td>8448</td>\n",
       "      <td>1042642941</td>\n",
       "      <td>The Gift</td>\n",
       "      <td>Film &amp; Video</td>\n",
       "      <td>Film &amp; Video</td>\n",
       "      <td>USD</td>\n",
       "      <td>2013-05-08</td>\n",
       "      <td>2013-04-17 01:55:27</td>\n",
       "      <td>successful</td>\n",
       "      <td>37</td>\n",
       "      <td>US</td>\n",
       "      <td>3370.0</td>\n",
       "      <td>3000.0</td>\n",
       "    </tr>\n",
       "    <tr>\n",
       "      <th>77475</th>\n",
       "      <td>77475</td>\n",
       "      <td>1394078347</td>\n",
       "      <td>The Gift</td>\n",
       "      <td>Shorts</td>\n",
       "      <td>Film &amp; Video</td>\n",
       "      <td>USD</td>\n",
       "      <td>2011-04-09</td>\n",
       "      <td>2011-03-09 00:15:36</td>\n",
       "      <td>failed</td>\n",
       "      <td>0</td>\n",
       "      <td>US</td>\n",
       "      <td>0.0</td>\n",
       "      <td>1500.0</td>\n",
       "    </tr>\n",
       "    <tr>\n",
       "      <th>135140</th>\n",
       "      <td>135140</td>\n",
       "      <td>168615922</td>\n",
       "      <td>The Gift</td>\n",
       "      <td>Shorts</td>\n",
       "      <td>Film &amp; Video</td>\n",
       "      <td>USD</td>\n",
       "      <td>2011-12-31</td>\n",
       "      <td>2011-11-01 02:28:03</td>\n",
       "      <td>failed</td>\n",
       "      <td>0</td>\n",
       "      <td>US</td>\n",
       "      <td>0.0</td>\n",
       "      <td>10000.0</td>\n",
       "    </tr>\n",
       "  </tbody>\n",
       "</table>\n",
       "</div>"
      ],
      "text/plain": [
       "        Unnamed: 0          ID      name      category main_category currency  \\\n",
       "5003          5003  1025568649  The Gift        Shorts  Film & Video      USD   \n",
       "8448          8448  1042642941  The Gift  Film & Video  Film & Video      USD   \n",
       "77475        77475  1394078347  The Gift        Shorts  Film & Video      USD   \n",
       "135140      135140   168615922  The Gift        Shorts  Film & Video      USD   \n",
       "\n",
       "          deadline             launched       state  backers country  pledged  \\\n",
       "5003    2014-05-10  2014-04-29 03:14:49  successful       27      US   4560.0   \n",
       "8448    2013-05-08  2013-04-17 01:55:27  successful       37      US   3370.0   \n",
       "77475   2011-04-09  2011-03-09 00:15:36      failed        0      US      0.0   \n",
       "135140  2011-12-31  2011-11-01 02:28:03      failed        0      US      0.0   \n",
       "\n",
       "           goal  \n",
       "5003     4500.0  \n",
       "8448     3000.0  \n",
       "77475    1500.0  \n",
       "135140  10000.0  "
      ]
     },
     "execution_count": 11,
     "metadata": {},
     "output_type": "execute_result"
    }
   ],
   "source": [
    "df[df['name'] == 'The Gift']"
   ]
  },
  {
   "cell_type": "code",
   "execution_count": 15,
   "id": "4386f9f7",
   "metadata": {
    "id": "4386f9f7"
   },
   "outputs": [
    {
     "data": {
      "text/html": [
       "<div>\n",
       "<style scoped>\n",
       "    .dataframe tbody tr th:only-of-type {\n",
       "        vertical-align: middle;\n",
       "    }\n",
       "\n",
       "    .dataframe tbody tr th {\n",
       "        vertical-align: top;\n",
       "    }\n",
       "\n",
       "    .dataframe thead th {\n",
       "        text-align: right;\n",
       "    }\n",
       "</style>\n",
       "<table border=\"1\" class=\"dataframe\">\n",
       "  <thead>\n",
       "    <tr style=\"text-align: right;\">\n",
       "      <th></th>\n",
       "      <th>Unnamed: 0</th>\n",
       "      <th>ID</th>\n",
       "      <th>name</th>\n",
       "      <th>category</th>\n",
       "      <th>main_category</th>\n",
       "      <th>currency</th>\n",
       "      <th>deadline</th>\n",
       "      <th>launched</th>\n",
       "      <th>state</th>\n",
       "      <th>backers</th>\n",
       "      <th>country</th>\n",
       "      <th>usd_pledged_real</th>\n",
       "      <th>usd_goal_real</th>\n",
       "    </tr>\n",
       "  </thead>\n",
       "  <tbody>\n",
       "    <tr>\n",
       "      <th>8448</th>\n",
       "      <td>8448</td>\n",
       "      <td>1042642941</td>\n",
       "      <td>The Gift</td>\n",
       "      <td>Film &amp; Video</td>\n",
       "      <td>Film &amp; Video</td>\n",
       "      <td>USD</td>\n",
       "      <td>2013-05-08</td>\n",
       "      <td>2013-04-17 01:55:27</td>\n",
       "      <td>successful</td>\n",
       "      <td>37</td>\n",
       "      <td>US</td>\n",
       "      <td>3370.0</td>\n",
       "      <td>3000.0</td>\n",
       "    </tr>\n",
       "    <tr>\n",
       "      <th>77475</th>\n",
       "      <td>77475</td>\n",
       "      <td>1394078347</td>\n",
       "      <td>The Gift</td>\n",
       "      <td>Shorts</td>\n",
       "      <td>Film &amp; Video</td>\n",
       "      <td>USD</td>\n",
       "      <td>2011-04-09</td>\n",
       "      <td>2011-03-09 00:15:36</td>\n",
       "      <td>failed</td>\n",
       "      <td>0</td>\n",
       "      <td>US</td>\n",
       "      <td>0.0</td>\n",
       "      <td>1500.0</td>\n",
       "    </tr>\n",
       "    <tr>\n",
       "      <th>135140</th>\n",
       "      <td>135140</td>\n",
       "      <td>168615922</td>\n",
       "      <td>The Gift</td>\n",
       "      <td>Shorts</td>\n",
       "      <td>Film &amp; Video</td>\n",
       "      <td>USD</td>\n",
       "      <td>2011-12-31</td>\n",
       "      <td>2011-11-01 02:28:03</td>\n",
       "      <td>failed</td>\n",
       "      <td>0</td>\n",
       "      <td>US</td>\n",
       "      <td>0.0</td>\n",
       "      <td>10000.0</td>\n",
       "    </tr>\n",
       "  </tbody>\n",
       "</table>\n",
       "</div>"
      ],
      "text/plain": [
       "        Unnamed: 0          ID      name      category main_category currency  \\\n",
       "8448          8448  1042642941  The Gift  Film & Video  Film & Video      USD   \n",
       "77475        77475  1394078347  The Gift        Shorts  Film & Video      USD   \n",
       "135140      135140   168615922  The Gift        Shorts  Film & Video      USD   \n",
       "\n",
       "          deadline             launched       state  backers country  \\\n",
       "8448    2013-05-08  2013-04-17 01:55:27  successful       37      US   \n",
       "77475   2011-04-09  2011-03-09 00:15:36      failed        0      US   \n",
       "135140  2011-12-31  2011-11-01 02:28:03      failed        0      US   \n",
       "\n",
       "        usd_pledged_real  usd_goal_real  \n",
       "8448              3370.0         3000.0  \n",
       "77475                0.0         1500.0  \n",
       "135140               0.0        10000.0  "
      ]
     },
     "execution_count": 15,
     "metadata": {},
     "output_type": "execute_result"
    }
   ],
   "source": [
    "# YOUR CODE HERE\n"
   ]
  },
  {
   "cell_type": "markdown",
   "id": "23cdcaad",
   "metadata": {
    "id": "23cdcaad"
   },
   "source": [
    "## **A.2** - Structural Error, Correct Datatype\n",
    "---"
   ]
  },
  {
   "cell_type": "markdown",
   "id": "6b1569d3",
   "metadata": {
    "id": "6b1569d3"
   },
   "source": [
    "### Task"
   ]
  },
  {
   "cell_type": "markdown",
   "id": "hhcdUFaT_l_n",
   "metadata": {
    "id": "hhcdUFaT_l_n"
   },
   "source": [
    "Write one line of code to print the overall information of the dataset. Are there any columns that you feel like they have the wrong datatype?"
   ]
  },
  {
   "cell_type": "code",
   "execution_count": 12,
   "id": "5dece5cf",
   "metadata": {
    "id": "5dece5cf"
   },
   "outputs": [
    {
     "name": "stdout",
     "output_type": "stream",
     "text": [
      "<class 'pandas.core.frame.DataFrame'>\n",
      "RangeIndex: 378661 entries, 0 to 378660\n",
      "Data columns (total 13 columns):\n",
      " #   Column         Non-Null Count   Dtype  \n",
      "---  ------         --------------   -----  \n",
      " 0   Unnamed: 0     378661 non-null  int64  \n",
      " 1   ID             378661 non-null  int64  \n",
      " 2   name           378657 non-null  object \n",
      " 3   category       378661 non-null  object \n",
      " 4   main_category  378661 non-null  object \n",
      " 5   currency       378661 non-null  object \n",
      " 6   deadline       378661 non-null  object \n",
      " 7   launched       378661 non-null  object \n",
      " 8   state          378661 non-null  object \n",
      " 9   backers        378661 non-null  int64  \n",
      " 10  country        378661 non-null  object \n",
      " 11  pledged        378661 non-null  float64\n",
      " 12  goal           378661 non-null  float64\n",
      "dtypes: float64(2), int64(3), object(8)\n",
      "memory usage: 37.6+ MB\n"
     ]
    }
   ],
   "source": [
    "# YOUR CODE HERE\n",
    "df.info()"
   ]
  },
  {
   "attachments": {},
   "cell_type": "markdown",
   "id": "e333663c",
   "metadata": {
    "id": "e333663c"
   },
   "source": [
    "The `launched` and `deadline` should be in `datetime` datatype, so you need to convert them to datetime datatype:\n",
    "\n",
    "*Hint: pd.to_datetime()*"
   ]
  },
  {
   "cell_type": "code",
   "execution_count": 13,
   "id": "f9893cf8",
   "metadata": {
    "id": "f9893cf8"
   },
   "outputs": [],
   "source": [
    "# Your code here:\n",
    "df['launched'] = pd.to_datetime(df['launched'])\n",
    "df['deadline'] = pd.to_datetime(df['deadline'])"
   ]
  },
  {
   "cell_type": "markdown",
   "id": "e376aad4",
   "metadata": {
    "id": "e376aad4"
   },
   "source": [
    "Check info one more time to make sure everything goes as plan."
   ]
  },
  {
   "cell_type": "code",
   "execution_count": 14,
   "id": "5eabd57d",
   "metadata": {
    "id": "5eabd57d"
   },
   "outputs": [
    {
     "name": "stdout",
     "output_type": "stream",
     "text": [
      "<class 'pandas.core.frame.DataFrame'>\n",
      "RangeIndex: 378661 entries, 0 to 378660\n",
      "Data columns (total 13 columns):\n",
      " #   Column         Non-Null Count   Dtype         \n",
      "---  ------         --------------   -----         \n",
      " 0   Unnamed: 0     378661 non-null  int64         \n",
      " 1   ID             378661 non-null  int64         \n",
      " 2   name           378657 non-null  object        \n",
      " 3   category       378661 non-null  object        \n",
      " 4   main_category  378661 non-null  object        \n",
      " 5   currency       378661 non-null  object        \n",
      " 6   deadline       378661 non-null  datetime64[ns]\n",
      " 7   launched       378661 non-null  datetime64[ns]\n",
      " 8   state          378661 non-null  object        \n",
      " 9   backers        378661 non-null  int64         \n",
      " 10  country        378661 non-null  object        \n",
      " 11  pledged        378661 non-null  float64       \n",
      " 12  goal           378661 non-null  float64       \n",
      "dtypes: datetime64[ns](2), float64(2), int64(3), object(6)\n",
      "memory usage: 37.6+ MB\n"
     ]
    }
   ],
   "source": [
    "# YOUR CODE HERE\n",
    "df.info()"
   ]
  },
  {
   "cell_type": "markdown",
   "id": "cIp2lkEK2eq5",
   "metadata": {
    "id": "cIp2lkEK2eq5"
   },
   "source": [
    "## **A.3** - Handling Missing Values\n",
    "---"
   ]
  },
  {
   "cell_type": "markdown",
   "id": "b5779535",
   "metadata": {
    "id": "b5779535"
   },
   "source": [
    "### Question 4 (5 pts)"
   ]
  },
  {
   "cell_type": "markdown",
   "id": "e9yTYukBt7Lx",
   "metadata": {
    "id": "e9yTYukBt7Lx"
   },
   "source": [
    "Which of the following expression(s) give the number of null values in *each* column?\n",
    "\n",
    "<ol type=\"A\">\n",
    "  <li><code>df.isna().sum()</code></li>\n",
    "  <li><code>df.null().sum()</code></li>\n",
    "  <li><code>df.isnull().sum()</code></li>\n",
    "  <li><code>sum(df.isnull())</code></li>\n",
    "  <li><code>df.isna.sum()</code></li>\n",
    "  <li><code>sum(df.isna())</code></li>\n",
    "</ol>"
   ]
  },
  {
   "cell_type": "code",
   "execution_count": 15,
   "id": "WjqC4x9d-Hvd",
   "metadata": {
    "id": "WjqC4x9d-Hvd"
   },
   "outputs": [
    {
     "data": {
      "text/plain": [
       "Unnamed: 0       0\n",
       "ID               0\n",
       "name             4\n",
       "category         0\n",
       "main_category    0\n",
       "currency         0\n",
       "deadline         0\n",
       "launched         0\n",
       "state            0\n",
       "backers          0\n",
       "country          0\n",
       "pledged          0\n",
       "goal             0\n",
       "dtype: int64"
      ]
     },
     "execution_count": 15,
     "metadata": {},
     "output_type": "execute_result"
    }
   ],
   "source": [
    "# TEST YOUR CODE HERE\n",
    "df.isna().sum()"
   ]
  },
  {
   "cell_type": "code",
   "execution_count": 16,
   "id": "275b0e79",
   "metadata": {},
   "outputs": [
    {
     "data": {
      "text/plain": [
       "Unnamed: 0       0\n",
       "ID               0\n",
       "name             4\n",
       "category         0\n",
       "main_category    0\n",
       "currency         0\n",
       "deadline         0\n",
       "launched         0\n",
       "state            0\n",
       "backers          0\n",
       "country          0\n",
       "pledged          0\n",
       "goal             0\n",
       "dtype: int64"
      ]
     },
     "execution_count": 16,
     "metadata": {},
     "output_type": "execute_result"
    }
   ],
   "source": [
    "df.isnull().sum()"
   ]
  },
  {
   "cell_type": "markdown",
   "id": "63542259",
   "metadata": {
    "id": "63542259"
   },
   "source": [
    "### Task"
   ]
  },
  {
   "cell_type": "markdown",
   "id": "1RWVsdDT_uuu",
   "metadata": {
    "id": "1RWVsdDT_uuu"
   },
   "source": [
    "Write one line of code to fill all the `NaN` values in name with `Unknown`."
   ]
  },
  {
   "cell_type": "code",
   "execution_count": 17,
   "id": "aecb0847",
   "metadata": {
    "id": "aecb0847"
   },
   "outputs": [],
   "source": [
    "# YOUR CODE HERE\n",
    "df['name'] = df['name'].fillna('Unknown')\n"
   ]
  },
  {
   "cell_type": "markdown",
   "id": "b5d2d32e",
   "metadata": {
    "id": "b5d2d32e"
   },
   "source": [
    "Check the number of `NaN` value one more time to make sure we cleaned them all."
   ]
  },
  {
   "cell_type": "code",
   "execution_count": 18,
   "id": "31d22079",
   "metadata": {
    "id": "31d22079"
   },
   "outputs": [
    {
     "data": {
      "text/plain": [
       "Unnamed: 0       0\n",
       "ID               0\n",
       "name             0\n",
       "category         0\n",
       "main_category    0\n",
       "currency         0\n",
       "deadline         0\n",
       "launched         0\n",
       "state            0\n",
       "backers          0\n",
       "country          0\n",
       "pledged          0\n",
       "goal             0\n",
       "dtype: int64"
      ]
     },
     "execution_count": 18,
     "metadata": {},
     "output_type": "execute_result"
    }
   ],
   "source": [
    "# YOUR CODE HERE\n",
    "df.isnull().sum()"
   ]
  },
  {
   "cell_type": "markdown",
   "id": "t4_UCCLh2J4I",
   "metadata": {
    "id": "t4_UCCLh2J4I"
   },
   "source": [
    "## **A.4** - Handling errors, corrupted data\n",
    "---"
   ]
  },
  {
   "cell_type": "markdown",
   "id": "962021f0",
   "metadata": {
    "id": "962021f0"
   },
   "source": [
    "Scanning through each column to find abnormalities and fix them. Simple as that."
   ]
  },
  {
   "cell_type": "code",
   "execution_count": 19,
   "id": "1424e20b",
   "metadata": {
    "id": "1424e20b"
   },
   "outputs": [
    {
     "data": {
      "text/html": [
       "<div>\n",
       "<style scoped>\n",
       "    .dataframe tbody tr th:only-of-type {\n",
       "        vertical-align: middle;\n",
       "    }\n",
       "\n",
       "    .dataframe tbody tr th {\n",
       "        vertical-align: top;\n",
       "    }\n",
       "\n",
       "    .dataframe thead th {\n",
       "        text-align: right;\n",
       "    }\n",
       "</style>\n",
       "<table border=\"1\" class=\"dataframe\">\n",
       "  <thead>\n",
       "    <tr style=\"text-align: right;\">\n",
       "      <th></th>\n",
       "      <th>Unnamed: 0</th>\n",
       "      <th>ID</th>\n",
       "      <th>name</th>\n",
       "      <th>category</th>\n",
       "      <th>main_category</th>\n",
       "      <th>currency</th>\n",
       "      <th>deadline</th>\n",
       "      <th>launched</th>\n",
       "      <th>state</th>\n",
       "      <th>backers</th>\n",
       "      <th>country</th>\n",
       "      <th>pledged</th>\n",
       "      <th>goal</th>\n",
       "    </tr>\n",
       "  </thead>\n",
       "  <tbody>\n",
       "    <tr>\n",
       "      <th>0</th>\n",
       "      <td>0</td>\n",
       "      <td>1000002330</td>\n",
       "      <td>The Songs of Adelaide &amp; Abullah</td>\n",
       "      <td>Poetry</td>\n",
       "      <td>Publishing</td>\n",
       "      <td>GBP</td>\n",
       "      <td>2015-10-09</td>\n",
       "      <td>2015-08-11 12:12:28</td>\n",
       "      <td>failed</td>\n",
       "      <td>0</td>\n",
       "      <td>GB</td>\n",
       "      <td>0.0</td>\n",
       "      <td>1533.95</td>\n",
       "    </tr>\n",
       "    <tr>\n",
       "      <th>1</th>\n",
       "      <td>1</td>\n",
       "      <td>1000003930</td>\n",
       "      <td>Greeting From Earth: ZGAC Arts Capsule For ET</td>\n",
       "      <td>Narrative Film</td>\n",
       "      <td>Film &amp; Video</td>\n",
       "      <td>USD</td>\n",
       "      <td>2017-11-01</td>\n",
       "      <td>2017-09-02 04:43:57</td>\n",
       "      <td>failed</td>\n",
       "      <td>15</td>\n",
       "      <td>US</td>\n",
       "      <td>2421.0</td>\n",
       "      <td>30000.00</td>\n",
       "    </tr>\n",
       "    <tr>\n",
       "      <th>2</th>\n",
       "      <td>2</td>\n",
       "      <td>1000004038</td>\n",
       "      <td>Where is Hank?</td>\n",
       "      <td>Narrative Film</td>\n",
       "      <td>Film &amp; Video</td>\n",
       "      <td>USD</td>\n",
       "      <td>2013-02-26</td>\n",
       "      <td>2013-01-12 00:20:50</td>\n",
       "      <td>failed</td>\n",
       "      <td>3</td>\n",
       "      <td>US</td>\n",
       "      <td>220.0</td>\n",
       "      <td>45000.00</td>\n",
       "    </tr>\n",
       "    <tr>\n",
       "      <th>3</th>\n",
       "      <td>3</td>\n",
       "      <td>1000007540</td>\n",
       "      <td>ToshiCapital Rekordz Needs Help to Complete Album</td>\n",
       "      <td>Music</td>\n",
       "      <td>Music</td>\n",
       "      <td>USD</td>\n",
       "      <td>2012-04-16</td>\n",
       "      <td>2012-03-17 03:24:11</td>\n",
       "      <td>failed</td>\n",
       "      <td>1</td>\n",
       "      <td>US</td>\n",
       "      <td>1.0</td>\n",
       "      <td>5000.00</td>\n",
       "    </tr>\n",
       "    <tr>\n",
       "      <th>4</th>\n",
       "      <td>4</td>\n",
       "      <td>1000011046</td>\n",
       "      <td>Community Film Project: The Art of Neighborhoo...</td>\n",
       "      <td>Film &amp; Video</td>\n",
       "      <td>Film &amp; Video</td>\n",
       "      <td>USD</td>\n",
       "      <td>2015-08-29</td>\n",
       "      <td>2015-07-04 08:35:03</td>\n",
       "      <td>canceled</td>\n",
       "      <td>14</td>\n",
       "      <td>US</td>\n",
       "      <td>1283.0</td>\n",
       "      <td>19500.00</td>\n",
       "    </tr>\n",
       "  </tbody>\n",
       "</table>\n",
       "</div>"
      ],
      "text/plain": [
       "   Unnamed: 0          ID                                               name  \\\n",
       "0           0  1000002330                    The Songs of Adelaide & Abullah   \n",
       "1           1  1000003930      Greeting From Earth: ZGAC Arts Capsule For ET   \n",
       "2           2  1000004038                                     Where is Hank?   \n",
       "3           3  1000007540  ToshiCapital Rekordz Needs Help to Complete Album   \n",
       "4           4  1000011046  Community Film Project: The Art of Neighborhoo...   \n",
       "\n",
       "         category main_category currency   deadline            launched  \\\n",
       "0          Poetry    Publishing      GBP 2015-10-09 2015-08-11 12:12:28   \n",
       "1  Narrative Film  Film & Video      USD 2017-11-01 2017-09-02 04:43:57   \n",
       "2  Narrative Film  Film & Video      USD 2013-02-26 2013-01-12 00:20:50   \n",
       "3           Music         Music      USD 2012-04-16 2012-03-17 03:24:11   \n",
       "4    Film & Video  Film & Video      USD 2015-08-29 2015-07-04 08:35:03   \n",
       "\n",
       "      state  backers country  pledged      goal  \n",
       "0    failed        0      GB      0.0   1533.95  \n",
       "1    failed       15      US   2421.0  30000.00  \n",
       "2    failed        3      US    220.0  45000.00  \n",
       "3    failed        1      US      1.0   5000.00  \n",
       "4  canceled       14      US   1283.0  19500.00  "
      ]
     },
     "execution_count": 19,
     "metadata": {},
     "output_type": "execute_result"
    }
   ],
   "source": [
    "# Display the dataframe one more time.\n",
    "df.head()\n"
   ]
  },
  {
   "cell_type": "markdown",
   "id": "e0730a74",
   "metadata": {
    "id": "e0730a74"
   },
   "source": [
    "### Question 5 (5 pts)"
   ]
  },
  {
   "cell_type": "markdown",
   "id": "XjOFSYquuDH9",
   "metadata": {
    "id": "XjOFSYquuDH9"
   },
   "source": [
    "Let's start with `category`. Write an expression to display the frequency of the value in the column `category`. (The unique values and how many times they appear)"
   ]
  },
  {
   "cell_type": "code",
   "execution_count": 20,
   "id": "hrCgDTGC-KrK",
   "metadata": {
    "id": "hrCgDTGC-KrK"
   },
   "outputs": [
    {
     "data": {
      "text/plain": [
       "category\n",
       "Product Design     22314\n",
       "Documentary        16139\n",
       "Music              15727\n",
       "Tabletop Games     14180\n",
       "Shorts             12357\n",
       "                   ...  \n",
       "Residencies           69\n",
       "Letterpress           49\n",
       "Chiptune              35\n",
       "Literary Spaces       27\n",
       "Taxidermy             13\n",
       "Name: count, Length: 159, dtype: int64"
      ]
     },
     "execution_count": 20,
     "metadata": {},
     "output_type": "execute_result"
    }
   ],
   "source": [
    "# TEST YOUR CODE HERE\n",
    "df['category'].value_counts()"
   ]
  },
  {
   "cell_type": "markdown",
   "id": "8829a250",
   "metadata": {
    "id": "8829a250"
   },
   "source": [
    "### Question 6 (5 pts)"
   ]
  },
  {
   "cell_type": "markdown",
   "id": "XWRLXBlwuMJz",
   "metadata": {
    "id": "XWRLXBlwuMJz"
   },
   "source": [
    "Everything seems fine. We now move on to `main_category`. Write an expression to display the frequency of the value in the column `main_category`."
   ]
  },
  {
   "cell_type": "code",
   "execution_count": 19,
   "id": "Cfl6j9vc-Ll2",
   "metadata": {
    "id": "Cfl6j9vc-Ll2"
   },
   "outputs": [
    {
     "data": {
      "text/plain": [
       "Film & Video    63585\n",
       "Music           51918\n",
       "Publishing      39874\n",
       "Games           35231\n",
       "Technology      32569\n",
       "Design          30070\n",
       "Art             28153\n",
       "Food            24602\n",
       "Fashion         22816\n",
       "Theater         10913\n",
       "Comics          10819\n",
       "Photography     10779\n",
       "Crafts           8809\n",
       "Journalism       4755\n",
       "Dance            3768\n",
       "Name: main_category, dtype: int64"
      ]
     },
     "execution_count": 19,
     "metadata": {},
     "output_type": "execute_result"
    }
   ],
   "source": [
    "# TEST YOUR CODE HERE\n"
   ]
  },
  {
   "cell_type": "code",
   "execution_count": 21,
   "id": "d0eb5eb4",
   "metadata": {},
   "outputs": [
    {
     "data": {
      "text/plain": [
       "main_category\n",
       "Film & Video    63585\n",
       "Music           51918\n",
       "Publishing      39874\n",
       "Games           35231\n",
       "Technology      32569\n",
       "Design          30070\n",
       "Art             28153\n",
       "Food            24602\n",
       "Fashion         22816\n",
       "Theater         10913\n",
       "Comics          10819\n",
       "Photography     10779\n",
       "Crafts           8809\n",
       "Journalism       4755\n",
       "Dance            3768\n",
       "Name: count, dtype: int64"
      ]
     },
     "execution_count": 21,
     "metadata": {},
     "output_type": "execute_result"
    }
   ],
   "source": [
    "df['main_category'].value_counts()"
   ]
  },
  {
   "cell_type": "markdown",
   "id": "0UkWTXmZBImD",
   "metadata": {
    "id": "0UkWTXmZBImD"
   },
   "source": [
    "### Task"
   ]
  },
  {
   "cell_type": "markdown",
   "id": "42ae2411",
   "metadata": {
    "id": "42ae2411"
   },
   "source": [
    "Let's do the same for `currency` and `state`. Find anything abnormal?"
   ]
  },
  {
   "cell_type": "code",
   "execution_count": 22,
   "id": "015000fb",
   "metadata": {},
   "outputs": [
    {
     "data": {
      "text/plain": [
       "currency\n",
       "USD    295365\n",
       "GBP     34132\n",
       "EUR     17405\n",
       "CAD     14962\n",
       "AUD      7950\n",
       "SEK      1788\n",
       "MXN      1752\n",
       "NZD      1475\n",
       "DKK      1129\n",
       "CHF       768\n",
       "NOK       722\n",
       "HKD       618\n",
       "SGD       555\n",
       "JPY        40\n",
       "Name: count, dtype: int64"
      ]
     },
     "execution_count": 22,
     "metadata": {},
     "output_type": "execute_result"
    }
   ],
   "source": [
    "df['currency'].value_counts()"
   ]
  },
  {
   "cell_type": "code",
   "execution_count": 20,
   "id": "BfGwshdkBV1n",
   "metadata": {
    "id": "BfGwshdkBV1n"
   },
   "outputs": [
    {
     "data": {
      "text/plain": [
       "USD    295365\n",
       "GBP     34132\n",
       "EUR     17405\n",
       "CAD     14962\n",
       "AUD      7950\n",
       "SEK      1788\n",
       "MXN      1752\n",
       "NZD      1475\n",
       "DKK      1129\n",
       "CHF       768\n",
       "NOK       722\n",
       "HKD       618\n",
       "SGD       555\n",
       "JPY        40\n",
       "Name: currency, dtype: int64"
      ]
     },
     "execution_count": 20,
     "metadata": {},
     "output_type": "execute_result"
    }
   ],
   "source": [
    "# YOUR CODE HERE\n"
   ]
  },
  {
   "cell_type": "code",
   "execution_count": 23,
   "id": "ba702739",
   "metadata": {},
   "outputs": [
    {
     "data": {
      "text/plain": [
       "state\n",
       "failed        197719\n",
       "successful    133956\n",
       "canceled       38779\n",
       "undefined       3562\n",
       "live            2799\n",
       "suspended       1846\n",
       "Name: count, dtype: int64"
      ]
     },
     "execution_count": 23,
     "metadata": {},
     "output_type": "execute_result"
    }
   ],
   "source": [
    "# YOUR CODE HERE\n",
    "df['state'].value_counts()"
   ]
  },
  {
   "cell_type": "markdown",
   "id": "09d1d498",
   "metadata": {
    "id": "09d1d498"
   },
   "source": [
    "### Question 7 (5 pts)"
   ]
  },
  {
   "cell_type": "markdown",
   "id": "y0qs9yqruSCT",
   "metadata": {
    "id": "y0qs9yqruSCT"
   },
   "source": [
    "Are there any abnormalities in the column `country`?\n",
    "\n",
    "<ol type=\"A\">\n",
    "  <li>Nope, totally fine.</li>\n",
    "  <li>There is no project in US.</li>\n",
    "  <li>There are two different values that both represent Canada.</li>\n",
    "  <li>There is a weird value called <code>N,0\"</code>.</li>\n",
    "</ol>"
   ]
  },
  {
   "cell_type": "code",
   "execution_count": 24,
   "id": "940b71d5",
   "metadata": {},
   "outputs": [
    {
     "data": {
      "text/plain": [
       "country\n",
       "US      292627\n",
       "GB       33672\n",
       "CA       14756\n",
       "AU        7839\n",
       "DE        4171\n",
       "N,0\"      3797\n",
       "FR        2939\n",
       "IT        2878\n",
       "NL        2868\n",
       "ES        2276\n",
       "SE        1757\n",
       "MX        1752\n",
       "NZ        1447\n",
       "DK        1113\n",
       "IE         811\n",
       "CH         761\n",
       "NO         708\n",
       "HK         618\n",
       "BE         617\n",
       "AT         597\n",
       "SG         555\n",
       "LU          62\n",
       "JP          40\n",
       "Name: count, dtype: int64"
      ]
     },
     "execution_count": 24,
     "metadata": {},
     "output_type": "execute_result"
    }
   ],
   "source": [
    "# TEST YOUR CODE HERE\n",
    "df['country'].value_counts()"
   ]
  },
  {
   "cell_type": "markdown",
   "id": "77f6lRuqB2kP",
   "metadata": {
    "id": "77f6lRuqB2kP"
   },
   "source": [
    "#### *Click to see my solution*"
   ]
  },
  {
   "cell_type": "markdown",
   "id": "5POEAKAwCFSj",
   "metadata": {
    "id": "5POEAKAwCFSj"
   },
   "source": [
    "One way to adjust the error in the column `country` is to refer it with the column `currency`.\n",
    "\n",
    "For example, if the `currency` is `USD`, we can set the value in `country` to `US`.\n"
   ]
  },
  {
   "cell_type": "markdown",
   "id": "33b3f075",
   "metadata": {
    "id": "33b3f075"
   },
   "source": [
    "### Question 8 (5 pts)"
   ]
  },
  {
   "cell_type": "markdown",
   "id": "qO6iLqLaufJa",
   "metadata": {
    "id": "qO6iLqLaufJa"
   },
   "source": [
    "Write an expression to select all rows with that weird value above (`N,0\"`)."
   ]
  },
  {
   "cell_type": "code",
   "execution_count": 25,
   "id": "9oAi7OeJ-Nul",
   "metadata": {
    "id": "9oAi7OeJ-Nul"
   },
   "outputs": [
    {
     "data": {
      "text/html": [
       "<div>\n",
       "<style scoped>\n",
       "    .dataframe tbody tr th:only-of-type {\n",
       "        vertical-align: middle;\n",
       "    }\n",
       "\n",
       "    .dataframe tbody tr th {\n",
       "        vertical-align: top;\n",
       "    }\n",
       "\n",
       "    .dataframe thead th {\n",
       "        text-align: right;\n",
       "    }\n",
       "</style>\n",
       "<table border=\"1\" class=\"dataframe\">\n",
       "  <thead>\n",
       "    <tr style=\"text-align: right;\">\n",
       "      <th></th>\n",
       "      <th>Unnamed: 0</th>\n",
       "      <th>ID</th>\n",
       "      <th>name</th>\n",
       "      <th>category</th>\n",
       "      <th>main_category</th>\n",
       "      <th>currency</th>\n",
       "      <th>deadline</th>\n",
       "      <th>launched</th>\n",
       "      <th>state</th>\n",
       "      <th>backers</th>\n",
       "      <th>country</th>\n",
       "      <th>pledged</th>\n",
       "      <th>goal</th>\n",
       "    </tr>\n",
       "  </thead>\n",
       "  <tbody>\n",
       "    <tr>\n",
       "      <th>169</th>\n",
       "      <td>169</td>\n",
       "      <td>1000694855</td>\n",
       "      <td>STREETFIGHTERZ WHEELIE MURICA</td>\n",
       "      <td>Film &amp; Video</td>\n",
       "      <td>Film &amp; Video</td>\n",
       "      <td>USD</td>\n",
       "      <td>2014-09-20</td>\n",
       "      <td>2014-08-06 21:28:36</td>\n",
       "      <td>undefined</td>\n",
       "      <td>0</td>\n",
       "      <td>N,0\"</td>\n",
       "      <td>555.00</td>\n",
       "      <td>6500.00</td>\n",
       "    </tr>\n",
       "    <tr>\n",
       "      <th>328</th>\n",
       "      <td>328</td>\n",
       "      <td>100149523</td>\n",
       "      <td>Duncan Woods - Chameleon EP</td>\n",
       "      <td>Music</td>\n",
       "      <td>Music</td>\n",
       "      <td>AUD</td>\n",
       "      <td>2015-08-25</td>\n",
       "      <td>2015-08-04 12:05:17</td>\n",
       "      <td>undefined</td>\n",
       "      <td>0</td>\n",
       "      <td>N,0\"</td>\n",
       "      <td>3402.08</td>\n",
       "      <td>3211.53</td>\n",
       "    </tr>\n",
       "    <tr>\n",
       "      <th>632</th>\n",
       "      <td>632</td>\n",
       "      <td>1003023003</td>\n",
       "      <td>The Making of Ashley Kelley's Debut Album</td>\n",
       "      <td>Music</td>\n",
       "      <td>Music</td>\n",
       "      <td>USD</td>\n",
       "      <td>2015-04-09</td>\n",
       "      <td>2015-03-10 20:06:13</td>\n",
       "      <td>undefined</td>\n",
       "      <td>0</td>\n",
       "      <td>N,0\"</td>\n",
       "      <td>3576.00</td>\n",
       "      <td>3500.00</td>\n",
       "    </tr>\n",
       "    <tr>\n",
       "      <th>647</th>\n",
       "      <td>647</td>\n",
       "      <td>1003130892</td>\n",
       "      <td>Butter Side Down Debut Album</td>\n",
       "      <td>Music</td>\n",
       "      <td>Music</td>\n",
       "      <td>USD</td>\n",
       "      <td>2015-11-26</td>\n",
       "      <td>2015-11-02 22:09:19</td>\n",
       "      <td>undefined</td>\n",
       "      <td>0</td>\n",
       "      <td>N,0\"</td>\n",
       "      <td>7007.80</td>\n",
       "      <td>6000.00</td>\n",
       "    </tr>\n",
       "    <tr>\n",
       "      <th>749</th>\n",
       "      <td>749</td>\n",
       "      <td>1003629045</td>\n",
       "      <td>Chase Goehring debut EP</td>\n",
       "      <td>Music</td>\n",
       "      <td>Music</td>\n",
       "      <td>USD</td>\n",
       "      <td>2016-03-21</td>\n",
       "      <td>2016-02-23 03:09:49</td>\n",
       "      <td>undefined</td>\n",
       "      <td>0</td>\n",
       "      <td>N,0\"</td>\n",
       "      <td>3660.38</td>\n",
       "      <td>3000.00</td>\n",
       "    </tr>\n",
       "    <tr>\n",
       "      <th>...</th>\n",
       "      <td>...</td>\n",
       "      <td>...</td>\n",
       "      <td>...</td>\n",
       "      <td>...</td>\n",
       "      <td>...</td>\n",
       "      <td>...</td>\n",
       "      <td>...</td>\n",
       "      <td>...</td>\n",
       "      <td>...</td>\n",
       "      <td>...</td>\n",
       "      <td>...</td>\n",
       "      <td>...</td>\n",
       "      <td>...</td>\n",
       "    </tr>\n",
       "    <tr>\n",
       "      <th>378233</th>\n",
       "      <td>378233</td>\n",
       "      <td>997971307</td>\n",
       "      <td>EQUUS International Film Festival®, all-equine...</td>\n",
       "      <td>Film &amp; Video</td>\n",
       "      <td>Film &amp; Video</td>\n",
       "      <td>USD</td>\n",
       "      <td>2015-02-03</td>\n",
       "      <td>2014-12-05 04:19:14</td>\n",
       "      <td>undefined</td>\n",
       "      <td>0</td>\n",
       "      <td>N,0\"</td>\n",
       "      <td>10.00</td>\n",
       "      <td>7500.00</td>\n",
       "    </tr>\n",
       "    <tr>\n",
       "      <th>378303</th>\n",
       "      <td>378303</td>\n",
       "      <td>998319149</td>\n",
       "      <td>Emily 2050 - Short Film</td>\n",
       "      <td>Film &amp; Video</td>\n",
       "      <td>Film &amp; Video</td>\n",
       "      <td>CAD</td>\n",
       "      <td>2014-05-23</td>\n",
       "      <td>2014-04-08 00:30:09</td>\n",
       "      <td>undefined</td>\n",
       "      <td>0</td>\n",
       "      <td>N,0\"</td>\n",
       "      <td>2845.61</td>\n",
       "      <td>2752.04</td>\n",
       "    </tr>\n",
       "    <tr>\n",
       "      <th>378434</th>\n",
       "      <td>378434</td>\n",
       "      <td>9988744</td>\n",
       "      <td>Matthew Stephens Music</td>\n",
       "      <td>Music</td>\n",
       "      <td>Music</td>\n",
       "      <td>USD</td>\n",
       "      <td>2016-02-05</td>\n",
       "      <td>2016-01-06 21:59:23</td>\n",
       "      <td>undefined</td>\n",
       "      <td>0</td>\n",
       "      <td>N,0\"</td>\n",
       "      <td>235.00</td>\n",
       "      <td>5000.00</td>\n",
       "    </tr>\n",
       "    <tr>\n",
       "      <th>378585</th>\n",
       "      <td>378585</td>\n",
       "      <td>999610349</td>\n",
       "      <td>Lady Vendredi: Afrofuturist concept 12 inch EP</td>\n",
       "      <td>Music</td>\n",
       "      <td>Music</td>\n",
       "      <td>GBP</td>\n",
       "      <td>2015-10-19</td>\n",
       "      <td>2015-09-21 22:33:18</td>\n",
       "      <td>undefined</td>\n",
       "      <td>0</td>\n",
       "      <td>N,0\"</td>\n",
       "      <td>3273.36</td>\n",
       "      <td>3080.81</td>\n",
       "    </tr>\n",
       "    <tr>\n",
       "      <th>378588</th>\n",
       "      <td>378588</td>\n",
       "      <td>999621278</td>\n",
       "      <td>Jeune auteur a besoin de vous!</td>\n",
       "      <td>Publishing</td>\n",
       "      <td>Publishing</td>\n",
       "      <td>EUR</td>\n",
       "      <td>2015-11-20</td>\n",
       "      <td>2015-10-21 21:28:13</td>\n",
       "      <td>undefined</td>\n",
       "      <td>0</td>\n",
       "      <td>N,0\"</td>\n",
       "      <td>0.00</td>\n",
       "      <td>1710.08</td>\n",
       "    </tr>\n",
       "  </tbody>\n",
       "</table>\n",
       "<p>3797 rows × 13 columns</p>\n",
       "</div>"
      ],
      "text/plain": [
       "        Unnamed: 0          ID  \\\n",
       "169            169  1000694855   \n",
       "328            328   100149523   \n",
       "632            632  1003023003   \n",
       "647            647  1003130892   \n",
       "749            749  1003629045   \n",
       "...            ...         ...   \n",
       "378233      378233   997971307   \n",
       "378303      378303   998319149   \n",
       "378434      378434     9988744   \n",
       "378585      378585   999610349   \n",
       "378588      378588   999621278   \n",
       "\n",
       "                                                     name      category  \\\n",
       "169                         STREETFIGHTERZ WHEELIE MURICA  Film & Video   \n",
       "328                           Duncan Woods - Chameleon EP         Music   \n",
       "632             The Making of Ashley Kelley's Debut Album         Music   \n",
       "647                          Butter Side Down Debut Album         Music   \n",
       "749                               Chase Goehring debut EP         Music   \n",
       "...                                                   ...           ...   \n",
       "378233  EQUUS International Film Festival®, all-equine...  Film & Video   \n",
       "378303                            Emily 2050 - Short Film  Film & Video   \n",
       "378434                             Matthew Stephens Music         Music   \n",
       "378585     Lady Vendredi: Afrofuturist concept 12 inch EP         Music   \n",
       "378588                     Jeune auteur a besoin de vous!    Publishing   \n",
       "\n",
       "       main_category currency   deadline            launched      state  \\\n",
       "169     Film & Video      USD 2014-09-20 2014-08-06 21:28:36  undefined   \n",
       "328            Music      AUD 2015-08-25 2015-08-04 12:05:17  undefined   \n",
       "632            Music      USD 2015-04-09 2015-03-10 20:06:13  undefined   \n",
       "647            Music      USD 2015-11-26 2015-11-02 22:09:19  undefined   \n",
       "749            Music      USD 2016-03-21 2016-02-23 03:09:49  undefined   \n",
       "...              ...      ...        ...                 ...        ...   \n",
       "378233  Film & Video      USD 2015-02-03 2014-12-05 04:19:14  undefined   \n",
       "378303  Film & Video      CAD 2014-05-23 2014-04-08 00:30:09  undefined   \n",
       "378434         Music      USD 2016-02-05 2016-01-06 21:59:23  undefined   \n",
       "378585         Music      GBP 2015-10-19 2015-09-21 22:33:18  undefined   \n",
       "378588    Publishing      EUR 2015-11-20 2015-10-21 21:28:13  undefined   \n",
       "\n",
       "        backers country  pledged     goal  \n",
       "169           0    N,0\"   555.00  6500.00  \n",
       "328           0    N,0\"  3402.08  3211.53  \n",
       "632           0    N,0\"  3576.00  3500.00  \n",
       "647           0    N,0\"  7007.80  6000.00  \n",
       "749           0    N,0\"  3660.38  3000.00  \n",
       "...         ...     ...      ...      ...  \n",
       "378233        0    N,0\"    10.00  7500.00  \n",
       "378303        0    N,0\"  2845.61  2752.04  \n",
       "378434        0    N,0\"   235.00  5000.00  \n",
       "378585        0    N,0\"  3273.36  3080.81  \n",
       "378588        0    N,0\"     0.00  1710.08  \n",
       "\n",
       "[3797 rows x 13 columns]"
      ]
     },
     "execution_count": 25,
     "metadata": {},
     "output_type": "execute_result"
    }
   ],
   "source": [
    "# TEST YOUR CODE HERE\n",
    "df[df['country'] == 'N,0\"']"
   ]
  },
  {
   "cell_type": "markdown",
   "id": "52269b4a",
   "metadata": {
    "id": "52269b4a"
   },
   "source": [
    "### Question 9 (5 pts)"
   ]
  },
  {
   "cell_type": "markdown",
   "id": "y15mlWtFuhiX",
   "metadata": {
    "id": "y15mlWtFuhiX"
   },
   "source": [
    "Write one line of code to return the ***unique currencies*** of the projects that have country as `N,0\"`?"
   ]
  },
  {
   "cell_type": "code",
   "execution_count": 26,
   "id": "liT3aqBl-O-x",
   "metadata": {
    "id": "liT3aqBl-O-x"
   },
   "outputs": [
    {
     "data": {
      "text/plain": [
       "array(['USD', 'AUD', 'CAD', 'GBP', 'EUR', 'SEK', 'DKK', 'NZD', 'NOK',\n",
       "       'CHF'], dtype=object)"
      ]
     },
     "execution_count": 26,
     "metadata": {},
     "output_type": "execute_result"
    }
   ],
   "source": [
    "# TEST YOUR CODE HERE\n",
    "df[df['country'] == 'N,0\"']['currency'].unique()"
   ]
  },
  {
   "cell_type": "markdown",
   "id": "117d16d9",
   "metadata": {
    "id": "117d16d9"
   },
   "source": [
    "### Task"
   ]
  },
  {
   "cell_type": "markdown",
   "id": "oRwVKNitAEzr",
   "metadata": {
    "id": "oRwVKNitAEzr"
   },
   "source": [
    "Our mission is apply a check function onto each row of the country-N0\" part.\n",
    "\n",
    "First, define a function that takes in a whole data row. \n",
    "\n",
    "- If currency is `USD` ---> country is `US`\n",
    "- If currency is `AUD` ---> country is `AU`\n",
    "- If currency is `CAD` ---> country is `CA`\n",
    "- If currency is `GBP` ---> country is `GB`\n",
    "- If currency is `SEK` ---> country is `SE`\n",
    "- If currency is `DKK` ---> country is `DK`\n",
    "- If currency is `NZD` ---> country is `NZ`\n",
    "- If currency is `NOK` ---> country is `NO`\n",
    "- If currency is `CHF` ---> country is `CH`\n",
    "- If currency is `EUR` ---> country is `DE`\n",
    "\n",
    "In the `EUR` case, we choose to replace by the mode --- `DE` (Within projects that in `EUR`, the most are from `DE` -- Germany)"
   ]
  },
  {
   "cell_type": "code",
   "execution_count": 27,
   "id": "57bc4cac",
   "metadata": {
    "id": "57bc4cac"
   },
   "outputs": [],
   "source": [
    "def fix_country(row):\n",
    "    # YOUR CODE HERE\n",
    "    if row['country'] == 'N,0\"':\n",
    "        if row['currency'] == 'USD':\n",
    "            return 'US'\n",
    "        elif row['currency'] == 'AUD':\n",
    "            return 'AU'\n",
    "        elif row['currency'] == 'CAD':\n",
    "            return 'CA'\n",
    "        elif row['currency'] == 'GBP':\n",
    "            return 'GB'\n",
    "        elif row['currency'] == 'SEK':\n",
    "            return 'SE'\n",
    "        elif row['currency'] == 'DKK':\n",
    "            return 'DK'\n",
    "        elif row['currency'] == 'NZD':\n",
    "            return 'NZ'\n",
    "        elif row['currency'] == 'NOK':\n",
    "            return 'NO'\n",
    "        elif row['currency'] == 'CHF':\n",
    "            return 'CH'\n",
    "        elif row['currency'] == 'EUR':\n",
    "            return 'DE'  \n",
    "    return row['country']"
   ]
  },
  {
   "cell_type": "code",
   "execution_count": 28,
   "id": "2ad59041",
   "metadata": {
    "id": "2ad59041"
   },
   "outputs": [],
   "source": [
    "# Apply and then write it back to the dataframe\n",
    "df.loc[df['country'] == 'N,0\"', 'country'] = df[df['country'] == 'N,0\"'].apply(fix_country, axis=1)"
   ]
  },
  {
   "cell_type": "code",
   "execution_count": 29,
   "id": "e56d3db0",
   "metadata": {
    "id": "e56d3db0"
   },
   "outputs": [
    {
     "data": {
      "text/plain": [
       "country\n",
       "US    295365\n",
       "GB     34132\n",
       "CA     14962\n",
       "AU      7950\n",
       "DE      4357\n",
       "FR      2939\n",
       "IT      2878\n",
       "NL      2868\n",
       "ES      2276\n",
       "SE      1788\n",
       "MX      1752\n",
       "NZ      1475\n",
       "DK      1129\n",
       "IE       811\n",
       "CH       768\n",
       "NO       722\n",
       "HK       618\n",
       "BE       617\n",
       "AT       597\n",
       "SG       555\n",
       "LU        62\n",
       "JP        40\n",
       "Name: count, dtype: int64"
      ]
     },
     "execution_count": 29,
     "metadata": {},
     "output_type": "execute_result"
    }
   ],
   "source": [
    "# Check the column again to make sure the N0\" is gone\n",
    "df['country'].value_counts()"
   ]
  },
  {
   "cell_type": "code",
   "execution_count": 30,
   "id": "db55fb6a",
   "metadata": {},
   "outputs": [
    {
     "data": {
      "text/plain": [
       "array([], dtype=object)"
      ]
     },
     "execution_count": 30,
     "metadata": {},
     "output_type": "execute_result"
    }
   ],
   "source": [
    "# Check lại giá trị N,0\"\n",
    "df[df['country'] == 'N,0\"']['currency'].unique()"
   ]
  },
  {
   "cell_type": "markdown",
   "id": "a9ad4d83",
   "metadata": {
    "id": "a9ad4d83"
   },
   "source": [
    "### Question 10 (5 pts)"
   ]
  },
  {
   "attachments": {},
   "cell_type": "markdown",
   "id": "zkBaP7-CunEf",
   "metadata": {
    "id": "zkBaP7-CunEf"
   },
   "source": [
    "Let's move on to the numeric columns.\n",
    "\n",
    "Write one line of code to give the descriptive statistic review of three columns: `backers`, `pledged`, and `goal`."
   ]
  },
  {
   "cell_type": "code",
   "execution_count": 31,
   "id": "Bj9v267M-QQD",
   "metadata": {
    "id": "Bj9v267M-QQD"
   },
   "outputs": [
    {
     "data": {
      "text/html": [
       "<div>\n",
       "<style scoped>\n",
       "    .dataframe tbody tr th:only-of-type {\n",
       "        vertical-align: middle;\n",
       "    }\n",
       "\n",
       "    .dataframe tbody tr th {\n",
       "        vertical-align: top;\n",
       "    }\n",
       "\n",
       "    .dataframe thead th {\n",
       "        text-align: right;\n",
       "    }\n",
       "</style>\n",
       "<table border=\"1\" class=\"dataframe\">\n",
       "  <thead>\n",
       "    <tr style=\"text-align: right;\">\n",
       "      <th></th>\n",
       "      <th>backers</th>\n",
       "      <th>pledged</th>\n",
       "      <th>goal</th>\n",
       "    </tr>\n",
       "  </thead>\n",
       "  <tbody>\n",
       "    <tr>\n",
       "      <th>count</th>\n",
       "      <td>378661.000000</td>\n",
       "      <td>3.786610e+05</td>\n",
       "      <td>3.786610e+05</td>\n",
       "    </tr>\n",
       "    <tr>\n",
       "      <th>mean</th>\n",
       "      <td>105.617476</td>\n",
       "      <td>9.058924e+03</td>\n",
       "      <td>4.545440e+04</td>\n",
       "    </tr>\n",
       "    <tr>\n",
       "      <th>std</th>\n",
       "      <td>907.185035</td>\n",
       "      <td>9.097334e+04</td>\n",
       "      <td>1.152950e+06</td>\n",
       "    </tr>\n",
       "    <tr>\n",
       "      <th>min</th>\n",
       "      <td>0.000000</td>\n",
       "      <td>0.000000e+00</td>\n",
       "      <td>1.000000e-02</td>\n",
       "    </tr>\n",
       "    <tr>\n",
       "      <th>25%</th>\n",
       "      <td>2.000000</td>\n",
       "      <td>3.100000e+01</td>\n",
       "      <td>2.000000e+03</td>\n",
       "    </tr>\n",
       "    <tr>\n",
       "      <th>50%</th>\n",
       "      <td>12.000000</td>\n",
       "      <td>6.243300e+02</td>\n",
       "      <td>5.500000e+03</td>\n",
       "    </tr>\n",
       "    <tr>\n",
       "      <th>75%</th>\n",
       "      <td>56.000000</td>\n",
       "      <td>4.050000e+03</td>\n",
       "      <td>1.550000e+04</td>\n",
       "    </tr>\n",
       "    <tr>\n",
       "      <th>max</th>\n",
       "      <td>219382.000000</td>\n",
       "      <td>2.033899e+07</td>\n",
       "      <td>1.663614e+08</td>\n",
       "    </tr>\n",
       "  </tbody>\n",
       "</table>\n",
       "</div>"
      ],
      "text/plain": [
       "             backers       pledged          goal\n",
       "count  378661.000000  3.786610e+05  3.786610e+05\n",
       "mean      105.617476  9.058924e+03  4.545440e+04\n",
       "std       907.185035  9.097334e+04  1.152950e+06\n",
       "min         0.000000  0.000000e+00  1.000000e-02\n",
       "25%         2.000000  3.100000e+01  2.000000e+03\n",
       "50%        12.000000  6.243300e+02  5.500000e+03\n",
       "75%        56.000000  4.050000e+03  1.550000e+04\n",
       "max    219382.000000  2.033899e+07  1.663614e+08"
      ]
     },
     "execution_count": 31,
     "metadata": {},
     "output_type": "execute_result"
    }
   ],
   "source": [
    "# TEST YOUR CODE HERE\n",
    "df[['backers', 'pledged', 'goal']].describe()"
   ]
  },
  {
   "cell_type": "markdown",
   "id": "ac9ed1e4",
   "metadata": {
    "id": "ac9ed1e4"
   },
   "source": [
    "💡 **Tips:** Your question right now is what the heck is `e+05` and `e+04`. This in Python called scientific style. `e+04` means `*10e4` or `*10000`.\n",
    "\n",
    "If you don't like it, you can use the syntax below. After you run the code, all the report later will be printed in 2 decimal float format."
   ]
  },
  {
   "cell_type": "code",
   "execution_count": 32,
   "id": "b9c9d35b",
   "metadata": {
    "id": "b9c9d35b"
   },
   "outputs": [
    {
     "data": {
      "text/html": [
       "<div>\n",
       "<style scoped>\n",
       "    .dataframe tbody tr th:only-of-type {\n",
       "        vertical-align: middle;\n",
       "    }\n",
       "\n",
       "    .dataframe tbody tr th {\n",
       "        vertical-align: top;\n",
       "    }\n",
       "\n",
       "    .dataframe thead th {\n",
       "        text-align: right;\n",
       "    }\n",
       "</style>\n",
       "<table border=\"1\" class=\"dataframe\">\n",
       "  <thead>\n",
       "    <tr style=\"text-align: right;\">\n",
       "      <th></th>\n",
       "      <th>Unnamed: 0</th>\n",
       "      <th>ID</th>\n",
       "      <th>deadline</th>\n",
       "      <th>launched</th>\n",
       "      <th>backers</th>\n",
       "      <th>pledged</th>\n",
       "      <th>goal</th>\n",
       "    </tr>\n",
       "  </thead>\n",
       "  <tbody>\n",
       "    <tr>\n",
       "      <th>count</th>\n",
       "      <td>378661.00</td>\n",
       "      <td>378661.00</td>\n",
       "      <td>378661</td>\n",
       "      <td>378661</td>\n",
       "      <td>378661.00</td>\n",
       "      <td>378661.00</td>\n",
       "      <td>378661.00</td>\n",
       "    </tr>\n",
       "    <tr>\n",
       "      <th>mean</th>\n",
       "      <td>189330.00</td>\n",
       "      <td>1074731191.99</td>\n",
       "      <td>2014-11-01 16:04:27.950488832</td>\n",
       "      <td>2014-09-28 18:06:17.416520448</td>\n",
       "      <td>105.62</td>\n",
       "      <td>9058.92</td>\n",
       "      <td>45454.40</td>\n",
       "    </tr>\n",
       "    <tr>\n",
       "      <th>min</th>\n",
       "      <td>0.00</td>\n",
       "      <td>5971.00</td>\n",
       "      <td>2009-05-03 00:00:00</td>\n",
       "      <td>1970-01-01 01:00:00</td>\n",
       "      <td>0.00</td>\n",
       "      <td>0.00</td>\n",
       "      <td>0.01</td>\n",
       "    </tr>\n",
       "    <tr>\n",
       "      <th>25%</th>\n",
       "      <td>94665.00</td>\n",
       "      <td>538263516.00</td>\n",
       "      <td>2013-06-08 00:00:00</td>\n",
       "      <td>2013-05-07 22:14:27</td>\n",
       "      <td>2.00</td>\n",
       "      <td>31.00</td>\n",
       "      <td>2000.00</td>\n",
       "    </tr>\n",
       "    <tr>\n",
       "      <th>50%</th>\n",
       "      <td>189330.00</td>\n",
       "      <td>1075275634.00</td>\n",
       "      <td>2015-01-14 00:00:00</td>\n",
       "      <td>2014-12-10 03:23:41</td>\n",
       "      <td>12.00</td>\n",
       "      <td>624.33</td>\n",
       "      <td>5500.00</td>\n",
       "    </tr>\n",
       "    <tr>\n",
       "      <th>75%</th>\n",
       "      <td>283995.00</td>\n",
       "      <td>1610148624.00</td>\n",
       "      <td>2016-04-28 00:00:00</td>\n",
       "      <td>2016-03-24 10:21:09</td>\n",
       "      <td>56.00</td>\n",
       "      <td>4050.00</td>\n",
       "      <td>15500.00</td>\n",
       "    </tr>\n",
       "    <tr>\n",
       "      <th>max</th>\n",
       "      <td>378660.00</td>\n",
       "      <td>2147476221.00</td>\n",
       "      <td>2018-03-03 00:00:00</td>\n",
       "      <td>2018-01-02 15:02:31</td>\n",
       "      <td>219382.00</td>\n",
       "      <td>20338986.27</td>\n",
       "      <td>166361390.71</td>\n",
       "    </tr>\n",
       "    <tr>\n",
       "      <th>std</th>\n",
       "      <td>109310.16</td>\n",
       "      <td>619086204.32</td>\n",
       "      <td>NaN</td>\n",
       "      <td>NaN</td>\n",
       "      <td>907.19</td>\n",
       "      <td>90973.34</td>\n",
       "      <td>1152950.06</td>\n",
       "    </tr>\n",
       "  </tbody>\n",
       "</table>\n",
       "</div>"
      ],
      "text/plain": [
       "       Unnamed: 0            ID                       deadline  \\\n",
       "count   378661.00     378661.00                         378661   \n",
       "mean    189330.00 1074731191.99  2014-11-01 16:04:27.950488832   \n",
       "min          0.00       5971.00            2009-05-03 00:00:00   \n",
       "25%      94665.00  538263516.00            2013-06-08 00:00:00   \n",
       "50%     189330.00 1075275634.00            2015-01-14 00:00:00   \n",
       "75%     283995.00 1610148624.00            2016-04-28 00:00:00   \n",
       "max     378660.00 2147476221.00            2018-03-03 00:00:00   \n",
       "std     109310.16  619086204.32                            NaN   \n",
       "\n",
       "                            launched   backers     pledged         goal  \n",
       "count                         378661 378661.00   378661.00    378661.00  \n",
       "mean   2014-09-28 18:06:17.416520448    105.62     9058.92     45454.40  \n",
       "min              1970-01-01 01:00:00      0.00        0.00         0.01  \n",
       "25%              2013-05-07 22:14:27      2.00       31.00      2000.00  \n",
       "50%              2014-12-10 03:23:41     12.00      624.33      5500.00  \n",
       "75%              2016-03-24 10:21:09     56.00     4050.00     15500.00  \n",
       "max              2018-01-02 15:02:31 219382.00 20338986.27 166361390.71  \n",
       "std                              NaN    907.19    90973.34   1152950.06  "
      ]
     },
     "execution_count": 32,
     "metadata": {},
     "output_type": "execute_result"
    }
   ],
   "source": [
    "pd.options.display.float_format = \"{:.2f}\".format\n",
    "# let's run df.describe() again:\n",
    "df.describe()"
   ]
  },
  {
   "cell_type": "markdown",
   "id": "f7d205c5",
   "metadata": {
    "id": "f7d205c5"
   },
   "source": [
    "Everything seems fine. No projects have abnormality in these numeric columns."
   ]
  },
  {
   "cell_type": "markdown",
   "id": "68da4d8d",
   "metadata": {
    "id": "68da4d8d"
   },
   "source": [
    "### Question 11 (10 pts)"
   ]
  },
  {
   "cell_type": "markdown",
   "id": "SYDKt1SKusx9",
   "metadata": {
    "id": "SYDKt1SKusx9"
   },
   "source": [
    "👑 **The best project** --- Write one line of code to get the row of the project that have the max pledged."
   ]
  },
  {
   "cell_type": "code",
   "execution_count": 33,
   "id": "3e946845",
   "metadata": {},
   "outputs": [
    {
     "name": "stdout",
     "output_type": "stream",
     "text": [
      "Max pledge is: 20338986.27\n"
     ]
    }
   ],
   "source": [
    "print('Max pledge is:', df['pledged'].max())\n"
   ]
  },
  {
   "cell_type": "code",
   "execution_count": 34,
   "id": "tT_UEUCX-RBL",
   "metadata": {
    "id": "tT_UEUCX-RBL"
   },
   "outputs": [
    {
     "data": {
      "text/html": [
       "<div>\n",
       "<style scoped>\n",
       "    .dataframe tbody tr th:only-of-type {\n",
       "        vertical-align: middle;\n",
       "    }\n",
       "\n",
       "    .dataframe tbody tr th {\n",
       "        vertical-align: top;\n",
       "    }\n",
       "\n",
       "    .dataframe thead th {\n",
       "        text-align: right;\n",
       "    }\n",
       "</style>\n",
       "<table border=\"1\" class=\"dataframe\">\n",
       "  <thead>\n",
       "    <tr style=\"text-align: right;\">\n",
       "      <th></th>\n",
       "      <th>Unnamed: 0</th>\n",
       "      <th>ID</th>\n",
       "      <th>name</th>\n",
       "      <th>category</th>\n",
       "      <th>main_category</th>\n",
       "      <th>currency</th>\n",
       "      <th>deadline</th>\n",
       "      <th>launched</th>\n",
       "      <th>state</th>\n",
       "      <th>backers</th>\n",
       "      <th>country</th>\n",
       "      <th>pledged</th>\n",
       "      <th>goal</th>\n",
       "    </tr>\n",
       "  </thead>\n",
       "  <tbody>\n",
       "    <tr>\n",
       "      <th>157270</th>\n",
       "      <td>157270</td>\n",
       "      <td>1799979574</td>\n",
       "      <td>Pebble Time - Awesome Smartwatch, No Compromises</td>\n",
       "      <td>Product Design</td>\n",
       "      <td>Design</td>\n",
       "      <td>USD</td>\n",
       "      <td>2015-03-28</td>\n",
       "      <td>2015-02-24 15:44:42</td>\n",
       "      <td>successful</td>\n",
       "      <td>78471</td>\n",
       "      <td>US</td>\n",
       "      <td>20338986.27</td>\n",
       "      <td>500000.00</td>\n",
       "    </tr>\n",
       "  </tbody>\n",
       "</table>\n",
       "</div>"
      ],
      "text/plain": [
       "        Unnamed: 0          ID  \\\n",
       "157270      157270  1799979574   \n",
       "\n",
       "                                                    name        category  \\\n",
       "157270  Pebble Time - Awesome Smartwatch, No Compromises  Product Design   \n",
       "\n",
       "       main_category currency   deadline            launched       state  \\\n",
       "157270        Design      USD 2015-03-28 2015-02-24 15:44:42  successful   \n",
       "\n",
       "        backers country     pledged      goal  \n",
       "157270    78471      US 20338986.27 500000.00  "
      ]
     },
     "execution_count": 34,
     "metadata": {},
     "output_type": "execute_result"
    }
   ],
   "source": [
    "# TEST YOUR CODE HERE\n",
    "df[df['pledged'] == df['pledged'].max()]\n"
   ]
  },
  {
   "cell_type": "markdown",
   "id": "4dab4d93",
   "metadata": {
    "id": "4dab4d93"
   },
   "source": [
    "You have done a lot of coding. Now, take a bit time off, google and read about this awesome product design project called `'Pebble Time - Awesome Smartwatch, No Compromises'` that attracts the most pledge on Kickstarter history. "
   ]
  },
  {
   "cell_type": "markdown",
   "id": "4dd5d15d",
   "metadata": {
    "id": "4dd5d15d"
   },
   "source": [
    "### Question 12 (10 pts)"
   ]
  },
  {
   "cell_type": "markdown",
   "id": "EsOHL0MduxZu",
   "metadata": {
    "id": "EsOHL0MduxZu"
   },
   "source": [
    "❤️ **The top favorite** --- Write one line of code to get the row of the project that have the max backers."
   ]
  },
  {
   "cell_type": "code",
   "execution_count": 36,
   "id": "0142b276",
   "metadata": {},
   "outputs": [
    {
     "name": "stdout",
     "output_type": "stream",
     "text": [
      "Max backer is: 219382\n"
     ]
    }
   ],
   "source": [
    "print('Max backer is:', df['backers'].max())"
   ]
  },
  {
   "cell_type": "code",
   "execution_count": 37,
   "id": "MBZUxJM0-SAy",
   "metadata": {
    "id": "MBZUxJM0-SAy"
   },
   "outputs": [
    {
     "data": {
      "text/html": [
       "<div>\n",
       "<style scoped>\n",
       "    .dataframe tbody tr th:only-of-type {\n",
       "        vertical-align: middle;\n",
       "    }\n",
       "\n",
       "    .dataframe tbody tr th {\n",
       "        vertical-align: top;\n",
       "    }\n",
       "\n",
       "    .dataframe thead th {\n",
       "        text-align: right;\n",
       "    }\n",
       "</style>\n",
       "<table border=\"1\" class=\"dataframe\">\n",
       "  <thead>\n",
       "    <tr style=\"text-align: right;\">\n",
       "      <th></th>\n",
       "      <th>Unnamed: 0</th>\n",
       "      <th>ID</th>\n",
       "      <th>name</th>\n",
       "      <th>category</th>\n",
       "      <th>main_category</th>\n",
       "      <th>currency</th>\n",
       "      <th>deadline</th>\n",
       "      <th>launched</th>\n",
       "      <th>state</th>\n",
       "      <th>backers</th>\n",
       "      <th>country</th>\n",
       "      <th>pledged</th>\n",
       "      <th>goal</th>\n",
       "    </tr>\n",
       "  </thead>\n",
       "  <tbody>\n",
       "    <tr>\n",
       "      <th>187652</th>\n",
       "      <td>187652</td>\n",
       "      <td>1955357092</td>\n",
       "      <td>Exploding Kittens</td>\n",
       "      <td>Tabletop Games</td>\n",
       "      <td>Games</td>\n",
       "      <td>USD</td>\n",
       "      <td>2015-02-20</td>\n",
       "      <td>2015-01-20 19:00:19</td>\n",
       "      <td>successful</td>\n",
       "      <td>219382</td>\n",
       "      <td>US</td>\n",
       "      <td>8782571.99</td>\n",
       "      <td>10000.00</td>\n",
       "    </tr>\n",
       "  </tbody>\n",
       "</table>\n",
       "</div>"
      ],
      "text/plain": [
       "        Unnamed: 0          ID               name        category  \\\n",
       "187652      187652  1955357092  Exploding Kittens  Tabletop Games   \n",
       "\n",
       "       main_category currency   deadline            launched       state  \\\n",
       "187652         Games      USD 2015-02-20 2015-01-20 19:00:19  successful   \n",
       "\n",
       "        backers country    pledged     goal  \n",
       "187652   219382      US 8782571.99 10000.00  "
      ]
     },
     "execution_count": 37,
     "metadata": {},
     "output_type": "execute_result"
    }
   ],
   "source": [
    "# TEST YOUR CODE HERE\n",
    "df[df['backers'] == df['backers'].max()]"
   ]
  },
  {
   "cell_type": "markdown",
   "id": "dd1fa1a5",
   "metadata": {
    "id": "dd1fa1a5"
   },
   "source": [
    "Is the product sounds familiar? You can buy this at any convenient store in Vietnam nowaday. 🥳"
   ]
  },
  {
   "cell_type": "markdown",
   "id": "f956fc37",
   "metadata": {
    "id": "f956fc37"
   },
   "source": [
    "### Question 13 (10 pts)"
   ]
  },
  {
   "cell_type": "markdown",
   "id": "n_7ByiUdu5V9",
   "metadata": {
    "id": "n_7ByiUdu5V9"
   },
   "source": [
    "🤑 **The most ambitious** --- Write one line of code to get the row of the project that set the max goal."
   ]
  },
  {
   "cell_type": "code",
   "execution_count": 38,
   "id": "93384873",
   "metadata": {},
   "outputs": [
    {
     "name": "stdout",
     "output_type": "stream",
     "text": [
      "Max goal is: 166361390.71\n"
     ]
    }
   ],
   "source": [
    "print('Max goal is:', df['goal'].max())"
   ]
  },
  {
   "cell_type": "code",
   "execution_count": 39,
   "id": "DltvARSd-S5b",
   "metadata": {
    "id": "DltvARSd-S5b"
   },
   "outputs": [
    {
     "data": {
      "text/html": [
       "<div>\n",
       "<style scoped>\n",
       "    .dataframe tbody tr th:only-of-type {\n",
       "        vertical-align: middle;\n",
       "    }\n",
       "\n",
       "    .dataframe tbody tr th {\n",
       "        vertical-align: top;\n",
       "    }\n",
       "\n",
       "    .dataframe thead th {\n",
       "        text-align: right;\n",
       "    }\n",
       "</style>\n",
       "<table border=\"1\" class=\"dataframe\">\n",
       "  <thead>\n",
       "    <tr style=\"text-align: right;\">\n",
       "      <th></th>\n",
       "      <th>Unnamed: 0</th>\n",
       "      <th>ID</th>\n",
       "      <th>name</th>\n",
       "      <th>category</th>\n",
       "      <th>main_category</th>\n",
       "      <th>currency</th>\n",
       "      <th>deadline</th>\n",
       "      <th>launched</th>\n",
       "      <th>state</th>\n",
       "      <th>backers</th>\n",
       "      <th>country</th>\n",
       "      <th>pledged</th>\n",
       "      <th>goal</th>\n",
       "    </tr>\n",
       "  </thead>\n",
       "  <tbody>\n",
       "    <tr>\n",
       "      <th>47803</th>\n",
       "      <td>47803</td>\n",
       "      <td>1243678698</td>\n",
       "      <td>FUCK Potato Salad. Paleo Potato Brownies!</td>\n",
       "      <td>Food</td>\n",
       "      <td>Food</td>\n",
       "      <td>GBP</td>\n",
       "      <td>2014-08-08</td>\n",
       "      <td>2014-07-09 00:24:34</td>\n",
       "      <td>failed</td>\n",
       "      <td>0</td>\n",
       "      <td>GB</td>\n",
       "      <td>0.00</td>\n",
       "      <td>166361390.71</td>\n",
       "    </tr>\n",
       "  </tbody>\n",
       "</table>\n",
       "</div>"
      ],
      "text/plain": [
       "       Unnamed: 0          ID                                       name  \\\n",
       "47803       47803  1243678698  FUCK Potato Salad. Paleo Potato Brownies!   \n",
       "\n",
       "      category main_category currency   deadline            launched   state  \\\n",
       "47803     Food          Food      GBP 2014-08-08 2014-07-09 00:24:34  failed   \n",
       "\n",
       "       backers country  pledged         goal  \n",
       "47803        0      GB     0.00 166361390.71  "
      ]
     },
     "execution_count": 39,
     "metadata": {},
     "output_type": "execute_result"
    }
   ],
   "source": [
    "# TEST YOUR CODE HERE\n",
    "df[df['goal'] == df['goal'].max()]"
   ]
  },
  {
   "cell_type": "markdown",
   "id": "d4d2d910",
   "metadata": {
    "id": "d4d2d910"
   },
   "source": [
    "### Finally, the last two columns left are the two datetime `launched` and `deadline`."
   ]
  },
  {
   "cell_type": "markdown",
   "id": "13d529d8",
   "metadata": {
    "id": "13d529d8"
   },
   "source": [
    "### Question 14 (10 pts)"
   ]
  },
  {
   "cell_type": "markdown",
   "id": "2Mf9K_E4u6y_",
   "metadata": {
    "id": "2Mf9K_E4u6y_"
   },
   "source": [
    "Write one line of code to get the minimum value of the column `launched`."
   ]
  },
  {
   "cell_type": "code",
   "execution_count": 40,
   "id": "8b898713",
   "metadata": {},
   "outputs": [
    {
     "name": "stdout",
     "output_type": "stream",
     "text": [
      "<class 'pandas.core.frame.DataFrame'>\n",
      "RangeIndex: 378661 entries, 0 to 378660\n",
      "Data columns (total 13 columns):\n",
      " #   Column         Non-Null Count   Dtype         \n",
      "---  ------         --------------   -----         \n",
      " 0   Unnamed: 0     378661 non-null  int64         \n",
      " 1   ID             378661 non-null  int64         \n",
      " 2   name           378661 non-null  object        \n",
      " 3   category       378661 non-null  object        \n",
      " 4   main_category  378661 non-null  object        \n",
      " 5   currency       378661 non-null  object        \n",
      " 6   deadline       378661 non-null  datetime64[ns]\n",
      " 7   launched       378661 non-null  datetime64[ns]\n",
      " 8   state          378661 non-null  object        \n",
      " 9   backers        378661 non-null  int64         \n",
      " 10  country        378661 non-null  object        \n",
      " 11  pledged        378661 non-null  float64       \n",
      " 12  goal           378661 non-null  float64       \n",
      "dtypes: datetime64[ns](2), float64(2), int64(3), object(6)\n",
      "memory usage: 37.6+ MB\n"
     ]
    }
   ],
   "source": [
    "df.info()"
   ]
  },
  {
   "cell_type": "code",
   "execution_count": 41,
   "id": "rnke5HfQ-Tp4",
   "metadata": {
    "id": "rnke5HfQ-Tp4"
   },
   "outputs": [
    {
     "data": {
      "text/plain": [
       "Timestamp('1970-01-01 01:00:00')"
      ]
     },
     "execution_count": 41,
     "metadata": {},
     "output_type": "execute_result"
    }
   ],
   "source": [
    "# TEST YOUR CODE HERE\n",
    "df['launched'].min()"
   ]
  },
  {
   "cell_type": "markdown",
   "id": "6e952725",
   "metadata": {
    "id": "6e952725"
   },
   "source": [
    "### Question 15 (10 pts)"
   ]
  },
  {
   "cell_type": "markdown",
   "id": "sANfSW3avBK-",
   "metadata": {
    "id": "sANfSW3avBK-"
   },
   "source": [
    "Write one line of code to get the maximum value of the column `launched`."
   ]
  },
  {
   "cell_type": "code",
   "execution_count": 42,
   "id": "MhamAgmB-UZg",
   "metadata": {
    "id": "MhamAgmB-UZg"
   },
   "outputs": [
    {
     "data": {
      "text/plain": [
       "Timestamp('2018-01-02 15:02:31')"
      ]
     },
     "execution_count": 42,
     "metadata": {},
     "output_type": "execute_result"
    }
   ],
   "source": [
    "# TEST YOUR CODE HERE\n",
    "df['launched'].max()"
   ]
  },
  {
   "cell_type": "markdown",
   "id": "d772821b",
   "metadata": {
    "id": "d772821b"
   },
   "source": [
    "- The earliest data --- 1970 doesn't make sense at all. So we filter out all the data that set launched year before the founding of Kickstarter (2009).\n",
    "\n",
    "- The latest data is in the second day of 2018. That's not enough to have a view for 2018 and might effect to analysis in year level, or month level. So we exclude the incomplete data of 2018."
   ]
  },
  {
   "attachments": {},
   "cell_type": "markdown",
   "id": "8d355a24",
   "metadata": {},
   "source": [
    "👉 Do you still remember how to extract datetime components from a date:\n",
    "\n",
    "```python\n",
    "# Extract year, month, day\n",
    "date_series.dt.year\n",
    "date_series.dt.month\n",
    "date_series.dt.day\n",
    "\n",
    "# Extract hour, minute, second\n",
    "date_series.dt.hour\n",
    "date_series.dt.minute\n",
    "date_series.dt.second\n",
    "\n",
    "# Extract dayofweek, week, quarter\n",
    "date_series.dt.dayofweek\n",
    "date_series.dt.isocalendar().week\n",
    "date_series.dt.quarter\n",
    "\n",
    "# Extract year-month\n",
    "date_series.dt.to_period('M')\n",
    "```"
   ]
  },
  {
   "attachments": {},
   "cell_type": "markdown",
   "id": "4ea8a60a",
   "metadata": {},
   "source": [
    "+ Choose to work with data from the beginning of the year 2009 to the end of the year 2017 only."
   ]
  },
  {
   "cell_type": "code",
   "execution_count": 40,
   "id": "8c360779",
   "metadata": {
    "id": "8c360779"
   },
   "outputs": [
    {
     "data": {
      "text/html": [
       "<div>\n",
       "<style scoped>\n",
       "    .dataframe tbody tr th:only-of-type {\n",
       "        vertical-align: middle;\n",
       "    }\n",
       "\n",
       "    .dataframe tbody tr th {\n",
       "        vertical-align: top;\n",
       "    }\n",
       "\n",
       "    .dataframe thead th {\n",
       "        text-align: right;\n",
       "    }\n",
       "</style>\n",
       "<table border=\"1\" class=\"dataframe\">\n",
       "  <thead>\n",
       "    <tr style=\"text-align: right;\">\n",
       "      <th></th>\n",
       "      <th>Unnamed: 0</th>\n",
       "      <th>ID</th>\n",
       "      <th>name</th>\n",
       "      <th>category</th>\n",
       "      <th>main_category</th>\n",
       "      <th>currency</th>\n",
       "      <th>deadline</th>\n",
       "      <th>goal</th>\n",
       "      <th>launched</th>\n",
       "      <th>pledged</th>\n",
       "      <th>state</th>\n",
       "      <th>backers</th>\n",
       "      <th>country</th>\n",
       "      <th>usd pledged</th>\n",
       "      <th>usd_pledged_real</th>\n",
       "      <th>usd_goal_real</th>\n",
       "    </tr>\n",
       "  </thead>\n",
       "  <tbody>\n",
       "    <tr>\n",
       "      <th>1</th>\n",
       "      <td>1</td>\n",
       "      <td>1000003930</td>\n",
       "      <td>Greeting From Earth: ZGAC Arts Capsule For ET</td>\n",
       "      <td>Narrative Film</td>\n",
       "      <td>Film &amp; Video</td>\n",
       "      <td>USD</td>\n",
       "      <td>2017-11-01</td>\n",
       "      <td>30000.00</td>\n",
       "      <td>2017-09-02 04:43:57</td>\n",
       "      <td>2421.00</td>\n",
       "      <td>failed</td>\n",
       "      <td>15</td>\n",
       "      <td>US</td>\n",
       "      <td>100.00</td>\n",
       "      <td>2421.00</td>\n",
       "      <td>30000.00</td>\n",
       "    </tr>\n",
       "    <tr>\n",
       "      <th>5</th>\n",
       "      <td>5</td>\n",
       "      <td>1000014025</td>\n",
       "      <td>Monarch Espresso Bar</td>\n",
       "      <td>Restaurants</td>\n",
       "      <td>Food</td>\n",
       "      <td>USD</td>\n",
       "      <td>2016-04-01</td>\n",
       "      <td>50000.00</td>\n",
       "      <td>2016-02-26 13:38:27</td>\n",
       "      <td>52375.00</td>\n",
       "      <td>successful</td>\n",
       "      <td>224</td>\n",
       "      <td>US</td>\n",
       "      <td>52375.00</td>\n",
       "      <td>52375.00</td>\n",
       "      <td>50000.00</td>\n",
       "    </tr>\n",
       "    <tr>\n",
       "      <th>7</th>\n",
       "      <td>7</td>\n",
       "      <td>1000030581</td>\n",
       "      <td>Chaser Strips. Our Strips make Shots their B*tch!</td>\n",
       "      <td>Drinks</td>\n",
       "      <td>Food</td>\n",
       "      <td>USD</td>\n",
       "      <td>2016-03-17</td>\n",
       "      <td>25000.00</td>\n",
       "      <td>2016-02-01 20:05:12</td>\n",
       "      <td>453.00</td>\n",
       "      <td>failed</td>\n",
       "      <td>40</td>\n",
       "      <td>US</td>\n",
       "      <td>453.00</td>\n",
       "      <td>453.00</td>\n",
       "      <td>25000.00</td>\n",
       "    </tr>\n",
       "    <tr>\n",
       "      <th>13</th>\n",
       "      <td>13</td>\n",
       "      <td>1000056157</td>\n",
       "      <td>G-Spot Place for Gamers to connect with eachot...</td>\n",
       "      <td>Games</td>\n",
       "      <td>Games</td>\n",
       "      <td>USD</td>\n",
       "      <td>2016-03-25</td>\n",
       "      <td>200000.00</td>\n",
       "      <td>2016-02-09 23:01:12</td>\n",
       "      <td>0.00</td>\n",
       "      <td>failed</td>\n",
       "      <td>0</td>\n",
       "      <td>US</td>\n",
       "      <td>0.00</td>\n",
       "      <td>0.00</td>\n",
       "      <td>200000.00</td>\n",
       "    </tr>\n",
       "    <tr>\n",
       "      <th>14</th>\n",
       "      <td>14</td>\n",
       "      <td>1000057089</td>\n",
       "      <td>Tombstone: Old West tabletop game and miniatur...</td>\n",
       "      <td>Tabletop Games</td>\n",
       "      <td>Games</td>\n",
       "      <td>GBP</td>\n",
       "      <td>2017-05-03</td>\n",
       "      <td>5000.00</td>\n",
       "      <td>2017-04-05 19:44:18</td>\n",
       "      <td>94175.00</td>\n",
       "      <td>successful</td>\n",
       "      <td>761</td>\n",
       "      <td>GB</td>\n",
       "      <td>57763.78</td>\n",
       "      <td>121857.33</td>\n",
       "      <td>6469.73</td>\n",
       "    </tr>\n",
       "  </tbody>\n",
       "</table>\n",
       "</div>"
      ],
      "text/plain": [
       "    Unnamed: 0          ID                                               name  \\\n",
       "1            1  1000003930      Greeting From Earth: ZGAC Arts Capsule For ET   \n",
       "5            5  1000014025                               Monarch Espresso Bar   \n",
       "7            7  1000030581  Chaser Strips. Our Strips make Shots their B*tch!   \n",
       "13          13  1000056157  G-Spot Place for Gamers to connect with eachot...   \n",
       "14          14  1000057089  Tombstone: Old West tabletop game and miniatur...   \n",
       "\n",
       "          category main_category currency    deadline      goal  \\\n",
       "1   Narrative Film  Film & Video      USD  2017-11-01  30000.00   \n",
       "5      Restaurants          Food      USD  2016-04-01  50000.00   \n",
       "7           Drinks          Food      USD  2016-03-17  25000.00   \n",
       "13           Games         Games      USD  2016-03-25 200000.00   \n",
       "14  Tabletop Games         Games      GBP  2017-05-03   5000.00   \n",
       "\n",
       "              launched  pledged       state  backers country  usd pledged  \\\n",
       "1  2017-09-02 04:43:57  2421.00      failed       15      US       100.00   \n",
       "5  2016-02-26 13:38:27 52375.00  successful      224      US     52375.00   \n",
       "7  2016-02-01 20:05:12   453.00      failed       40      US       453.00   \n",
       "13 2016-02-09 23:01:12     0.00      failed        0      US         0.00   \n",
       "14 2017-04-05 19:44:18 94175.00  successful      761      GB     57763.78   \n",
       "\n",
       "    usd_pledged_real  usd_goal_real  \n",
       "1            2421.00       30000.00  \n",
       "5           52375.00       50000.00  \n",
       "7             453.00       25000.00  \n",
       "13              0.00      200000.00  \n",
       "14         121857.33        6469.73  "
      ]
     },
     "execution_count": 40,
     "metadata": {},
     "output_type": "execute_result"
    }
   ],
   "source": [
    "# Choose to work with data from the beginning of the year 2009 to the end of the year 2017 only.\n",
    "# FILL-IN THE ___ BELOW:\n",
    "df2 = df[(df['launched'].dt.___ > 2009) & (df['launched'].dt.___ < 2018)]"
   ]
  },
  {
   "cell_type": "code",
   "execution_count": 43,
   "id": "17e88d44",
   "metadata": {},
   "outputs": [
    {
     "data": {
      "text/html": [
       "<div>\n",
       "<style scoped>\n",
       "    .dataframe tbody tr th:only-of-type {\n",
       "        vertical-align: middle;\n",
       "    }\n",
       "\n",
       "    .dataframe tbody tr th {\n",
       "        vertical-align: top;\n",
       "    }\n",
       "\n",
       "    .dataframe thead th {\n",
       "        text-align: right;\n",
       "    }\n",
       "</style>\n",
       "<table border=\"1\" class=\"dataframe\">\n",
       "  <thead>\n",
       "    <tr style=\"text-align: right;\">\n",
       "      <th></th>\n",
       "      <th>Unnamed: 0</th>\n",
       "      <th>ID</th>\n",
       "      <th>name</th>\n",
       "      <th>category</th>\n",
       "      <th>main_category</th>\n",
       "      <th>currency</th>\n",
       "      <th>deadline</th>\n",
       "      <th>launched</th>\n",
       "      <th>state</th>\n",
       "      <th>backers</th>\n",
       "      <th>country</th>\n",
       "      <th>pledged</th>\n",
       "      <th>goal</th>\n",
       "    </tr>\n",
       "  </thead>\n",
       "  <tbody>\n",
       "    <tr>\n",
       "      <th>279567</th>\n",
       "      <td>279567</td>\n",
       "      <td>492169395</td>\n",
       "      <td>/VANITAS/</td>\n",
       "      <td>Experimental</td>\n",
       "      <td>Theater</td>\n",
       "      <td>USD</td>\n",
       "      <td>2016-10-27</td>\n",
       "      <td>2016-10-07 23:31:15</td>\n",
       "      <td>successful</td>\n",
       "      <td>47</td>\n",
       "      <td>US</td>\n",
       "      <td>2656.18</td>\n",
       "      <td>2300.00</td>\n",
       "    </tr>\n",
       "    <tr>\n",
       "      <th>289099</th>\n",
       "      <td>289099</td>\n",
       "      <td>541050545</td>\n",
       "      <td>Planter Box</td>\n",
       "      <td>Crafts</td>\n",
       "      <td>Crafts</td>\n",
       "      <td>USD</td>\n",
       "      <td>2017-04-07</td>\n",
       "      <td>2017-03-08 16:21:49</td>\n",
       "      <td>failed</td>\n",
       "      <td>38</td>\n",
       "      <td>US</td>\n",
       "      <td>2449.00</td>\n",
       "      <td>4500.00</td>\n",
       "    </tr>\n",
       "    <tr>\n",
       "      <th>325053</th>\n",
       "      <td>325053</td>\n",
       "      <td>725497816</td>\n",
       "      <td>Award Winning Barbecue Restaurant in Hampstead...</td>\n",
       "      <td>Food</td>\n",
       "      <td>Food</td>\n",
       "      <td>USD</td>\n",
       "      <td>2015-08-21</td>\n",
       "      <td>2015-07-22 04:20:03</td>\n",
       "      <td>failed</td>\n",
       "      <td>19</td>\n",
       "      <td>US</td>\n",
       "      <td>1571.00</td>\n",
       "      <td>7000.00</td>\n",
       "    </tr>\n",
       "    <tr>\n",
       "      <th>243780</th>\n",
       "      <td>243780</td>\n",
       "      <td>309921314</td>\n",
       "      <td>America's Beautiful Birds</td>\n",
       "      <td>Photobooks</td>\n",
       "      <td>Photography</td>\n",
       "      <td>USD</td>\n",
       "      <td>2014-10-14</td>\n",
       "      <td>2014-08-15 15:25:02</td>\n",
       "      <td>failed</td>\n",
       "      <td>2</td>\n",
       "      <td>US</td>\n",
       "      <td>50.00</td>\n",
       "      <td>25000.00</td>\n",
       "    </tr>\n",
       "    <tr>\n",
       "      <th>76540</th>\n",
       "      <td>76540</td>\n",
       "      <td>1389530124</td>\n",
       "      <td>The Second Annual Kickstarter Film Festival</td>\n",
       "      <td>Film &amp; Video</td>\n",
       "      <td>Film &amp; Video</td>\n",
       "      <td>USD</td>\n",
       "      <td>2011-07-06</td>\n",
       "      <td>2011-06-29 20:47:02</td>\n",
       "      <td>successful</td>\n",
       "      <td>217</td>\n",
       "      <td>US</td>\n",
       "      <td>3336.00</td>\n",
       "      <td>3000.00</td>\n",
       "    </tr>\n",
       "  </tbody>\n",
       "</table>\n",
       "</div>"
      ],
      "text/plain": [
       "        Unnamed: 0          ID  \\\n",
       "279567      279567   492169395   \n",
       "289099      289099   541050545   \n",
       "325053      325053   725497816   \n",
       "243780      243780   309921314   \n",
       "76540        76540  1389530124   \n",
       "\n",
       "                                                     name      category  \\\n",
       "279567                                          /VANITAS/  Experimental   \n",
       "289099                                        Planter Box        Crafts   \n",
       "325053  Award Winning Barbecue Restaurant in Hampstead...          Food   \n",
       "243780                          America's Beautiful Birds    Photobooks   \n",
       "76540         The Second Annual Kickstarter Film Festival  Film & Video   \n",
       "\n",
       "       main_category currency   deadline            launched       state  \\\n",
       "279567       Theater      USD 2016-10-27 2016-10-07 23:31:15  successful   \n",
       "289099        Crafts      USD 2017-04-07 2017-03-08 16:21:49      failed   \n",
       "325053          Food      USD 2015-08-21 2015-07-22 04:20:03      failed   \n",
       "243780   Photography      USD 2014-10-14 2014-08-15 15:25:02      failed   \n",
       "76540   Film & Video      USD 2011-07-06 2011-06-29 20:47:02  successful   \n",
       "\n",
       "        backers country  pledged     goal  \n",
       "279567       47      US  2656.18  2300.00  \n",
       "289099       38      US  2449.00  4500.00  \n",
       "325053       19      US  1571.00  7000.00  \n",
       "243780        2      US    50.00 25000.00  \n",
       "76540       217      US  3336.00  3000.00  "
      ]
     },
     "execution_count": 43,
     "metadata": {},
     "output_type": "execute_result"
    }
   ],
   "source": [
    "# \n",
    "\n",
    "df2 = df[(df['launched'].dt.year >= 2009) & (df['launched'].dt.year < 2018)]\n",
    "df2.sample(5)"
   ]
  },
  {
   "cell_type": "code",
   "execution_count": 44,
   "id": "bb362e49",
   "metadata": {
    "id": "bb362e49"
   },
   "outputs": [
    {
     "data": {
      "text/plain": [
       "Timestamp('2009-04-21 21:02:48')"
      ]
     },
     "execution_count": 44,
     "metadata": {},
     "output_type": "execute_result"
    }
   ],
   "source": [
    "# Check the column one more time\n",
    "df2['launched'].min()"
   ]
  },
  {
   "cell_type": "code",
   "execution_count": 45,
   "id": "c3c9ed54",
   "metadata": {
    "id": "c3c9ed54"
   },
   "outputs": [
    {
     "data": {
      "text/plain": [
       "Timestamp('2017-12-31 23:37:20')"
      ]
     },
     "execution_count": 45,
     "metadata": {},
     "output_type": "execute_result"
    }
   ],
   "source": [
    "df2['launched'].max()"
   ]
  },
  {
   "cell_type": "markdown",
   "id": "4b325cdc",
   "metadata": {
    "id": "4b325cdc"
   },
   "source": [
    "### Final Task\n",
    "\n",
    "The last task that we should do in cleaning this dataset is to create new columns extract `day`, `month`, `year` from the two columns `launched` and `deadline`. This will help us in the future when we analyse on year, on month, or on day. For example: number of project by year. \n",
    "\n",
    "In data analysis, this is a simple feature engineering."
   ]
  },
  {
   "cell_type": "code",
   "execution_count": null,
   "id": "4fd24103",
   "metadata": {
    "id": "4fd24103"
   },
   "outputs": [],
   "source": [
    "df['launched_day'] =    df['launched'].dt.day\n",
    "df['launched_month'] =  # Your code here\n",
    "df['launched_year'] =   # Your code here"
   ]
  },
  {
   "cell_type": "code",
   "execution_count": 46,
   "id": "0f8fea3d",
   "metadata": {},
   "outputs": [],
   "source": [
    "df['launched_day'] = df['launched'].dt.day\n",
    "df['launched_month'] = df['launched'].dt.month\n",
    "df['launched_year'] = df['launched'].dt.year"
   ]
  },
  {
   "cell_type": "code",
   "execution_count": 47,
   "id": "883a517b",
   "metadata": {
    "id": "883a517b"
   },
   "outputs": [],
   "source": [
    "# Do the same thing with deadline column\n",
    "# YOUR CODE HERE\n",
    "df['deadline_day'] = df['deadline'].dt.day\n",
    "df['deadline_month'] = df['deadline'].dt.month\n",
    "df['deadline_year'] = df['deadline'].dt.year"
   ]
  },
  {
   "cell_type": "markdown",
   "id": "5039661c",
   "metadata": {
    "id": "5039661c"
   },
   "source": [
    "YAYYY!!! WE HAVE DONE EVERTHING. 🤩 Finally you got a clean dataset that is ready for analysis. \n",
    "\n",
    "Let's view out beautiful dataset again."
   ]
  },
  {
   "cell_type": "code",
   "execution_count": 48,
   "id": "e84d4cc7",
   "metadata": {
    "id": "e84d4cc7"
   },
   "outputs": [
    {
     "data": {
      "text/html": [
       "<div>\n",
       "<style scoped>\n",
       "    .dataframe tbody tr th:only-of-type {\n",
       "        vertical-align: middle;\n",
       "    }\n",
       "\n",
       "    .dataframe tbody tr th {\n",
       "        vertical-align: top;\n",
       "    }\n",
       "\n",
       "    .dataframe thead th {\n",
       "        text-align: right;\n",
       "    }\n",
       "</style>\n",
       "<table border=\"1\" class=\"dataframe\">\n",
       "  <thead>\n",
       "    <tr style=\"text-align: right;\">\n",
       "      <th></th>\n",
       "      <th>Unnamed: 0</th>\n",
       "      <th>ID</th>\n",
       "      <th>name</th>\n",
       "      <th>category</th>\n",
       "      <th>main_category</th>\n",
       "      <th>currency</th>\n",
       "      <th>deadline</th>\n",
       "      <th>launched</th>\n",
       "      <th>state</th>\n",
       "      <th>backers</th>\n",
       "      <th>country</th>\n",
       "      <th>pledged</th>\n",
       "      <th>goal</th>\n",
       "      <th>launched_day</th>\n",
       "      <th>launched_month</th>\n",
       "      <th>launched_year</th>\n",
       "      <th>deadline_day</th>\n",
       "      <th>deadline_month</th>\n",
       "      <th>deadline_year</th>\n",
       "    </tr>\n",
       "  </thead>\n",
       "  <tbody>\n",
       "    <tr>\n",
       "      <th>0</th>\n",
       "      <td>0</td>\n",
       "      <td>1000002330</td>\n",
       "      <td>The Songs of Adelaide &amp; Abullah</td>\n",
       "      <td>Poetry</td>\n",
       "      <td>Publishing</td>\n",
       "      <td>GBP</td>\n",
       "      <td>2015-10-09</td>\n",
       "      <td>2015-08-11 12:12:28</td>\n",
       "      <td>failed</td>\n",
       "      <td>0</td>\n",
       "      <td>GB</td>\n",
       "      <td>0.00</td>\n",
       "      <td>1533.95</td>\n",
       "      <td>11</td>\n",
       "      <td>8</td>\n",
       "      <td>2015</td>\n",
       "      <td>9</td>\n",
       "      <td>10</td>\n",
       "      <td>2015</td>\n",
       "    </tr>\n",
       "    <tr>\n",
       "      <th>1</th>\n",
       "      <td>1</td>\n",
       "      <td>1000003930</td>\n",
       "      <td>Greeting From Earth: ZGAC Arts Capsule For ET</td>\n",
       "      <td>Narrative Film</td>\n",
       "      <td>Film &amp; Video</td>\n",
       "      <td>USD</td>\n",
       "      <td>2017-11-01</td>\n",
       "      <td>2017-09-02 04:43:57</td>\n",
       "      <td>failed</td>\n",
       "      <td>15</td>\n",
       "      <td>US</td>\n",
       "      <td>2421.00</td>\n",
       "      <td>30000.00</td>\n",
       "      <td>2</td>\n",
       "      <td>9</td>\n",
       "      <td>2017</td>\n",
       "      <td>1</td>\n",
       "      <td>11</td>\n",
       "      <td>2017</td>\n",
       "    </tr>\n",
       "    <tr>\n",
       "      <th>2</th>\n",
       "      <td>2</td>\n",
       "      <td>1000004038</td>\n",
       "      <td>Where is Hank?</td>\n",
       "      <td>Narrative Film</td>\n",
       "      <td>Film &amp; Video</td>\n",
       "      <td>USD</td>\n",
       "      <td>2013-02-26</td>\n",
       "      <td>2013-01-12 00:20:50</td>\n",
       "      <td>failed</td>\n",
       "      <td>3</td>\n",
       "      <td>US</td>\n",
       "      <td>220.00</td>\n",
       "      <td>45000.00</td>\n",
       "      <td>12</td>\n",
       "      <td>1</td>\n",
       "      <td>2013</td>\n",
       "      <td>26</td>\n",
       "      <td>2</td>\n",
       "      <td>2013</td>\n",
       "    </tr>\n",
       "    <tr>\n",
       "      <th>3</th>\n",
       "      <td>3</td>\n",
       "      <td>1000007540</td>\n",
       "      <td>ToshiCapital Rekordz Needs Help to Complete Album</td>\n",
       "      <td>Music</td>\n",
       "      <td>Music</td>\n",
       "      <td>USD</td>\n",
       "      <td>2012-04-16</td>\n",
       "      <td>2012-03-17 03:24:11</td>\n",
       "      <td>failed</td>\n",
       "      <td>1</td>\n",
       "      <td>US</td>\n",
       "      <td>1.00</td>\n",
       "      <td>5000.00</td>\n",
       "      <td>17</td>\n",
       "      <td>3</td>\n",
       "      <td>2012</td>\n",
       "      <td>16</td>\n",
       "      <td>4</td>\n",
       "      <td>2012</td>\n",
       "    </tr>\n",
       "    <tr>\n",
       "      <th>4</th>\n",
       "      <td>4</td>\n",
       "      <td>1000011046</td>\n",
       "      <td>Community Film Project: The Art of Neighborhoo...</td>\n",
       "      <td>Film &amp; Video</td>\n",
       "      <td>Film &amp; Video</td>\n",
       "      <td>USD</td>\n",
       "      <td>2015-08-29</td>\n",
       "      <td>2015-07-04 08:35:03</td>\n",
       "      <td>canceled</td>\n",
       "      <td>14</td>\n",
       "      <td>US</td>\n",
       "      <td>1283.00</td>\n",
       "      <td>19500.00</td>\n",
       "      <td>4</td>\n",
       "      <td>7</td>\n",
       "      <td>2015</td>\n",
       "      <td>29</td>\n",
       "      <td>8</td>\n",
       "      <td>2015</td>\n",
       "    </tr>\n",
       "    <tr>\n",
       "      <th>...</th>\n",
       "      <td>...</td>\n",
       "      <td>...</td>\n",
       "      <td>...</td>\n",
       "      <td>...</td>\n",
       "      <td>...</td>\n",
       "      <td>...</td>\n",
       "      <td>...</td>\n",
       "      <td>...</td>\n",
       "      <td>...</td>\n",
       "      <td>...</td>\n",
       "      <td>...</td>\n",
       "      <td>...</td>\n",
       "      <td>...</td>\n",
       "      <td>...</td>\n",
       "      <td>...</td>\n",
       "      <td>...</td>\n",
       "      <td>...</td>\n",
       "      <td>...</td>\n",
       "      <td>...</td>\n",
       "    </tr>\n",
       "    <tr>\n",
       "      <th>378656</th>\n",
       "      <td>378656</td>\n",
       "      <td>999976400</td>\n",
       "      <td>ChknTruk Nationwide Charity Drive 2014 (Canceled)</td>\n",
       "      <td>Documentary</td>\n",
       "      <td>Film &amp; Video</td>\n",
       "      <td>USD</td>\n",
       "      <td>2014-10-17</td>\n",
       "      <td>2014-09-17 02:35:30</td>\n",
       "      <td>canceled</td>\n",
       "      <td>1</td>\n",
       "      <td>US</td>\n",
       "      <td>25.00</td>\n",
       "      <td>50000.00</td>\n",
       "      <td>17</td>\n",
       "      <td>9</td>\n",
       "      <td>2014</td>\n",
       "      <td>17</td>\n",
       "      <td>10</td>\n",
       "      <td>2014</td>\n",
       "    </tr>\n",
       "    <tr>\n",
       "      <th>378657</th>\n",
       "      <td>378657</td>\n",
       "      <td>999977640</td>\n",
       "      <td>The Tribe</td>\n",
       "      <td>Narrative Film</td>\n",
       "      <td>Film &amp; Video</td>\n",
       "      <td>USD</td>\n",
       "      <td>2011-07-19</td>\n",
       "      <td>2011-06-22 03:35:14</td>\n",
       "      <td>failed</td>\n",
       "      <td>5</td>\n",
       "      <td>US</td>\n",
       "      <td>155.00</td>\n",
       "      <td>1500.00</td>\n",
       "      <td>22</td>\n",
       "      <td>6</td>\n",
       "      <td>2011</td>\n",
       "      <td>19</td>\n",
       "      <td>7</td>\n",
       "      <td>2011</td>\n",
       "    </tr>\n",
       "    <tr>\n",
       "      <th>378658</th>\n",
       "      <td>378658</td>\n",
       "      <td>999986353</td>\n",
       "      <td>Walls of Remedy- New lesbian Romantic Comedy f...</td>\n",
       "      <td>Narrative Film</td>\n",
       "      <td>Film &amp; Video</td>\n",
       "      <td>USD</td>\n",
       "      <td>2010-08-16</td>\n",
       "      <td>2010-07-01 19:40:30</td>\n",
       "      <td>failed</td>\n",
       "      <td>1</td>\n",
       "      <td>US</td>\n",
       "      <td>20.00</td>\n",
       "      <td>15000.00</td>\n",
       "      <td>1</td>\n",
       "      <td>7</td>\n",
       "      <td>2010</td>\n",
       "      <td>16</td>\n",
       "      <td>8</td>\n",
       "      <td>2010</td>\n",
       "    </tr>\n",
       "    <tr>\n",
       "      <th>378659</th>\n",
       "      <td>378659</td>\n",
       "      <td>999987933</td>\n",
       "      <td>BioDefense Education Kit</td>\n",
       "      <td>Technology</td>\n",
       "      <td>Technology</td>\n",
       "      <td>USD</td>\n",
       "      <td>2016-02-13</td>\n",
       "      <td>2016-01-13 18:13:53</td>\n",
       "      <td>failed</td>\n",
       "      <td>6</td>\n",
       "      <td>US</td>\n",
       "      <td>200.00</td>\n",
       "      <td>15000.00</td>\n",
       "      <td>13</td>\n",
       "      <td>1</td>\n",
       "      <td>2016</td>\n",
       "      <td>13</td>\n",
       "      <td>2</td>\n",
       "      <td>2016</td>\n",
       "    </tr>\n",
       "    <tr>\n",
       "      <th>378660</th>\n",
       "      <td>378660</td>\n",
       "      <td>999988282</td>\n",
       "      <td>Nou Renmen Ayiti!  We Love Haiti!</td>\n",
       "      <td>Performance Art</td>\n",
       "      <td>Art</td>\n",
       "      <td>USD</td>\n",
       "      <td>2011-08-16</td>\n",
       "      <td>2011-07-19 09:07:47</td>\n",
       "      <td>failed</td>\n",
       "      <td>17</td>\n",
       "      <td>US</td>\n",
       "      <td>524.00</td>\n",
       "      <td>2000.00</td>\n",
       "      <td>19</td>\n",
       "      <td>7</td>\n",
       "      <td>2011</td>\n",
       "      <td>16</td>\n",
       "      <td>8</td>\n",
       "      <td>2011</td>\n",
       "    </tr>\n",
       "  </tbody>\n",
       "</table>\n",
       "<p>378661 rows × 19 columns</p>\n",
       "</div>"
      ],
      "text/plain": [
       "        Unnamed: 0          ID  \\\n",
       "0                0  1000002330   \n",
       "1                1  1000003930   \n",
       "2                2  1000004038   \n",
       "3                3  1000007540   \n",
       "4                4  1000011046   \n",
       "...            ...         ...   \n",
       "378656      378656   999976400   \n",
       "378657      378657   999977640   \n",
       "378658      378658   999986353   \n",
       "378659      378659   999987933   \n",
       "378660      378660   999988282   \n",
       "\n",
       "                                                     name         category  \\\n",
       "0                         The Songs of Adelaide & Abullah           Poetry   \n",
       "1           Greeting From Earth: ZGAC Arts Capsule For ET   Narrative Film   \n",
       "2                                          Where is Hank?   Narrative Film   \n",
       "3       ToshiCapital Rekordz Needs Help to Complete Album            Music   \n",
       "4       Community Film Project: The Art of Neighborhoo...     Film & Video   \n",
       "...                                                   ...              ...   \n",
       "378656  ChknTruk Nationwide Charity Drive 2014 (Canceled)      Documentary   \n",
       "378657                                          The Tribe   Narrative Film   \n",
       "378658  Walls of Remedy- New lesbian Romantic Comedy f...   Narrative Film   \n",
       "378659                           BioDefense Education Kit       Technology   \n",
       "378660                  Nou Renmen Ayiti!  We Love Haiti!  Performance Art   \n",
       "\n",
       "       main_category currency   deadline            launched     state  \\\n",
       "0         Publishing      GBP 2015-10-09 2015-08-11 12:12:28    failed   \n",
       "1       Film & Video      USD 2017-11-01 2017-09-02 04:43:57    failed   \n",
       "2       Film & Video      USD 2013-02-26 2013-01-12 00:20:50    failed   \n",
       "3              Music      USD 2012-04-16 2012-03-17 03:24:11    failed   \n",
       "4       Film & Video      USD 2015-08-29 2015-07-04 08:35:03  canceled   \n",
       "...              ...      ...        ...                 ...       ...   \n",
       "378656  Film & Video      USD 2014-10-17 2014-09-17 02:35:30  canceled   \n",
       "378657  Film & Video      USD 2011-07-19 2011-06-22 03:35:14    failed   \n",
       "378658  Film & Video      USD 2010-08-16 2010-07-01 19:40:30    failed   \n",
       "378659    Technology      USD 2016-02-13 2016-01-13 18:13:53    failed   \n",
       "378660           Art      USD 2011-08-16 2011-07-19 09:07:47    failed   \n",
       "\n",
       "        backers country  pledged     goal  launched_day  launched_month  \\\n",
       "0             0      GB     0.00  1533.95            11               8   \n",
       "1            15      US  2421.00 30000.00             2               9   \n",
       "2             3      US   220.00 45000.00            12               1   \n",
       "3             1      US     1.00  5000.00            17               3   \n",
       "4            14      US  1283.00 19500.00             4               7   \n",
       "...         ...     ...      ...      ...           ...             ...   \n",
       "378656        1      US    25.00 50000.00            17               9   \n",
       "378657        5      US   155.00  1500.00            22               6   \n",
       "378658        1      US    20.00 15000.00             1               7   \n",
       "378659        6      US   200.00 15000.00            13               1   \n",
       "378660       17      US   524.00  2000.00            19               7   \n",
       "\n",
       "        launched_year  deadline_day  deadline_month  deadline_year  \n",
       "0                2015             9              10           2015  \n",
       "1                2017             1              11           2017  \n",
       "2                2013            26               2           2013  \n",
       "3                2012            16               4           2012  \n",
       "4                2015            29               8           2015  \n",
       "...               ...           ...             ...            ...  \n",
       "378656           2014            17              10           2014  \n",
       "378657           2011            19               7           2011  \n",
       "378658           2010            16               8           2010  \n",
       "378659           2016            13               2           2016  \n",
       "378660           2011            16               8           2011  \n",
       "\n",
       "[378661 rows x 19 columns]"
      ]
     },
     "execution_count": 48,
     "metadata": {},
     "output_type": "execute_result"
    }
   ],
   "source": [
    "# View our data again\n",
    "df"
   ]
  },
  {
   "cell_type": "code",
   "execution_count": 49,
   "id": "abcb671f",
   "metadata": {},
   "outputs": [
    {
     "name": "stdout",
     "output_type": "stream",
     "text": [
      "<class 'pandas.core.series.Series'>\n",
      "RangeIndex: 378661 entries, 0 to 378660\n",
      "Series name: deadline\n",
      "Non-Null Count   Dtype         \n",
      "--------------   -----         \n",
      "378661 non-null  datetime64[ns]\n",
      "dtypes: datetime64[ns](1)\n",
      "memory usage: 2.9 MB\n"
     ]
    }
   ],
   "source": [
    "df['deadline'].info()"
   ]
  },
  {
   "cell_type": "markdown",
   "id": "76325181",
   "metadata": {
    "id": "76325181"
   },
   "source": [
    "As you can see, cleaning data is a meticulous process that takes a lot of time. In real life, it can take up to days and requires a lot of domain knowledge. Treat this notebook as a guideline or a case study to start with. Be creative when adapt to your personal project! Good luck 🥸 🧚🏻‍♂️"
   ]
  },
  {
   "cell_type": "markdown",
   "id": "0a2b9d6e",
   "metadata": {
    "id": "0a2b9d6e"
   },
   "source": [
    "# B. FUN TASK:"
   ]
  },
  {
   "cell_type": "markdown",
   "id": "c95a2b65",
   "metadata": {
    "id": "c95a2b65"
   },
   "source": [
    "Using IQR to filter the projects that set the goal way too ambitious or too humble."
   ]
  },
  {
   "cell_type": "code",
   "execution_count": 51,
   "id": "04232366",
   "metadata": {
    "id": "04232366"
   },
   "outputs": [],
   "source": [
    "# Create a new column called 'exceed' which is the difference of 'pledged' and 'goal'\n",
    "# YOUR CODE HERE\n",
    "df['exceed'] = df['pledged'] - df['goal']"
   ]
  },
  {
   "cell_type": "code",
   "execution_count": 53,
   "id": "d97c74a1",
   "metadata": {
    "id": "d97c74a1"
   },
   "outputs": [],
   "source": [
    "# Now apply IQR on the column 'exceed', calculate the upper whisker and lower whisker\n",
    "# YOUR CODE HERE\n",
    "Q1 = df['exceed'].quantile(0.25)\n",
    "Q3 = df['exceed'].quantile(0.75)\n",
    "IQR = Q3 - Q1\n"
   ]
  },
  {
   "cell_type": "markdown",
   "id": "8f0af160",
   "metadata": {
    "id": "8f0af160"
   },
   "source": [
    "Everything above the upper whisker means that the project attracts A LOT of money compared to its original goal. "
   ]
  },
  {
   "cell_type": "code",
   "execution_count": 54,
   "id": "7da349b2",
   "metadata": {
    "id": "7da349b2"
   },
   "outputs": [
    {
     "name": "stdout",
     "output_type": "stream",
     "text": [
      "    Unnamed: 0          ID                                               name  \\\n",
      "14          14  1000057089  Tombstone: Old West tabletop game and miniatur...   \n",
      "27          27  1000104688                                Permaculture Skills   \n",
      "31          31  1000117861                  Ledr workbook: one tough journal!   \n",
      "46          46  1000183112                            Hot Chicken Takes Over.   \n",
      "63          63  1000235643                                       HIIT Bottle™   \n",
      "\n",
      "          category main_category currency   deadline            launched  \\\n",
      "14  Tabletop Games         Games      GBP 2017-05-03 2017-04-05 19:44:18   \n",
      "27       Webseries  Film & Video      CAD 2014-12-14 2014-11-14 18:02:00   \n",
      "31  Product Design        Design      USD 2016-10-08 2016-09-07 13:14:26   \n",
      "46     Restaurants          Food      USD 2014-10-16 2014-09-16 02:31:08   \n",
      "63          Drinks          Food      USD 2015-04-27 2015-03-13 18:33:08   \n",
      "\n",
      "         state  backers country   pledged     goal  launched_day  \\\n",
      "14  successful      761      GB 121857.33  6469.73             5   \n",
      "27  successful      571      CA  42174.03 15313.04            14   \n",
      "31  successful      549      US  47266.00  1000.00             7   \n",
      "46  successful      855      US  63401.00 40000.00            16   \n",
      "63  successful     2784      US 124998.00 15000.00            13   \n",
      "\n",
      "    launched_month  launched_year  deadline_day  deadline_month  \\\n",
      "14               4           2017             3               5   \n",
      "27              11           2014            14              12   \n",
      "31               9           2016             8              10   \n",
      "46               9           2014            16              10   \n",
      "63               3           2015            27               4   \n",
      "\n",
      "    deadline_year    exceed  \n",
      "14           2017 115387.60  \n",
      "27           2014  26860.99  \n",
      "31           2016  46266.00  \n",
      "46           2014  23401.00  \n",
      "63           2015 109998.00  \n"
     ]
    }
   ],
   "source": [
    "# Filter out the projects that above the upper whisker.\n",
    "# YOUR CODE HERE\n",
    "upper_whisker = Q3 + 1.5 * IQR\n",
    "df_above_upper = df[df['exceed'] > upper_whisker]\n",
    "\n",
    "print(df_above_upper.head())"
   ]
  },
  {
   "attachments": {},
   "cell_type": "markdown",
   "id": "6e6f6dae",
   "metadata": {
    "id": "6e6f6dae"
   },
   "source": [
    "Everything below the lower whisker means that the project set the goal way TOO HIGH compared to its real potential."
   ]
  },
  {
   "cell_type": "code",
   "execution_count": 55,
   "id": "6c1457e7",
   "metadata": {
    "id": "6c1457e7"
   },
   "outputs": [
    {
     "name": "stdout",
     "output_type": "stream",
     "text": [
      "    Unnamed: 0          ID                                               name  \\\n",
      "1            1  1000003930      Greeting From Earth: ZGAC Arts Capsule For ET   \n",
      "2            2  1000004038                                     Where is Hank?   \n",
      "8            8  1000034518  SPIN - Premium Retractable In-Ear Headphones w...   \n",
      "9            9   100004195  STUDIO IN THE SKY - A Documentary Feature Film...   \n",
      "13          13  1000056157  G-Spot Place for Gamers to connect with eachot...   \n",
      "\n",
      "          category main_category currency   deadline            launched  \\\n",
      "1   Narrative Film  Film & Video      USD 2017-11-01 2017-09-02 04:43:57   \n",
      "2   Narrative Film  Film & Video      USD 2013-02-26 2013-01-12 00:20:50   \n",
      "8   Product Design        Design      USD 2014-05-29 2014-04-24 18:14:43   \n",
      "9      Documentary  Film & Video      USD 2014-08-10 2014-07-11 21:55:48   \n",
      "13           Games         Games      USD 2016-03-25 2016-02-09 23:01:12   \n",
      "\n",
      "       state  backers country  pledged      goal  launched_day  \\\n",
      "1     failed       15      US  2421.00  30000.00             2   \n",
      "2     failed        3      US   220.00  45000.00            12   \n",
      "8   canceled       58      US  8233.00 125000.00            24   \n",
      "9   canceled       43      US  6240.57  65000.00            11   \n",
      "13    failed        0      US     0.00 200000.00             9   \n",
      "\n",
      "    launched_month  launched_year  deadline_day  deadline_month  \\\n",
      "1                9           2017             1              11   \n",
      "2                1           2013            26               2   \n",
      "8                4           2014            29               5   \n",
      "9                7           2014            10               8   \n",
      "13               2           2016            25               3   \n",
      "\n",
      "    deadline_year     exceed  \n",
      "1            2017  -27579.00  \n",
      "2            2013  -44780.00  \n",
      "8            2014 -116767.00  \n",
      "9            2014  -58759.43  \n",
      "13           2016 -200000.00  \n"
     ]
    }
   ],
   "source": [
    "# Filter out the projects that below the lower whisker.\n",
    "# YOUR CODE HERE\n",
    "lower_whisker = Q1 - 1.5 * IQR\n",
    "df_below_lower = df[df['exceed'] < lower_whisker]\n",
    "\n",
    "print(df_below_lower.head())"
   ]
  },
  {
   "cell_type": "markdown",
   "id": "6cd1605a",
   "metadata": {
    "id": "6cd1605a"
   },
   "source": [
    "From here, you can further explore the \"too successful\" projects and the \"too failed\" projects. For example, what kind of category tend to be too-successful, what opposite? Which country they are from? etc. \n",
    "\n",
    "Feel free to code and post your insights to Community. HAVE FUNNN 🧙🏻‍♂️"
   ]
  }
 ],
 "metadata": {
  "colab": {
   "collapsed_sections": [
    "cda04901",
    "6b0bd809",
    "26a66451",
    "3408e925",
    "adac13c9",
    "ae00869e",
    "23cdcaad",
    "cIp2lkEK2eq5",
    "b5779535",
    "63542259",
    "t4_UCCLh2J4I",
    "e0730a74",
    "8829a250",
    "0UkWTXmZBImD",
    "09d1d498",
    "77f6lRuqB2kP",
    "33b3f075",
    "52269b4a",
    "117d16d9",
    "a9ad4d83",
    "68da4d8d",
    "4dd5d15d",
    "f956fc37",
    "d4d2d910",
    "13d529d8",
    "6e952725",
    "4b325cdc",
    "0a2b9d6e"
   ],
   "name": "3.2_Kickstarter_lab.ipynb",
   "provenance": [
    {
     "file_id": "1DC4o6hQYAquIwv2MmccSv8oXM5jXpWZQ",
     "timestamp": 1627974939735
    }
   ]
  },
  "kernelspec": {
   "display_name": "base",
   "language": "python",
   "name": "python3"
  },
  "language_info": {
   "codemirror_mode": {
    "name": "ipython",
    "version": 3
   },
   "file_extension": ".py",
   "mimetype": "text/x-python",
   "name": "python",
   "nbconvert_exporter": "python",
   "pygments_lexer": "ipython3",
   "version": "3.12.7"
  }
 },
 "nbformat": 4,
 "nbformat_minor": 5
}
