{
 "cells": [
  {
   "attachments": {},
   "cell_type": "markdown",
   "metadata": {},
   "source": [
    "# Homeworks\n",
    "<img src=\"https://pbs.twimg.com/media/De9Vi4EXUAEq9Rz.jpg\" width=\"300\">"
   ]
  },
  {
   "attachments": {},
   "cell_type": "markdown",
   "metadata": {},
   "source": [
    "### ❓**Ex1. Reverse a list:**\n",
    "\n",
    "Given:\n",
    "\n",
    "`list1 = [100, 200, 300, 400, 500]`\n",
    "\n",
    "Expected output:\n",
    "\n",
    "`[500, 400, 300, 200, 100]`"
   ]
  },
  {
   "cell_type": "code",
   "execution_count": 1,
   "metadata": {},
   "outputs": [],
   "source": [
    "list1 = [100, 200, 300, 400, 500]"
   ]
  },
  {
   "cell_type": "code",
   "execution_count": 2,
   "metadata": {},
   "outputs": [
    {
     "data": {
      "text/plain": [
       "[100, 200, 300, 400, 500]"
      ]
     },
     "execution_count": 2,
     "metadata": {},
     "output_type": "execute_result"
    }
   ],
   "source": [
    "list1"
   ]
  },
  {
   "cell_type": "code",
   "execution_count": 3,
   "metadata": {},
   "outputs": [
    {
     "data": {
      "text/plain": [
       "[500, 400, 300, 200, 100]"
      ]
     },
     "execution_count": 3,
     "metadata": {},
     "output_type": "execute_result"
    }
   ],
   "source": [
    "# Your code here\n",
    "list2 = list1[::-1]  # Reversing the list using slicing\n",
    "list2"
   ]
  },
  {
   "cell_type": "code",
   "execution_count": 4,
   "metadata": {},
   "outputs": [
    {
     "data": {
      "text/plain": [
       "list"
      ]
     },
     "execution_count": 4,
     "metadata": {},
     "output_type": "execute_result"
    }
   ],
   "source": [
    "type(list2)"
   ]
  },
  {
   "attachments": {},
   "cell_type": "markdown",
   "metadata": {},
   "source": [
    "### ❓**Ex2: Convert two lists into a dictionary**\n",
    "\n",
    "Below are the two lists. Help me to convert them into a dictionary in a way that items from list1 is the `key` and items from list2 is the `value`\n",
    "\n",
    "Expected output: \n",
    "\n",
    "`{'Ten': 10, 'Twenty': 20, 'Thirty': 30}`"
   ]
  },
  {
   "cell_type": "code",
   "execution_count": 12,
   "metadata": {},
   "outputs": [],
   "source": [
    "list1 = ['Ten', 'Twenty', 'Thirty']\n",
    "list2 = [10, 20, 30]"
   ]
  },
  {
   "cell_type": "code",
   "execution_count": 10,
   "metadata": {},
   "outputs": [
    {
     "data": {
      "text/plain": [
       "{'Ten': 10, 'Twenty': 20, 'Thirty': 30}"
      ]
     },
     "execution_count": 10,
     "metadata": {},
     "output_type": "execute_result"
    }
   ],
   "source": [
    "# Sử dụng vòng lặp for để in từng phần tử trong list1 và list2\n",
    "i = 0 \n",
    "ex2 = {}\n",
    "for k in list1:\n",
    "    ex2[k] = list2[i]\n",
    "    i += 1\n",
    "ex2    "
   ]
  },
  {
   "attachments": {},
   "cell_type": "markdown",
   "metadata": {},
   "source": [
    "### ❓**Ex3: Get all numbers inside the below sentence:**\n",
    "\n",
    "<img src=\"https://i1-english.vnecdn.net/2023/04/03/ml1-1680522036.jpg?w=1200&h=0&q=100&dpr=1&fit=crop&s=RyiN81Bji7ya3bJVpicL8w\" width=\"600\">\n",
    "\n",
    "✳️ Hint: *str*`.isnumeric()`\n",
    "\n",
    "Expected output: `'313732019661500016270'`\n"
   ]
  },
  {
   "cell_type": "code",
   "execution_count": 30,
   "metadata": {},
   "outputs": [],
   "source": [
    "sen = '''At the auction held in Paris, France, on March 31, there were 373 paintings, lacquerware, ceramics, artifacts from the\n",
    "Nguyen Dynasty, and bronze and ceramic works belonging to the School of Bien Hoa in the 20th century. A 1966 three-panel lacquer \n",
    "painting \"Phong Canh Dong Bang Song Cuu Long\" (Landscape of the Mekong Delta) by Nguyen Van Thanh was sold for 15,000 euros ($16,270).\n",
    "It depicts a river with houses nestling under trees, a bridge over the river and children bathing buffaloes.'''\n"
   ]
  },
  {
   "cell_type": "code",
   "execution_count": 34,
   "metadata": {},
   "outputs": [
    {
     "data": {
      "text/plain": [
       "'313732019661500016270'"
      ]
     },
     "execution_count": 34,
     "metadata": {},
     "output_type": "execute_result"
    }
   ],
   "source": [
    "# Get all numbers:\n",
    "number_list = []\n",
    "for w in sen:\n",
    "    if w.isnumeric():\n",
    "        number_list.append(w)\n",
    "number_list \n",
    "result = ''.join(number_list)  # Joining the list of numbers into a string\n",
    "result"
   ]
  },
  {
   "attachments": {},
   "cell_type": "markdown",
   "metadata": {},
   "source": [
    "### **Ex4: Get all words contain leter \"o\" inside in the passage `sen`?**\n",
    "\n",
    "✳️ Hint: operator: `in` and `not in`"
   ]
  },
  {
   "cell_type": "code",
   "execution_count": 15,
   "metadata": {},
   "outputs": [],
   "source": [
    "sen = '''At the auction held in Paris, France, on March 31, there were 373 paintings, lacquerware, ceramics, artifacts from the\n",
    "Nguyen Dynasty, and bronze and ceramic works belonging to the School of Bien Hoa in the 20th century. A 1966 three-panel lacquer \n",
    "painting \"Phong Canh Dong Bang Song Cuu Long\" (Landscape of the Mekong Delta) by Nguyen Van Thanh was sold for 15,000 euros ($16,270).\n",
    "It depicts a river with houses nestling under trees, a bridge over the river and children bathing buffaloes.'''"
   ]
  },
  {
   "cell_type": "code",
   "execution_count": 16,
   "metadata": {},
   "outputs": [
    {
     "data": {
      "text/plain": [
       "'At the auction held in Paris, France, on March 31, there were 373 paintings, lacquerware, ceramics, artifacts from the\\nNguyen Dynasty, and bronze and ceramic works belonging to the School of Bien Hoa in the 20th century. A 1966 three-panel lacquer \\npainting \"Phong Canh Dong Bang Song Cuu Long\" (Landscape of the Mekong Delta) by Nguyen Van Thanh was sold for 15,000 euros ($16,270).\\nIt depicts a river with houses nestling under trees, a bridge over the river and children bathing buffaloes.'"
      ]
     },
     "execution_count": 16,
     "metadata": {},
     "output_type": "execute_result"
    }
   ],
   "source": [
    "sen"
   ]
  },
  {
   "cell_type": "code",
   "execution_count": 19,
   "metadata": {},
   "outputs": [
    {
     "name": "stdout",
     "output_type": "stream",
     "text": [
      "['auction', 'on', 'from', 'bronze', 'works', 'belonging', 'to', 'School', 'of', 'Hoa', '\"Phong', 'Dong', 'Song', 'Long\"', 'of', 'Mekong', 'sold', 'for', 'euros', 'houses', 'over', 'buffaloes.']\n"
     ]
    }
   ],
   "source": [
    "# Your answer here:\n",
    "kq_split = sen.split()\n",
    "result = []\n",
    "for word in kq_split:   # word là từng từ đơn lẻ trong kq_split\n",
    "    if 'o' in word:\n",
    "        result.append(word) # Nếu word có chữ 'o' thì append vào result\n",
    "print(result)"
   ]
  },
  {
   "attachments": {},
   "cell_type": "markdown",
   "metadata": {},
   "source": [
    "### ❓**Ex5: Print the `value` of key `history` from the below `sampleDict`**\n",
    "\n",
    "Expected output: 80"
   ]
  },
  {
   "cell_type": "code",
   "execution_count": 20,
   "metadata": {},
   "outputs": [],
   "source": [
    "sampleDict = {\n",
    "    \"class\": {\n",
    "        \"student\": {\n",
    "            \"name\": \"Mike\",\n",
    "            \"marks\": {\n",
    "                \"physics\": 70,\n",
    "                \"history\": 80\n",
    "            }\n",
    "        }\n",
    "    }\n",
    "}"
   ]
  },
  {
   "cell_type": "code",
   "execution_count": 26,
   "metadata": {},
   "outputs": [
    {
     "name": "stdout",
     "output_type": "stream",
     "text": [
      "80\n"
     ]
    }
   ],
   "source": [
    "# your code here:\n",
    "#sampleDict[\"class\"][\"student\"][\"marks\"][\"history\"]\n",
    "a = sampleDict[\"class\"]\n",
    "b = a[\"student\"]\n",
    "c = b[\"marks\"]\n",
    "d = c[\"history\"]\n",
    "print(d)  # Output: 80"
   ]
  },
  {
   "cell_type": "code",
   "execution_count": 27,
   "metadata": {},
   "outputs": [
    {
     "data": {
      "text/plain": [
       "80"
      ]
     },
     "execution_count": 27,
     "metadata": {},
     "output_type": "execute_result"
    }
   ],
   "source": [
    "# your code here:\n",
    "sampleDict[\"class\"][\"student\"][\"marks\"][\"history\"]"
   ]
  },
  {
   "attachments": {},
   "cell_type": "markdown",
   "metadata": {},
   "source": [
    "### ❓ **Ex6: Delete a list of keys from a dictionary**\n",
    "\n",
    "given a list of keys that you want to delete inside the sample_dict below:\n",
    "\n",
    "expected output: `{'age': 25, 'city': 'New york'}`"
   ]
  },
  {
   "cell_type": "code",
   "execution_count": 28,
   "metadata": {},
   "outputs": [],
   "source": [
    "sample_dict = {\n",
    "    \"name\": \"Kelly\",\n",
    "    \"age\": 25,\n",
    "    \"salary\": 8000,\n",
    "    \"city\": \"New york\"\n",
    "}\n",
    "\n",
    "# Đổi tên biến remove_keys thành danh sách các keys cần xóa\n",
    "remove_keys = [\"name\", \"salary\"]"
   ]
  },
  {
   "cell_type": "code",
   "execution_count": 29,
   "metadata": {},
   "outputs": [
    {
     "name": "stdout",
     "output_type": "stream",
     "text": [
      "{'age': 25, 'city': 'New york'}\n"
     ]
    }
   ],
   "source": [
    "sample_dict = {\n",
    "    \"name\": \"Kelly\",\n",
    "    \"age\": 25,\n",
    "    \"salary\": 8000,\n",
    "    \"city\": \"New york\"}\n",
    "\n",
    "# Đổi tên biến remove_keys thành danh sách các keys cần xóa\n",
    "remove_keys = [\"name\", \"salary\"]\n",
    "\n",
    "# Xóa các keys từ sample_dict\n",
    "for key in remove_keys:\n",
    "    sample_dict.pop(key)\n",
    "\n",
    "print(sample_dict)"
   ]
  },
  {
   "attachments": {},
   "cell_type": "markdown",
   "metadata": {},
   "source": [
    "### ❓**Ex7: Remove duplicated values inside the below list with 2 versions:**\n",
    "\n",
    "✳️ Hint: operator: `in` and `not in`"
   ]
  },
  {
   "cell_type": "code",
   "execution_count": 30,
   "metadata": {},
   "outputs": [],
   "source": [
    "number_list = [10, 12, 4, 12, 11, 33, 234, 12, 3 , 10, 4, 33, 1000, 234]\n"
   ]
  },
  {
   "cell_type": "code",
   "execution_count": 31,
   "metadata": {},
   "outputs": [
    {
     "data": {
      "text/plain": [
       "[33, 3, 4, 1000, 10, 11, 12, 234]"
      ]
     },
     "execution_count": 31,
     "metadata": {},
     "output_type": "execute_result"
    }
   ],
   "source": [
    "# version 1: không quan tâm đến thứ tự vị trí của các số trong number_list\n",
    "# your code here:\n",
    "\n",
    "import random\n",
    "unique_numbers = set(number_list)  # Sử dụng set để loại bỏ các số trùng lặp\n",
    "unique_numbers = list(unique_numbers)  # Chuyển đổi set thành list\n",
    "unique_numbers"
   ]
  },
  {
   "cell_type": "code",
   "execution_count": 32,
   "metadata": {},
   "outputs": [
    {
     "data": {
      "text/plain": [
       "[33, 3, 4, 1000, 10, 11, 12, 234]"
      ]
     },
     "execution_count": 32,
     "metadata": {},
     "output_type": "execute_result"
    }
   ],
   "source": [
    "# version 2: Không thay đổi thứ tự vị trí các con số trong number_list\n",
    "# your code here:\n",
    "number_list = [10, 12, 4, 12, 11, 33, 234, 12, 3 , 10, 4, 33, 1000, 234]\n",
    "unique_numbers = set(number_list)  # Sử dụng set để loại bỏ các số trùng lặp\n",
    "unique_numbers = list(unique_numbers)  # Chuyển đổi set thành list\n",
    "unique_numbers"
   ]
  },
  {
   "cell_type": "markdown",
   "metadata": {},
   "source": [
    "#### ❓**Ex8: Get the list of numbers divisible by 3 and the list of numbers divisible by 5 from the range of natural numbers from 0 to 50:**\n",
    "\n",
    "*Expected output:*\n",
    "+ Divisible by 3 list: `[0, 3, 6, 9, 12, 15, 18, 21, 24, 27, 30, 33, 36, 39, 42, 45, 48]`\n",
    "\n",
    "+ Divisible by 5 list: `[0, 5, 10, 15, 20, 25, 30, 35, 40, 45]`\n"
   ]
  },
  {
   "cell_type": "code",
   "execution_count": 10,
   "metadata": {},
   "outputs": [
    {
     "name": "stdout",
     "output_type": "stream",
     "text": [
      "[0, 3, 6, 9, 12, 15, 18, 21, 24, 27, 30, 33, 36, 39, 42, 45, 48]\n"
     ]
    }
   ],
   "source": [
    "# your code here:\n",
    "# Tạo danh sách các số từ 0 đến 49\n",
    "range_50 = list(range(0, 50))\n",
    "\n",
    "# Tạo danh sách mới chỉ gồm các số chia hết cho 3\n",
    "list_c3 = []\n",
    "for i in range_50:\n",
    "    if i % 3 == 0:\n",
    "        list_c3.append(i)\n",
    "\n",
    "# In kết quả\n",
    "print(list_c3)\n",
    "\n"
   ]
  },
  {
   "cell_type": "code",
   "execution_count": 11,
   "metadata": {},
   "outputs": [
    {
     "name": "stdout",
     "output_type": "stream",
     "text": [
      "[0, 5, 10, 15, 20, 25, 30, 35, 40, 45]\n"
     ]
    }
   ],
   "source": [
    "# your code here:\n",
    "# Tạo danh sách các số từ 0 đến 49\n",
    "range_50b = list(range(0, 50))\n",
    "\n",
    "# Tạo danh sách mới chỉ gồm các số chia hết cho 3\n",
    "list_c5 = []\n",
    "for i in range_50b:\n",
    "    if i % 5 == 0:\n",
    "        list_c5.append(i)\n",
    "\n",
    "# In kết quả\n",
    "print(list_c5)"
   ]
  },
  {
   "cell_type": "markdown",
   "metadata": {},
   "source": [
    "### ❓**Ex 9: File common values inside below list**\n",
    "Expected output: `['apple', 'grape']`\n",
    "\n",
    "➡️ hint: `in` and `not in`\n",
    "\n"
   ]
  },
  {
   "cell_type": "code",
   "execution_count": 1,
   "metadata": {},
   "outputs": [],
   "source": [
    "fruit_set1 = ['apple', 'orange', 'banana', 'grape', 'lemon']\n",
    "fruit_set2 = ['grape', 'pineapple', 'apple', 'watermelon', 'kiwi']\n",
    "# Your code here:"
   ]
  },
  {
   "cell_type": "markdown",
   "metadata": {},
   "source": [
    "### ❓**Ex 10: Given the list of students' scores below:**\n",
    "\n",
    "Requirements: Classify scores according to the following grading scale and count the number of each type:\n",
    "+ A: 90-100\n",
    "+ B: 80-89\n",
    "+ C: 70-79\n",
    "+ D: 60-69\n",
    "+ F: below 60\n",
    "> Expected output: {'A': 2, 'B': 2, 'C': 2, 'D': 1, 'F': 2}\n"
   ]
  },
  {
   "cell_type": "code",
   "execution_count": 12,
   "metadata": {},
   "outputs": [],
   "source": [
    "scores = (78, 45, 92, 65, 88, 72, 94, 59, 83)\n",
    "\n",
    "# your code here:"
   ]
  },
  {
   "cell_type": "code",
   "execution_count": 13,
   "metadata": {},
   "outputs": [
    {
     "name": "stdout",
     "output_type": "stream",
     "text": [
      "{'A': 2, 'B': 2, 'C': 2, 'D': 1, 'F': 2}\n"
     ]
    }
   ],
   "source": [
    "scores = [95, 85, 72, 60, 59, 99, 88, 73, 45]\n",
    "\n",
    "# Tạo dictionary ban đầu với giá trị là 0\n",
    "grade_count = {'A': 0, 'B': 0, 'C': 0, 'D': 0, 'F': 0}\n",
    "\n",
    "# Duyệt qua từng điểm trong danh sách\n",
    "for score in scores:\n",
    "    if 90 <= score <= 100:\n",
    "        grade_count['A'] += 1\n",
    "    elif 80 <= score <= 89:\n",
    "        grade_count['B'] += 1\n",
    "    elif 70 <= score <= 79:\n",
    "        grade_count['C'] += 1\n",
    "    elif 60 <= score <= 69:\n",
    "        grade_count['D'] += 1\n",
    "    else:\n",
    "        grade_count['F'] += 1\n",
    "\n",
    "print(grade_count)\n"
   ]
  }
 ],
 "metadata": {
  "kernelspec": {
   "display_name": "base",
   "language": "python",
   "name": "python3"
  },
  "language_info": {
   "codemirror_mode": {
    "name": "ipython",
    "version": 3
   },
   "file_extension": ".py",
   "mimetype": "text/x-python",
   "name": "python",
   "nbconvert_exporter": "python",
   "pygments_lexer": "ipython3",
   "version": "3.12.7"
  },
  "orig_nbformat": 4
 },
 "nbformat": 4,
 "nbformat_minor": 2
}
