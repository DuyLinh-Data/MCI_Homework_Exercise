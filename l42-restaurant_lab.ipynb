{
 "cells": [
  {
   "attachments": {},
   "cell_type": "markdown",
   "id": "b189710d",
   "metadata": {
    "id": "b189710d"
   },
   "source": [
    "# Pandas lab 1"
   ]
  },
  {
   "attachments": {},
   "cell_type": "markdown",
   "id": "e15dba53",
   "metadata": {
    "id": "e15dba53"
   },
   "source": [
    "## **Import data and libraries**\n",
    "\n",
    "In this Lab we will use a restaurant dataset. \n",
    "\n",
    "The dataset contains tips data from different customers females and males, smokers and non smokers, from days, dinner or lunch and from different table size."
   ]
  },
  {
   "cell_type": "code",
   "execution_count": 24,
   "id": "e3d9b219",
   "metadata": {
    "id": "e3d9b219"
   },
   "outputs": [
    {
     "data": {
      "text/html": [
       "<div>\n",
       "<style scoped>\n",
       "    .dataframe tbody tr th:only-of-type {\n",
       "        vertical-align: middle;\n",
       "    }\n",
       "\n",
       "    .dataframe tbody tr th {\n",
       "        vertical-align: top;\n",
       "    }\n",
       "\n",
       "    .dataframe thead th {\n",
       "        text-align: right;\n",
       "    }\n",
       "</style>\n",
       "<table border=\"1\" class=\"dataframe\">\n",
       "  <thead>\n",
       "    <tr style=\"text-align: right;\">\n",
       "      <th></th>\n",
       "      <th>total_bill</th>\n",
       "      <th>tip</th>\n",
       "      <th>sex</th>\n",
       "      <th>smoker</th>\n",
       "      <th>day</th>\n",
       "      <th>time</th>\n",
       "      <th>size</th>\n",
       "    </tr>\n",
       "  </thead>\n",
       "  <tbody>\n",
       "    <tr>\n",
       "      <th>0</th>\n",
       "      <td>16.99</td>\n",
       "      <td>1.01</td>\n",
       "      <td>Female</td>\n",
       "      <td>No</td>\n",
       "      <td>Sun</td>\n",
       "      <td>Dinner</td>\n",
       "      <td>2</td>\n",
       "    </tr>\n",
       "    <tr>\n",
       "      <th>1</th>\n",
       "      <td>10.34</td>\n",
       "      <td>1.66</td>\n",
       "      <td>Male</td>\n",
       "      <td>No</td>\n",
       "      <td>Sun</td>\n",
       "      <td>Dinner</td>\n",
       "      <td>3</td>\n",
       "    </tr>\n",
       "    <tr>\n",
       "      <th>2</th>\n",
       "      <td>21.01</td>\n",
       "      <td>3.50</td>\n",
       "      <td>Male</td>\n",
       "      <td>No</td>\n",
       "      <td>Sun</td>\n",
       "      <td>Dinner</td>\n",
       "      <td>3</td>\n",
       "    </tr>\n",
       "    <tr>\n",
       "      <th>3</th>\n",
       "      <td>23.68</td>\n",
       "      <td>3.31</td>\n",
       "      <td>Male</td>\n",
       "      <td>No</td>\n",
       "      <td>Sun</td>\n",
       "      <td>Dinner</td>\n",
       "      <td>2</td>\n",
       "    </tr>\n",
       "    <tr>\n",
       "      <th>4</th>\n",
       "      <td>24.59</td>\n",
       "      <td>3.61</td>\n",
       "      <td>Female</td>\n",
       "      <td>No</td>\n",
       "      <td>Sun</td>\n",
       "      <td>Dinner</td>\n",
       "      <td>4</td>\n",
       "    </tr>\n",
       "    <tr>\n",
       "      <th>...</th>\n",
       "      <td>...</td>\n",
       "      <td>...</td>\n",
       "      <td>...</td>\n",
       "      <td>...</td>\n",
       "      <td>...</td>\n",
       "      <td>...</td>\n",
       "      <td>...</td>\n",
       "    </tr>\n",
       "    <tr>\n",
       "      <th>239</th>\n",
       "      <td>29.03</td>\n",
       "      <td>5.92</td>\n",
       "      <td>Male</td>\n",
       "      <td>No</td>\n",
       "      <td>Sat</td>\n",
       "      <td>Dinner</td>\n",
       "      <td>3</td>\n",
       "    </tr>\n",
       "    <tr>\n",
       "      <th>240</th>\n",
       "      <td>27.18</td>\n",
       "      <td>2.00</td>\n",
       "      <td>Female</td>\n",
       "      <td>Yes</td>\n",
       "      <td>Sat</td>\n",
       "      <td>Dinner</td>\n",
       "      <td>2</td>\n",
       "    </tr>\n",
       "    <tr>\n",
       "      <th>241</th>\n",
       "      <td>22.67</td>\n",
       "      <td>2.00</td>\n",
       "      <td>Male</td>\n",
       "      <td>Yes</td>\n",
       "      <td>Sat</td>\n",
       "      <td>Dinner</td>\n",
       "      <td>2</td>\n",
       "    </tr>\n",
       "    <tr>\n",
       "      <th>242</th>\n",
       "      <td>17.82</td>\n",
       "      <td>1.75</td>\n",
       "      <td>Male</td>\n",
       "      <td>No</td>\n",
       "      <td>Sat</td>\n",
       "      <td>Dinner</td>\n",
       "      <td>2</td>\n",
       "    </tr>\n",
       "    <tr>\n",
       "      <th>243</th>\n",
       "      <td>18.78</td>\n",
       "      <td>3.00</td>\n",
       "      <td>Female</td>\n",
       "      <td>No</td>\n",
       "      <td>Thur</td>\n",
       "      <td>Dinner</td>\n",
       "      <td>2</td>\n",
       "    </tr>\n",
       "  </tbody>\n",
       "</table>\n",
       "<p>244 rows × 7 columns</p>\n",
       "</div>"
      ],
      "text/plain": [
       "     total_bill   tip     sex smoker   day    time  size\n",
       "0         16.99  1.01  Female     No   Sun  Dinner     2\n",
       "1         10.34  1.66    Male     No   Sun  Dinner     3\n",
       "2         21.01  3.50    Male     No   Sun  Dinner     3\n",
       "3         23.68  3.31    Male     No   Sun  Dinner     2\n",
       "4         24.59  3.61  Female     No   Sun  Dinner     4\n",
       "..          ...   ...     ...    ...   ...     ...   ...\n",
       "239       29.03  5.92    Male     No   Sat  Dinner     3\n",
       "240       27.18  2.00  Female    Yes   Sat  Dinner     2\n",
       "241       22.67  2.00    Male    Yes   Sat  Dinner     2\n",
       "242       17.82  1.75    Male     No   Sat  Dinner     2\n",
       "243       18.78  3.00  Female     No  Thur  Dinner     2\n",
       "\n",
       "[244 rows x 7 columns]"
      ]
     },
     "execution_count": 24,
     "metadata": {},
     "output_type": "execute_result"
    }
   ],
   "source": [
    "import pandas as pd\n",
    "\n",
    "# Load restaurant.csv file from data folder to variable \"df\":\n",
    "df = pd.read_csv(r'Data\\restaurant.csv') # your code here\n",
    "df"
   ]
  },
  {
   "cell_type": "code",
   "execution_count": 25,
   "id": "f5e073a7",
   "metadata": {},
   "outputs": [
    {
     "data": {
      "text/html": [
       "<div>\n",
       "<style scoped>\n",
       "    .dataframe tbody tr th:only-of-type {\n",
       "        vertical-align: middle;\n",
       "    }\n",
       "\n",
       "    .dataframe tbody tr th {\n",
       "        vertical-align: top;\n",
       "    }\n",
       "\n",
       "    .dataframe thead th {\n",
       "        text-align: right;\n",
       "    }\n",
       "</style>\n",
       "<table border=\"1\" class=\"dataframe\">\n",
       "  <thead>\n",
       "    <tr style=\"text-align: right;\">\n",
       "      <th></th>\n",
       "      <th>total_bill</th>\n",
       "      <th>tip</th>\n",
       "      <th>sex</th>\n",
       "      <th>smoker</th>\n",
       "      <th>day</th>\n",
       "      <th>time</th>\n",
       "      <th>size</th>\n",
       "    </tr>\n",
       "  </thead>\n",
       "  <tbody>\n",
       "    <tr>\n",
       "      <th>0</th>\n",
       "      <td>16.99</td>\n",
       "      <td>1.01</td>\n",
       "      <td>Female</td>\n",
       "      <td>No</td>\n",
       "      <td>Sun</td>\n",
       "      <td>Dinner</td>\n",
       "      <td>2</td>\n",
       "    </tr>\n",
       "    <tr>\n",
       "      <th>1</th>\n",
       "      <td>10.34</td>\n",
       "      <td>1.66</td>\n",
       "      <td>Male</td>\n",
       "      <td>No</td>\n",
       "      <td>Sun</td>\n",
       "      <td>Dinner</td>\n",
       "      <td>3</td>\n",
       "    </tr>\n",
       "    <tr>\n",
       "      <th>2</th>\n",
       "      <td>21.01</td>\n",
       "      <td>3.50</td>\n",
       "      <td>Male</td>\n",
       "      <td>No</td>\n",
       "      <td>Sun</td>\n",
       "      <td>Dinner</td>\n",
       "      <td>3</td>\n",
       "    </tr>\n",
       "    <tr>\n",
       "      <th>3</th>\n",
       "      <td>23.68</td>\n",
       "      <td>3.31</td>\n",
       "      <td>Male</td>\n",
       "      <td>No</td>\n",
       "      <td>Sun</td>\n",
       "      <td>Dinner</td>\n",
       "      <td>2</td>\n",
       "    </tr>\n",
       "    <tr>\n",
       "      <th>4</th>\n",
       "      <td>24.59</td>\n",
       "      <td>3.61</td>\n",
       "      <td>Female</td>\n",
       "      <td>No</td>\n",
       "      <td>Sun</td>\n",
       "      <td>Dinner</td>\n",
       "      <td>4</td>\n",
       "    </tr>\n",
       "  </tbody>\n",
       "</table>\n",
       "</div>"
      ],
      "text/plain": [
       "   total_bill   tip     sex smoker  day    time  size\n",
       "0       16.99  1.01  Female     No  Sun  Dinner     2\n",
       "1       10.34  1.66    Male     No  Sun  Dinner     3\n",
       "2       21.01  3.50    Male     No  Sun  Dinner     3\n",
       "3       23.68  3.31    Male     No  Sun  Dinner     2\n",
       "4       24.59  3.61  Female     No  Sun  Dinner     4"
      ]
     },
     "execution_count": 25,
     "metadata": {},
     "output_type": "execute_result"
    }
   ],
   "source": [
    "# show the first 5 rows\n",
    "# your code here\n",
    "df.head()"
   ]
  },
  {
   "cell_type": "markdown",
   "id": "nHx-j3DMrQ4G",
   "metadata": {
    "id": "nHx-j3DMrQ4G"
   },
   "source": [
    "## **Overview**"
   ]
  },
  {
   "cell_type": "markdown",
   "id": "7c9a5fed",
   "metadata": {
    "id": "7c9a5fed"
   },
   "source": [
    "### 📑 Question 1 (EXPRESSION - 5 pts)\n",
    "\n",
    "Write **one line of code** to Show the **first 3 rows** of the data"
   ]
  },
  {
   "cell_type": "markdown",
   "id": "fmRFCstysRYN",
   "metadata": {
    "id": "fmRFCstysRYN"
   },
   "source": [
    "**Output should look like this**\n",
    "\n",
    "|    |   total_bill |   tip | sex    | smoker   | day   | time   |   size |\n",
    "|---:|-------------:|------:|:-------|:---------|:------|:-------|-------:|\n",
    "|  0 |        16.99 |  1.01 | Female | No       | Sun   | Dinner |      2 |\n",
    "|  1 |        10.34 |  1.66 | Male   | No       | Sun   | Dinner |      3 |\n",
    "|  2 |        21.01 |  3.5  | Male   | No       | Sun   | Dinner |      3 |"
   ]
  },
  {
   "cell_type": "code",
   "execution_count": 27,
   "id": "4224da8a",
   "metadata": {
    "cellView": "form",
    "id": "4224da8a"
   },
   "outputs": [
    {
     "data": {
      "text/html": [
       "<div>\n",
       "<style scoped>\n",
       "    .dataframe tbody tr th:only-of-type {\n",
       "        vertical-align: middle;\n",
       "    }\n",
       "\n",
       "    .dataframe tbody tr th {\n",
       "        vertical-align: top;\n",
       "    }\n",
       "\n",
       "    .dataframe thead th {\n",
       "        text-align: right;\n",
       "    }\n",
       "</style>\n",
       "<table border=\"1\" class=\"dataframe\">\n",
       "  <thead>\n",
       "    <tr style=\"text-align: right;\">\n",
       "      <th></th>\n",
       "      <th>total_bill</th>\n",
       "      <th>tip</th>\n",
       "      <th>sex</th>\n",
       "      <th>smoker</th>\n",
       "      <th>day</th>\n",
       "      <th>time</th>\n",
       "      <th>size</th>\n",
       "    </tr>\n",
       "  </thead>\n",
       "  <tbody>\n",
       "    <tr>\n",
       "      <th>0</th>\n",
       "      <td>16.99</td>\n",
       "      <td>1.01</td>\n",
       "      <td>Female</td>\n",
       "      <td>No</td>\n",
       "      <td>Sun</td>\n",
       "      <td>Dinner</td>\n",
       "      <td>2</td>\n",
       "    </tr>\n",
       "    <tr>\n",
       "      <th>1</th>\n",
       "      <td>10.34</td>\n",
       "      <td>1.66</td>\n",
       "      <td>Male</td>\n",
       "      <td>No</td>\n",
       "      <td>Sun</td>\n",
       "      <td>Dinner</td>\n",
       "      <td>3</td>\n",
       "    </tr>\n",
       "    <tr>\n",
       "      <th>2</th>\n",
       "      <td>21.01</td>\n",
       "      <td>3.50</td>\n",
       "      <td>Male</td>\n",
       "      <td>No</td>\n",
       "      <td>Sun</td>\n",
       "      <td>Dinner</td>\n",
       "      <td>3</td>\n",
       "    </tr>\n",
       "  </tbody>\n",
       "</table>\n",
       "</div>"
      ],
      "text/plain": [
       "   total_bill   tip     sex smoker  day    time  size\n",
       "0       16.99  1.01  Female     No  Sun  Dinner     2\n",
       "1       10.34  1.66    Male     No  Sun  Dinner     3\n",
       "2       21.01  3.50    Male     No  Sun  Dinner     3"
      ]
     },
     "execution_count": 27,
     "metadata": {},
     "output_type": "execute_result"
    }
   ],
   "source": [
    "# Your answer/code here:\n",
    "df.head(3)"
   ]
  },
  {
   "cell_type": "markdown",
   "id": "d1286ae8",
   "metadata": {
    "id": "d1286ae8"
   },
   "source": [
    "### 📑 Question 2 (EXPRESSION - 5 pts)\n",
    "\n",
    "Write **one line of code** to Show the **last 2 rows** of the data"
   ]
  },
  {
   "cell_type": "markdown",
   "id": "q6-KCk8Bs2ok",
   "metadata": {
    "id": "q6-KCk8Bs2ok"
   },
   "source": [
    "**Output should look like this**\n",
    "\n",
    "|     |   total_bill |   tip | sex    | smoker   | day   | time   |   size |\n",
    "|----:|-------------:|------:|:-------|:---------|:------|:-------|-------:|\n",
    "| 242 |        17.82 |  1.75 | Male   | No       | Sat   | Dinner |      2 |\n",
    "| 243 |        18.78 |  3    | Female | No       | Thur  | Dinner |      2 |"
   ]
  },
  {
   "cell_type": "code",
   "execution_count": 28,
   "id": "317a4e4d",
   "metadata": {
    "cellView": "form",
    "id": "317a4e4d"
   },
   "outputs": [
    {
     "data": {
      "text/html": [
       "<div>\n",
       "<style scoped>\n",
       "    .dataframe tbody tr th:only-of-type {\n",
       "        vertical-align: middle;\n",
       "    }\n",
       "\n",
       "    .dataframe tbody tr th {\n",
       "        vertical-align: top;\n",
       "    }\n",
       "\n",
       "    .dataframe thead th {\n",
       "        text-align: right;\n",
       "    }\n",
       "</style>\n",
       "<table border=\"1\" class=\"dataframe\">\n",
       "  <thead>\n",
       "    <tr style=\"text-align: right;\">\n",
       "      <th></th>\n",
       "      <th>total_bill</th>\n",
       "      <th>tip</th>\n",
       "      <th>sex</th>\n",
       "      <th>smoker</th>\n",
       "      <th>day</th>\n",
       "      <th>time</th>\n",
       "      <th>size</th>\n",
       "    </tr>\n",
       "  </thead>\n",
       "  <tbody>\n",
       "    <tr>\n",
       "      <th>242</th>\n",
       "      <td>17.82</td>\n",
       "      <td>1.75</td>\n",
       "      <td>Male</td>\n",
       "      <td>No</td>\n",
       "      <td>Sat</td>\n",
       "      <td>Dinner</td>\n",
       "      <td>2</td>\n",
       "    </tr>\n",
       "    <tr>\n",
       "      <th>243</th>\n",
       "      <td>18.78</td>\n",
       "      <td>3.00</td>\n",
       "      <td>Female</td>\n",
       "      <td>No</td>\n",
       "      <td>Thur</td>\n",
       "      <td>Dinner</td>\n",
       "      <td>2</td>\n",
       "    </tr>\n",
       "  </tbody>\n",
       "</table>\n",
       "</div>"
      ],
      "text/plain": [
       "     total_bill   tip     sex smoker   day    time  size\n",
       "242       17.82  1.75    Male     No   Sat  Dinner     2\n",
       "243       18.78  3.00  Female     No  Thur  Dinner     2"
      ]
     },
     "execution_count": 28,
     "metadata": {},
     "output_type": "execute_result"
    }
   ],
   "source": [
    "# Your answer/code here:\n",
    "df.tail(2)"
   ]
  },
  {
   "cell_type": "code",
   "execution_count": 29,
   "id": "2a1ed32c",
   "metadata": {},
   "outputs": [
    {
     "data": {
      "text/plain": [
       "(244, 7)"
      ]
     },
     "execution_count": 29,
     "metadata": {},
     "output_type": "execute_result"
    }
   ],
   "source": [
    "df.shape"
   ]
  },
  {
   "cell_type": "markdown",
   "id": "66ec5972",
   "metadata": {
    "id": "66ec5972"
   },
   "source": [
    "### 📑 Question 3 (MULTICHOICE_SINGLE - 5 pts)\n",
    "\n",
    "What syntax is right to get random rows in dataframe?\n",
    "\n",
    "-  A df.shuffle()\n",
    "\n",
    "- B df.random()\n",
    "\n",
    "- C df.sample()\n",
    "\n",
    "- D df.mix()"
   ]
  },
  {
   "cell_type": "code",
   "execution_count": 31,
   "id": "7c1cbb4d",
   "metadata": {
    "cellView": "form",
    "id": "7c1cbb4d"
   },
   "outputs": [
    {
     "data": {
      "text/html": [
       "<div>\n",
       "<style scoped>\n",
       "    .dataframe tbody tr th:only-of-type {\n",
       "        vertical-align: middle;\n",
       "    }\n",
       "\n",
       "    .dataframe tbody tr th {\n",
       "        vertical-align: top;\n",
       "    }\n",
       "\n",
       "    .dataframe thead th {\n",
       "        text-align: right;\n",
       "    }\n",
       "</style>\n",
       "<table border=\"1\" class=\"dataframe\">\n",
       "  <thead>\n",
       "    <tr style=\"text-align: right;\">\n",
       "      <th></th>\n",
       "      <th>total_bill</th>\n",
       "      <th>tip</th>\n",
       "      <th>sex</th>\n",
       "      <th>smoker</th>\n",
       "      <th>day</th>\n",
       "      <th>time</th>\n",
       "      <th>size</th>\n",
       "    </tr>\n",
       "  </thead>\n",
       "  <tbody>\n",
       "    <tr>\n",
       "      <th>106</th>\n",
       "      <td>20.49</td>\n",
       "      <td>4.06</td>\n",
       "      <td>Male</td>\n",
       "      <td>Yes</td>\n",
       "      <td>Sat</td>\n",
       "      <td>Dinner</td>\n",
       "      <td>2</td>\n",
       "    </tr>\n",
       "    <tr>\n",
       "      <th>231</th>\n",
       "      <td>15.69</td>\n",
       "      <td>3.00</td>\n",
       "      <td>Male</td>\n",
       "      <td>Yes</td>\n",
       "      <td>Sat</td>\n",
       "      <td>Dinner</td>\n",
       "      <td>3</td>\n",
       "    </tr>\n",
       "    <tr>\n",
       "      <th>134</th>\n",
       "      <td>18.26</td>\n",
       "      <td>3.25</td>\n",
       "      <td>Female</td>\n",
       "      <td>No</td>\n",
       "      <td>Thur</td>\n",
       "      <td>Lunch</td>\n",
       "      <td>2</td>\n",
       "    </tr>\n",
       "  </tbody>\n",
       "</table>\n",
       "</div>"
      ],
      "text/plain": [
       "     total_bill   tip     sex smoker   day    time  size\n",
       "106       20.49  4.06    Male    Yes   Sat  Dinner     2\n",
       "231       15.69  3.00    Male    Yes   Sat  Dinner     3\n",
       "134       18.26  3.25  Female     No  Thur   Lunch     2"
      ]
     },
     "execution_count": 31,
     "metadata": {},
     "output_type": "execute_result"
    }
   ],
   "source": [
    "# Your answer/code here:\n",
    "df.sample(3)"
   ]
  },
  {
   "cell_type": "markdown",
   "id": "16f47872",
   "metadata": {
    "id": "16f47872"
   },
   "source": [
    "### 📑 Question 4 (EXPRESSION - 5 pts)\n",
    "Write one line of code to show a **descriptive statistics summary** of the dataset."
   ]
  },
  {
   "cell_type": "markdown",
   "id": "GMg-f6LNtZ5k",
   "metadata": {
    "id": "GMg-f6LNtZ5k"
   },
   "source": [
    "**Output should look like this**\n",
    "\n",
    "|       |   total_bill |       tip |      size |\n",
    "|:------|-------------:|----------:|----------:|\n",
    "| count |    244       | 244       | 244       |\n",
    "| mean  |     19.7859  |   2.99828 |   2.56967 |\n",
    "| std   |      8.90241 |   1.38364 |   0.9511  |\n",
    "| min   |      3.07    |   1       |   1       |\n",
    "| 25%   |     13.3475  |   2       |   2       |\n",
    "| 50%   |     17.795   |   2.9     |   2       |\n",
    "| 75%   |     24.1275  |   3.5625  |   3       |\n",
    "| max   |     50.81    |  10       |   6       |"
   ]
  },
  {
   "cell_type": "code",
   "execution_count": 33,
   "id": "e530d824",
   "metadata": {
    "cellView": "form",
    "id": "e530d824"
   },
   "outputs": [
    {
     "data": {
      "text/html": [
       "<div>\n",
       "<style scoped>\n",
       "    .dataframe tbody tr th:only-of-type {\n",
       "        vertical-align: middle;\n",
       "    }\n",
       "\n",
       "    .dataframe tbody tr th {\n",
       "        vertical-align: top;\n",
       "    }\n",
       "\n",
       "    .dataframe thead th {\n",
       "        text-align: right;\n",
       "    }\n",
       "</style>\n",
       "<table border=\"1\" class=\"dataframe\">\n",
       "  <thead>\n",
       "    <tr style=\"text-align: right;\">\n",
       "      <th></th>\n",
       "      <th>total_bill</th>\n",
       "      <th>tip</th>\n",
       "      <th>size</th>\n",
       "    </tr>\n",
       "  </thead>\n",
       "  <tbody>\n",
       "    <tr>\n",
       "      <th>count</th>\n",
       "      <td>244.000000</td>\n",
       "      <td>244.000000</td>\n",
       "      <td>244.000000</td>\n",
       "    </tr>\n",
       "    <tr>\n",
       "      <th>mean</th>\n",
       "      <td>19.785943</td>\n",
       "      <td>2.998279</td>\n",
       "      <td>2.569672</td>\n",
       "    </tr>\n",
       "    <tr>\n",
       "      <th>std</th>\n",
       "      <td>8.902412</td>\n",
       "      <td>1.383638</td>\n",
       "      <td>0.951100</td>\n",
       "    </tr>\n",
       "    <tr>\n",
       "      <th>min</th>\n",
       "      <td>3.070000</td>\n",
       "      <td>1.000000</td>\n",
       "      <td>1.000000</td>\n",
       "    </tr>\n",
       "    <tr>\n",
       "      <th>25%</th>\n",
       "      <td>13.347500</td>\n",
       "      <td>2.000000</td>\n",
       "      <td>2.000000</td>\n",
       "    </tr>\n",
       "    <tr>\n",
       "      <th>50%</th>\n",
       "      <td>17.795000</td>\n",
       "      <td>2.900000</td>\n",
       "      <td>2.000000</td>\n",
       "    </tr>\n",
       "    <tr>\n",
       "      <th>75%</th>\n",
       "      <td>24.127500</td>\n",
       "      <td>3.562500</td>\n",
       "      <td>3.000000</td>\n",
       "    </tr>\n",
       "    <tr>\n",
       "      <th>max</th>\n",
       "      <td>50.810000</td>\n",
       "      <td>10.000000</td>\n",
       "      <td>6.000000</td>\n",
       "    </tr>\n",
       "  </tbody>\n",
       "</table>\n",
       "</div>"
      ],
      "text/plain": [
       "       total_bill         tip        size\n",
       "count  244.000000  244.000000  244.000000\n",
       "mean    19.785943    2.998279    2.569672\n",
       "std      8.902412    1.383638    0.951100\n",
       "min      3.070000    1.000000    1.000000\n",
       "25%     13.347500    2.000000    2.000000\n",
       "50%     17.795000    2.900000    2.000000\n",
       "75%     24.127500    3.562500    3.000000\n",
       "max     50.810000   10.000000    6.000000"
      ]
     },
     "execution_count": 33,
     "metadata": {},
     "output_type": "execute_result"
    }
   ],
   "source": [
    "# Your answer/code here:\n",
    "df.describe()"
   ]
  },
  {
   "cell_type": "markdown",
   "id": "msv1I9c4t82I",
   "metadata": {
    "id": "msv1I9c4t82I"
   },
   "source": [
    "## **EDA - Exploratory Data Analysis**"
   ]
  },
  {
   "cell_type": "markdown",
   "id": "49cab693",
   "metadata": {
    "id": "49cab693"
   },
   "source": [
    "### 📑 Question 5 (EXPRESSION - 5 pts)\n",
    "Write one line of code to find out the **minimum amount of tip**."
   ]
  },
  {
   "cell_type": "markdown",
   "id": "mDAJ73-wuEjB",
   "metadata": {
    "id": "mDAJ73-wuEjB"
   },
   "source": [
    "**Output should be a number**"
   ]
  },
  {
   "cell_type": "code",
   "execution_count": 34,
   "id": "5ea58e1f",
   "metadata": {
    "cellView": "form",
    "id": "5ea58e1f"
   },
   "outputs": [
    {
     "data": {
      "text/plain": [
       "1.0"
      ]
     },
     "execution_count": 34,
     "metadata": {},
     "output_type": "execute_result"
    }
   ],
   "source": [
    "# Your answer/code here:\n",
    "df['tip'].min()"
   ]
  },
  {
   "cell_type": "markdown",
   "id": "1e36acf3",
   "metadata": {
    "id": "1e36acf3"
   },
   "source": [
    "### 📑 Question 6 (EXPRESSION - 5 pts)\n",
    "Write one line of code to find out the **maximum amount of tip**."
   ]
  },
  {
   "cell_type": "markdown",
   "id": "jkm1S3nOuPGu",
   "metadata": {
    "id": "jkm1S3nOuPGu"
   },
   "source": [
    "**Output should be a number**"
   ]
  },
  {
   "cell_type": "code",
   "execution_count": 35,
   "id": "e9ca8850",
   "metadata": {
    "cellView": "form",
    "id": "e9ca8850"
   },
   "outputs": [
    {
     "data": {
      "text/plain": [
       "10.0"
      ]
     },
     "execution_count": 35,
     "metadata": {},
     "output_type": "execute_result"
    }
   ],
   "source": [
    "# Your answer/code here:\n",
    "df['tip'].max()"
   ]
  },
  {
   "cell_type": "markdown",
   "id": "fe203f8e",
   "metadata": {
    "id": "fe203f8e"
   },
   "source": [
    "### 📑 Question 7 (MULTICHOICE_SINGLE - 5 pts)\n",
    "\n",
    "On which days of the week, the restaurant is open?\n",
    "\n",
    "- A. Mon, Tue, Wed, Thu\n",
    "\n",
    "- B. Thu, Fri, Sat, Sun\n",
    "\n",
    "- C. Mon, Wed, Fri \n",
    "\n",
    "- D. Open all days in week"
   ]
  },
  {
   "cell_type": "code",
   "execution_count": 36,
   "id": "3ed7f384",
   "metadata": {
    "cellView": "form",
    "id": "3ed7f384"
   },
   "outputs": [
    {
     "name": "stdout",
     "output_type": "stream",
     "text": [
      "Các ngày nhà hàng mở cửa ['Sun' 'Sat' 'Thur' 'Fri']\n"
     ]
    }
   ],
   "source": [
    "# Your answer/code here: ---> Option B\n",
    "print('Các ngày nhà hàng mở cửa',df['day'].unique())\n"
   ]
  },
  {
   "cell_type": "markdown",
   "id": "2050fbcf",
   "metadata": {
    "id": "2050fbcf"
   },
   "source": [
    "### 📑 Question 8 (EXPRESSION - 5 pts)\n",
    "Write one line of code to get the list of **unique values** of the column ```time```."
   ]
  },
  {
   "cell_type": "markdown",
   "id": "AVxz-PnJu4vj",
   "metadata": {
    "id": "AVxz-PnJu4vj"
   },
   "source": [
    "**Output should look like this**\n",
    "\n",
    "array(['Dinner', 'Lunch'], dtype=object)"
   ]
  },
  {
   "cell_type": "code",
   "execution_count": 37,
   "id": "0142d261",
   "metadata": {
    "cellView": "form",
    "id": "0142d261"
   },
   "outputs": [
    {
     "data": {
      "text/plain": [
       "array(['Dinner', 'Lunch'], dtype=object)"
      ]
     },
     "execution_count": 37,
     "metadata": {},
     "output_type": "execute_result"
    }
   ],
   "source": [
    "# Your answer/code here:\n",
    "df['time'].unique()"
   ]
  },
  {
   "cell_type": "markdown",
   "id": "eed23005",
   "metadata": {
    "id": "eed23005"
   },
   "source": [
    "### 📑 Question 9 (EXPRESSION - 5 pts)\n",
    "Write one line of code to get the range of table size. \n",
    "\n",
    "Range means the **difference between the max and the min**."
   ]
  },
  {
   "cell_type": "markdown",
   "id": "GFstjNa4vPUe",
   "metadata": {
    "id": "GFstjNa4vPUe"
   },
   "source": [
    "**Output should be a number**"
   ]
  },
  {
   "cell_type": "code",
   "execution_count": 38,
   "id": "81bdd512",
   "metadata": {
    "cellView": "form",
    "id": "81bdd512"
   },
   "outputs": [
    {
     "name": "stdout",
     "output_type": "stream",
     "text": [
      "5\n"
     ]
    }
   ],
   "source": [
    "# Your answer/code here:\n",
    "size_r = print(df['size'].max() - df['size'].min())\n"
   ]
  },
  {
   "cell_type": "markdown",
   "id": "3d655364",
   "metadata": {
    "id": "3d655364"
   },
   "source": [
    "### 📑 Question 10 (MULTICHOICE_SINGLE - 5 pts)\n",
    "How many men/women paid for the dish?\n",
    "\n",
    "- A Male: 157, Female: 89\n",
    "\n",
    "- B Male: 85, Female: 156\n",
    "\n",
    "- C Male: 157, Female: 87\n",
    "\n",
    "- D Male: 142, Female: 15"
   ]
  },
  {
   "cell_type": "code",
   "execution_count": 40,
   "id": "b4a10eaa",
   "metadata": {
    "cellView": "form",
    "id": "b4a10eaa"
   },
   "outputs": [
    {
     "name": "stdout",
     "output_type": "stream",
     "text": [
      "⌚ Số người nam đã thanh toán là: 157\n",
      "✂ Số người nữ đã thanh toán là: 87\n"
     ]
    }
   ],
   "source": [
    "# Your answer/code here:\n",
    "\n",
    "count_male_paid = ((df['total_bill'] > 0) & (df['sex'] == 'Male')).sum()\n",
    "count_female_paid = ((df['total_bill'] > 0) & (df['sex'] == 'Female')).sum()\n",
    "\n",
    "print(f'⌚ Số người nam đã thanh toán là: {count_male_paid}')\n",
    "print(f'✂ Số người nữ đã thanh toán là: {count_female_paid}')"
   ]
  },
  {
   "cell_type": "markdown",
   "id": "0150b74e",
   "metadata": {
    "id": "0150b74e"
   },
   "source": [
    "### 📑 Question 11 (MULTICHOICE_SINGLE - 5 pts)\n",
    "What is the percentage of number of smoker table over the total?\n",
    "\n",
    "- A 38%\n",
    "\n",
    "- B 40%\n",
    "\n",
    "- C 2%\n",
    "\n",
    "- D 62%"
   ]
  },
  {
   "cell_type": "code",
   "execution_count": 41,
   "id": "06511f50",
   "metadata": {},
   "outputs": [
    {
     "data": {
      "text/plain": [
       "244"
      ]
     },
     "execution_count": 41,
     "metadata": {},
     "output_type": "execute_result"
    }
   ],
   "source": [
    "df.shape[0]"
   ]
  },
  {
   "cell_type": "code",
   "execution_count": 42,
   "id": "e2bda397",
   "metadata": {},
   "outputs": [
    {
     "name": "stdout",
     "output_type": "stream",
     "text": [
      "❌ Tỉ lệ bàn có hút thuốc là: 38.11%\n"
     ]
    }
   ],
   "source": [
    "# Your answer/code here:\n",
    "per_smoker_table = 100 * sum(df['smoker'] == 'Yes') / df.shape[0]\n",
    "print(f\"❌ Tỉ lệ bàn có hút thuốc là: {per_smoker_table:.2f}%\")"
   ]
  },
  {
   "cell_type": "code",
   "execution_count": 43,
   "id": "c4de21f4",
   "metadata": {
    "cellView": "form",
    "id": "c4de21f4"
   },
   "outputs": [
    {
     "name": "stdout",
     "output_type": "stream",
     "text": [
      "❌ Tỉ lệ bàn có hút thuốc là: 38.11%\n"
     ]
    }
   ],
   "source": [
    "# Your answer/code here:\n",
    "per_smoker_table = round((df[df['smoker'] == 'Yes'].shape[0] / df.shape[0])*100,2)\n",
    "print(f\"❌ Tỉ lệ bàn có hút thuốc là: {per_smoker_table:.2f}%\")"
   ]
  },
  {
   "cell_type": "markdown",
   "id": "8d4ffcb3",
   "metadata": {
    "id": "8d4ffcb3"
   },
   "source": [
    "### 📑 Question 12 (MULTICHOICE_SINGLE - 5 pts)\n",
    "What is the percentage of revenue from the smoker tables over the total?\n",
    "\n",
    "- A 38%\n",
    "\n",
    "- B 40%\n",
    "\n",
    "- C 2%\n",
    "\n",
    "- D 62%"
   ]
  },
  {
   "cell_type": "code",
   "execution_count": null,
   "id": "fde8139f",
   "metadata": {},
   "outputs": [
    {
     "data": {
      "text/html": [
       "<div>\n",
       "<style scoped>\n",
       "    .dataframe tbody tr th:only-of-type {\n",
       "        vertical-align: middle;\n",
       "    }\n",
       "\n",
       "    .dataframe tbody tr th {\n",
       "        vertical-align: top;\n",
       "    }\n",
       "\n",
       "    .dataframe thead th {\n",
       "        text-align: right;\n",
       "    }\n",
       "</style>\n",
       "<table border=\"1\" class=\"dataframe\">\n",
       "  <thead>\n",
       "    <tr style=\"text-align: right;\">\n",
       "      <th></th>\n",
       "      <th>total_bill</th>\n",
       "      <th>tip</th>\n",
       "      <th>sex</th>\n",
       "      <th>smoker</th>\n",
       "      <th>day</th>\n",
       "      <th>time</th>\n",
       "      <th>size</th>\n",
       "    </tr>\n",
       "  </thead>\n",
       "  <tbody>\n",
       "    <tr>\n",
       "      <th>56</th>\n",
       "      <td>38.01</td>\n",
       "      <td>3.00</td>\n",
       "      <td>Male</td>\n",
       "      <td>Yes</td>\n",
       "      <td>Sat</td>\n",
       "      <td>Dinner</td>\n",
       "      <td>4</td>\n",
       "    </tr>\n",
       "    <tr>\n",
       "      <th>58</th>\n",
       "      <td>11.24</td>\n",
       "      <td>1.76</td>\n",
       "      <td>Male</td>\n",
       "      <td>Yes</td>\n",
       "      <td>Sat</td>\n",
       "      <td>Dinner</td>\n",
       "      <td>2</td>\n",
       "    </tr>\n",
       "    <tr>\n",
       "      <th>60</th>\n",
       "      <td>20.29</td>\n",
       "      <td>3.21</td>\n",
       "      <td>Male</td>\n",
       "      <td>Yes</td>\n",
       "      <td>Sat</td>\n",
       "      <td>Dinner</td>\n",
       "      <td>2</td>\n",
       "    </tr>\n",
       "    <tr>\n",
       "      <th>61</th>\n",
       "      <td>13.81</td>\n",
       "      <td>2.00</td>\n",
       "      <td>Male</td>\n",
       "      <td>Yes</td>\n",
       "      <td>Sat</td>\n",
       "      <td>Dinner</td>\n",
       "      <td>2</td>\n",
       "    </tr>\n",
       "    <tr>\n",
       "      <th>62</th>\n",
       "      <td>11.02</td>\n",
       "      <td>1.98</td>\n",
       "      <td>Male</td>\n",
       "      <td>Yes</td>\n",
       "      <td>Sat</td>\n",
       "      <td>Dinner</td>\n",
       "      <td>2</td>\n",
       "    </tr>\n",
       "    <tr>\n",
       "      <th>...</th>\n",
       "      <td>...</td>\n",
       "      <td>...</td>\n",
       "      <td>...</td>\n",
       "      <td>...</td>\n",
       "      <td>...</td>\n",
       "      <td>...</td>\n",
       "      <td>...</td>\n",
       "    </tr>\n",
       "    <tr>\n",
       "      <th>234</th>\n",
       "      <td>15.53</td>\n",
       "      <td>3.00</td>\n",
       "      <td>Male</td>\n",
       "      <td>Yes</td>\n",
       "      <td>Sat</td>\n",
       "      <td>Dinner</td>\n",
       "      <td>2</td>\n",
       "    </tr>\n",
       "    <tr>\n",
       "      <th>236</th>\n",
       "      <td>12.60</td>\n",
       "      <td>1.00</td>\n",
       "      <td>Male</td>\n",
       "      <td>Yes</td>\n",
       "      <td>Sat</td>\n",
       "      <td>Dinner</td>\n",
       "      <td>2</td>\n",
       "    </tr>\n",
       "    <tr>\n",
       "      <th>237</th>\n",
       "      <td>32.83</td>\n",
       "      <td>1.17</td>\n",
       "      <td>Male</td>\n",
       "      <td>Yes</td>\n",
       "      <td>Sat</td>\n",
       "      <td>Dinner</td>\n",
       "      <td>2</td>\n",
       "    </tr>\n",
       "    <tr>\n",
       "      <th>240</th>\n",
       "      <td>27.18</td>\n",
       "      <td>2.00</td>\n",
       "      <td>Female</td>\n",
       "      <td>Yes</td>\n",
       "      <td>Sat</td>\n",
       "      <td>Dinner</td>\n",
       "      <td>2</td>\n",
       "    </tr>\n",
       "    <tr>\n",
       "      <th>241</th>\n",
       "      <td>22.67</td>\n",
       "      <td>2.00</td>\n",
       "      <td>Male</td>\n",
       "      <td>Yes</td>\n",
       "      <td>Sat</td>\n",
       "      <td>Dinner</td>\n",
       "      <td>2</td>\n",
       "    </tr>\n",
       "  </tbody>\n",
       "</table>\n",
       "<p>93 rows × 7 columns</p>\n",
       "</div>"
      ],
      "text/plain": [
       "     total_bill   tip     sex smoker  day    time  size\n",
       "56        38.01  3.00    Male    Yes  Sat  Dinner     4\n",
       "58        11.24  1.76    Male    Yes  Sat  Dinner     2\n",
       "60        20.29  3.21    Male    Yes  Sat  Dinner     2\n",
       "61        13.81  2.00    Male    Yes  Sat  Dinner     2\n",
       "62        11.02  1.98    Male    Yes  Sat  Dinner     2\n",
       "..          ...   ...     ...    ...  ...     ...   ...\n",
       "234       15.53  3.00    Male    Yes  Sat  Dinner     2\n",
       "236       12.60  1.00    Male    Yes  Sat  Dinner     2\n",
       "237       32.83  1.17    Male    Yes  Sat  Dinner     2\n",
       "240       27.18  2.00  Female    Yes  Sat  Dinner     2\n",
       "241       22.67  2.00    Male    Yes  Sat  Dinner     2\n",
       "\n",
       "[93 rows x 7 columns]"
      ]
     },
     "execution_count": 51,
     "metadata": {},
     "output_type": "execute_result"
    }
   ],
   "source": [
    "df[df['smoker'] == 'Yes']   # Lọc lấy riêng smoker"
   ]
  },
  {
   "cell_type": "code",
   "execution_count": 48,
   "id": "cf33d144",
   "metadata": {},
   "outputs": [
    {
     "data": {
      "text/plain": [
       "1930.3400000000001"
      ]
     },
     "execution_count": 48,
     "metadata": {},
     "output_type": "execute_result"
    }
   ],
   "source": [
    "df[df['smoker'] == 'Yes']['total_bill'].sum()   # Doanh thu từ smoker\n"
   ]
  },
  {
   "cell_type": "code",
   "execution_count": 49,
   "id": "1c51090c",
   "metadata": {},
   "outputs": [
    {
     "data": {
      "text/plain": [
       "4827.77"
      ]
     },
     "execution_count": 49,
     "metadata": {},
     "output_type": "execute_result"
    }
   ],
   "source": [
    "df['total_bill'].sum()      # Tổng doanh thu của nhà hàng"
   ]
  },
  {
   "cell_type": "code",
   "execution_count": 104,
   "id": "2b61769a",
   "metadata": {
    "cellView": "form",
    "id": "2b61769a"
   },
   "outputs": [
    {
     "name": "stdout",
     "output_type": "stream",
     "text": [
      "🚀 Tỉ lệ doanh thu của bàn có hút thuốc là: 39.98%\n"
     ]
    }
   ],
   "source": [
    "# Your answer/code here:\n",
    "per_rev_smoker = 100 * df[df['smoker'] == 'Yes']['total_bill'].sum() / df['total_bill'].sum()\n",
    "print(f\"🚀 Tỉ lệ doanh thu của bàn có hút thuốc là: {per_rev_smoker:.2f}%\")"
   ]
  },
  {
   "cell_type": "code",
   "execution_count": 105,
   "id": "a19e81ac",
   "metadata": {},
   "outputs": [
    {
     "name": "stdout",
     "output_type": "stream",
     "text": [
      "39.98%\n"
     ]
    }
   ],
   "source": [
    "# Your answer/code here:\n",
    "\n",
    "total_rev_smoker = df.loc[df['smoker'] == 'Yes', 'total_bill'].sum()    # Tính tổng doanh thu từ người hút thuốc\n",
    "total_rev_rest = df['total_bill'].sum()                                 # Tính tổng doanh thu của nhà hàng\n",
    "per_rev_smoker = (total_rev_smoker/total_rev_rest)*100\n",
    "print(f'{per_rev_smoker:.2f}%')"
   ]
  },
  {
   "attachments": {},
   "cell_type": "markdown",
   "id": "ef3be229",
   "metadata": {
    "id": "ef3be229"
   },
   "source": [
    "### 📑 Question 14 (MULTICHOICE_SINGLE - 5 pts)\n",
    "Between smoker and non-smoker, who tips more according the percentage of the total tip on total bill.\n",
    "\n",
    "- A Non-smoker\n",
    "\n",
    "- B Smoker"
   ]
  },
  {
   "cell_type": "code",
   "execution_count": 106,
   "id": "4ee9dd8f",
   "metadata": {
    "cellView": "form",
    "id": "4ee9dd8f"
   },
   "outputs": [
    {
     "name": "stdout",
     "output_type": "stream",
     "text": [
      "Percentage tip of smokers: 38.25%\n",
      "Percentage tip of nonsmokers: 61.75%\n"
     ]
    }
   ],
   "source": [
    "# Your answer/code here:\n",
    "total_tip_smoker = df.loc[df['smoker'] == 'Yes', 'tip'].sum()    # Tính tổng tip từ người hút thuốc\n",
    "total_tip_rest = df['tip'].sum()                                 # Tính tổng tip của nhà hàng\n",
    "per_tip_smoker = (total_tip_smoker/total_tip_rest)*100\n",
    "per_tip_nonsmoker = 100 - per_tip_smoker\n",
    "print(f'Percentage tip of smokers: {per_tip_smoker:.2f}%')\n",
    "print(f'Percentage tip of nonsmokers: {per_tip_nonsmoker:.2f}%')"
   ]
  },
  {
   "cell_type": "markdown",
   "id": "e85396dc",
   "metadata": {
    "id": "e85396dc"
   },
   "source": [
    "### 📑 Question 15 (EXPRESSION - 5 pts)\n",
    "\n",
    "Write one line of code to filter out the **\"smoker\"** tables on **Sunday**."
   ]
  },
  {
   "cell_type": "markdown",
   "id": "nl7SIf_iwsaH",
   "metadata": {
    "id": "nl7SIf_iwsaH"
   },
   "source": [
    "**Output should look like this**\n",
    "\n",
    "|     |   total_bill |   tip | sex    | smoker   | day   | time   |   size |\n",
    "|----:|-------------:|------:|:-------|:---------|:------|:-------|-------:|\n",
    "| 164 |        17.51 |  3    | Female | Yes      | Sun   | Dinner |      2 |\n",
    "| 172 |         7.25 |  5.15 | Male   | Yes      | Sun   | Dinner |      2 |\n",
    "| 173 |        31.85 |  3.18 | Male   | Yes      | Sun   | Dinner |      2 |\n",
    "| 174 |        16.82 |  4    | Male   | Yes      | Sun   | Dinner |      2 |\n",
    "| 175 |        32.9  |  3.11 | Male   | Yes      | Sun   | Dinner |      2 |\n",
    "| 176 |        17.89 |  2    | Male   | Yes      | Sun   | Dinner |      2 |\n",
    "| 177 |        14.48 |  2    | Male   | Yes      | Sun   | Dinner |      2 |\n",
    "| 178 |         9.6  |  4    | Female | Yes      | Sun   | Dinner |      2 |\n",
    "| 179 |        34.63 |  3.55 | Male   | Yes      | Sun   | Dinner |      2 |\n",
    "| 180 |        34.65 |  3.68 | Male   | Yes      | Sun   | Dinner |      4 |\n",
    "| 181 |        23.33 |  5.65 | Male   | Yes      | Sun   | Dinner |      2 |\n",
    "| 182 |        45.35 |  3.5  | Male   | Yes      | Sun   | Dinner |      3 |\n",
    "| 183 |        23.17 |  6.5  | Male   | Yes      | Sun   | Dinner |      4 |\n",
    "| 184 |        40.55 |  3    | Male   | Yes      | Sun   | Dinner |      2 |\n",
    "| 186 |        20.9  |  3.5  | Female | Yes      | Sun   | Dinner |      3 |\n",
    "| 187 |        30.46 |  2    | Male   | Yes      | Sun   | Dinner |      5 |\n",
    "| 188 |        18.15 |  3.5  | Female | Yes      | Sun   | Dinner |      3 |\n",
    "| 189 |        23.1  |  4    | Male   | Yes      | Sun   | Dinner |      3 |\n",
    "| 190 |        15.69 |  1.5  | Male   | Yes      | Sun   | Dinner |      2 |"
   ]
  },
  {
   "cell_type": "code",
   "execution_count": 107,
   "id": "38596c81",
   "metadata": {
    "cellView": "form",
    "id": "38596c81"
   },
   "outputs": [
    {
     "data": {
      "text/html": [
       "<div>\n",
       "<style scoped>\n",
       "    .dataframe tbody tr th:only-of-type {\n",
       "        vertical-align: middle;\n",
       "    }\n",
       "\n",
       "    .dataframe tbody tr th {\n",
       "        vertical-align: top;\n",
       "    }\n",
       "\n",
       "    .dataframe thead th {\n",
       "        text-align: right;\n",
       "    }\n",
       "</style>\n",
       "<table border=\"1\" class=\"dataframe\">\n",
       "  <thead>\n",
       "    <tr style=\"text-align: right;\">\n",
       "      <th></th>\n",
       "      <th>total_bill</th>\n",
       "      <th>tip</th>\n",
       "      <th>sex</th>\n",
       "      <th>smoker</th>\n",
       "      <th>day</th>\n",
       "      <th>time</th>\n",
       "      <th>size</th>\n",
       "    </tr>\n",
       "  </thead>\n",
       "  <tbody>\n",
       "    <tr>\n",
       "      <th>164</th>\n",
       "      <td>17.51</td>\n",
       "      <td>3.00</td>\n",
       "      <td>Female</td>\n",
       "      <td>Yes</td>\n",
       "      <td>Sun</td>\n",
       "      <td>Dinner</td>\n",
       "      <td>2</td>\n",
       "    </tr>\n",
       "    <tr>\n",
       "      <th>172</th>\n",
       "      <td>7.25</td>\n",
       "      <td>5.15</td>\n",
       "      <td>Male</td>\n",
       "      <td>Yes</td>\n",
       "      <td>Sun</td>\n",
       "      <td>Dinner</td>\n",
       "      <td>2</td>\n",
       "    </tr>\n",
       "    <tr>\n",
       "      <th>173</th>\n",
       "      <td>31.85</td>\n",
       "      <td>3.18</td>\n",
       "      <td>Male</td>\n",
       "      <td>Yes</td>\n",
       "      <td>Sun</td>\n",
       "      <td>Dinner</td>\n",
       "      <td>2</td>\n",
       "    </tr>\n",
       "    <tr>\n",
       "      <th>174</th>\n",
       "      <td>16.82</td>\n",
       "      <td>4.00</td>\n",
       "      <td>Male</td>\n",
       "      <td>Yes</td>\n",
       "      <td>Sun</td>\n",
       "      <td>Dinner</td>\n",
       "      <td>2</td>\n",
       "    </tr>\n",
       "    <tr>\n",
       "      <th>175</th>\n",
       "      <td>32.90</td>\n",
       "      <td>3.11</td>\n",
       "      <td>Male</td>\n",
       "      <td>Yes</td>\n",
       "      <td>Sun</td>\n",
       "      <td>Dinner</td>\n",
       "      <td>2</td>\n",
       "    </tr>\n",
       "    <tr>\n",
       "      <th>176</th>\n",
       "      <td>17.89</td>\n",
       "      <td>2.00</td>\n",
       "      <td>Male</td>\n",
       "      <td>Yes</td>\n",
       "      <td>Sun</td>\n",
       "      <td>Dinner</td>\n",
       "      <td>2</td>\n",
       "    </tr>\n",
       "    <tr>\n",
       "      <th>177</th>\n",
       "      <td>14.48</td>\n",
       "      <td>2.00</td>\n",
       "      <td>Male</td>\n",
       "      <td>Yes</td>\n",
       "      <td>Sun</td>\n",
       "      <td>Dinner</td>\n",
       "      <td>2</td>\n",
       "    </tr>\n",
       "    <tr>\n",
       "      <th>178</th>\n",
       "      <td>9.60</td>\n",
       "      <td>4.00</td>\n",
       "      <td>Female</td>\n",
       "      <td>Yes</td>\n",
       "      <td>Sun</td>\n",
       "      <td>Dinner</td>\n",
       "      <td>2</td>\n",
       "    </tr>\n",
       "    <tr>\n",
       "      <th>179</th>\n",
       "      <td>34.63</td>\n",
       "      <td>3.55</td>\n",
       "      <td>Male</td>\n",
       "      <td>Yes</td>\n",
       "      <td>Sun</td>\n",
       "      <td>Dinner</td>\n",
       "      <td>2</td>\n",
       "    </tr>\n",
       "    <tr>\n",
       "      <th>180</th>\n",
       "      <td>34.65</td>\n",
       "      <td>3.68</td>\n",
       "      <td>Male</td>\n",
       "      <td>Yes</td>\n",
       "      <td>Sun</td>\n",
       "      <td>Dinner</td>\n",
       "      <td>4</td>\n",
       "    </tr>\n",
       "    <tr>\n",
       "      <th>181</th>\n",
       "      <td>23.33</td>\n",
       "      <td>5.65</td>\n",
       "      <td>Male</td>\n",
       "      <td>Yes</td>\n",
       "      <td>Sun</td>\n",
       "      <td>Dinner</td>\n",
       "      <td>2</td>\n",
       "    </tr>\n",
       "    <tr>\n",
       "      <th>182</th>\n",
       "      <td>45.35</td>\n",
       "      <td>3.50</td>\n",
       "      <td>Male</td>\n",
       "      <td>Yes</td>\n",
       "      <td>Sun</td>\n",
       "      <td>Dinner</td>\n",
       "      <td>3</td>\n",
       "    </tr>\n",
       "    <tr>\n",
       "      <th>183</th>\n",
       "      <td>23.17</td>\n",
       "      <td>6.50</td>\n",
       "      <td>Male</td>\n",
       "      <td>Yes</td>\n",
       "      <td>Sun</td>\n",
       "      <td>Dinner</td>\n",
       "      <td>4</td>\n",
       "    </tr>\n",
       "    <tr>\n",
       "      <th>184</th>\n",
       "      <td>40.55</td>\n",
       "      <td>3.00</td>\n",
       "      <td>Male</td>\n",
       "      <td>Yes</td>\n",
       "      <td>Sun</td>\n",
       "      <td>Dinner</td>\n",
       "      <td>2</td>\n",
       "    </tr>\n",
       "    <tr>\n",
       "      <th>186</th>\n",
       "      <td>20.90</td>\n",
       "      <td>3.50</td>\n",
       "      <td>Female</td>\n",
       "      <td>Yes</td>\n",
       "      <td>Sun</td>\n",
       "      <td>Dinner</td>\n",
       "      <td>3</td>\n",
       "    </tr>\n",
       "    <tr>\n",
       "      <th>187</th>\n",
       "      <td>30.46</td>\n",
       "      <td>2.00</td>\n",
       "      <td>Male</td>\n",
       "      <td>Yes</td>\n",
       "      <td>Sun</td>\n",
       "      <td>Dinner</td>\n",
       "      <td>5</td>\n",
       "    </tr>\n",
       "    <tr>\n",
       "      <th>188</th>\n",
       "      <td>18.15</td>\n",
       "      <td>3.50</td>\n",
       "      <td>Female</td>\n",
       "      <td>Yes</td>\n",
       "      <td>Sun</td>\n",
       "      <td>Dinner</td>\n",
       "      <td>3</td>\n",
       "    </tr>\n",
       "    <tr>\n",
       "      <th>189</th>\n",
       "      <td>23.10</td>\n",
       "      <td>4.00</td>\n",
       "      <td>Male</td>\n",
       "      <td>Yes</td>\n",
       "      <td>Sun</td>\n",
       "      <td>Dinner</td>\n",
       "      <td>3</td>\n",
       "    </tr>\n",
       "    <tr>\n",
       "      <th>190</th>\n",
       "      <td>15.69</td>\n",
       "      <td>1.50</td>\n",
       "      <td>Male</td>\n",
       "      <td>Yes</td>\n",
       "      <td>Sun</td>\n",
       "      <td>Dinner</td>\n",
       "      <td>2</td>\n",
       "    </tr>\n",
       "  </tbody>\n",
       "</table>\n",
       "</div>"
      ],
      "text/plain": [
       "     total_bill   tip     sex smoker  day    time  size\n",
       "164       17.51  3.00  Female    Yes  Sun  Dinner     2\n",
       "172        7.25  5.15    Male    Yes  Sun  Dinner     2\n",
       "173       31.85  3.18    Male    Yes  Sun  Dinner     2\n",
       "174       16.82  4.00    Male    Yes  Sun  Dinner     2\n",
       "175       32.90  3.11    Male    Yes  Sun  Dinner     2\n",
       "176       17.89  2.00    Male    Yes  Sun  Dinner     2\n",
       "177       14.48  2.00    Male    Yes  Sun  Dinner     2\n",
       "178        9.60  4.00  Female    Yes  Sun  Dinner     2\n",
       "179       34.63  3.55    Male    Yes  Sun  Dinner     2\n",
       "180       34.65  3.68    Male    Yes  Sun  Dinner     4\n",
       "181       23.33  5.65    Male    Yes  Sun  Dinner     2\n",
       "182       45.35  3.50    Male    Yes  Sun  Dinner     3\n",
       "183       23.17  6.50    Male    Yes  Sun  Dinner     4\n",
       "184       40.55  3.00    Male    Yes  Sun  Dinner     2\n",
       "186       20.90  3.50  Female    Yes  Sun  Dinner     3\n",
       "187       30.46  2.00    Male    Yes  Sun  Dinner     5\n",
       "188       18.15  3.50  Female    Yes  Sun  Dinner     3\n",
       "189       23.10  4.00    Male    Yes  Sun  Dinner     3\n",
       "190       15.69  1.50    Male    Yes  Sun  Dinner     2"
      ]
     },
     "execution_count": 107,
     "metadata": {},
     "output_type": "execute_result"
    }
   ],
   "source": [
    "# Your answer/code here:\n",
    "smoker_sun = df[(df['smoker'] == 'Yes') & (df['day'] == 'Sun')]\n",
    "smoker_sun"
   ]
  },
  {
   "cell_type": "markdown",
   "id": "33b15792",
   "metadata": {
    "id": "33b15792"
   },
   "source": [
    "### 📑 Question 16 (MULTICHOICE_SINGLE - 5 pts)\n",
    "How many tables belong to the smoker, at lunch?\n",
    "\n",
    "- A 20\n",
    "\n",
    "- B 21 \n",
    "\n",
    "- C 22\n",
    "\n",
    "- D 23"
   ]
  },
  {
   "cell_type": "code",
   "execution_count": 110,
   "id": "92fad3dc",
   "metadata": {},
   "outputs": [
    {
     "name": "stdout",
     "output_type": "stream",
     "text": [
      "Số bàn của smoker vào buổi Lunch là: 23\n"
     ]
    }
   ],
   "source": [
    "# Your answer/code here:\n",
    "print(\"Số bàn của smoker vào buổi Lunch là:\", df[(df['smoker'] == 'Yes') & (df['time'] == 'Lunch')].shape[0])\n"
   ]
  },
  {
   "cell_type": "code",
   "execution_count": 109,
   "id": "eac9f749",
   "metadata": {
    "cellView": "form",
    "id": "eac9f749"
   },
   "outputs": [
    {
     "name": "stdout",
     "output_type": "stream",
     "text": [
      "Số bàn của smoker vào buổi Lunch là: 23\n"
     ]
    }
   ],
   "source": [
    "# Your answer/code here:\n",
    "# Lọc ra các dòng có smoker = 'Yes' và time = 'Lunch'\n",
    "smoker_lunch = df[(df['smoker'] == 'Yes') & (df['time'] == 'Lunch')]\n",
    "\n",
    "# Đếm số lượng dòng = số bàn\n",
    "count = len(smoker_lunch)\n",
    "\n",
    "print(\"Số bàn của smoker vào buổi Lunch là:\", count)"
   ]
  },
  {
   "cell_type": "markdown",
   "id": "95491584",
   "metadata": {
    "id": "95491584"
   },
   "source": [
    "### 📑 Question 17 (EXPRESSION - 10 pts)\n",
    "\n",
    "Write one line of code to compute the **average tip** amount of men who smoke and dine on **Friday's dinner**.\n"
   ]
  },
  {
   "cell_type": "markdown",
   "id": "OQj8EZs4xOHd",
   "metadata": {
    "id": "OQj8EZs4xOHd"
   },
   "source": [
    "**Output should be a number**"
   ]
  },
  {
   "cell_type": "code",
   "execution_count": 111,
   "id": "d9f27a43",
   "metadata": {
    "cellView": "form",
    "id": "d9f27a43"
   },
   "outputs": [
    {
     "data": {
      "text/plain": [
       "3.246"
      ]
     },
     "execution_count": 111,
     "metadata": {},
     "output_type": "execute_result"
    }
   ],
   "source": [
    "# Your answer/code here:\n",
    "avg_tip = df[(df['sex'] == 'Male') & (df['smoker'] == 'Yes') & (df['day'] == 'Fri') & (df['time'] == 'Dinner')]['tip'].mean()\n",
    "avg_tip"
   ]
  },
  {
   "cell_type": "markdown",
   "id": "6ac137c1",
   "metadata": {
    "id": "6ac137c1"
   },
   "source": [
    "### 📑 Question 18 (EXPRESSION - 5 pts)\n",
    "Write one line of code to compute the **sum** of total bills of the **male** customers who dine in any day that's **not Friday**. "
   ]
  },
  {
   "cell_type": "markdown",
   "id": "VaEp0qvqxdW-",
   "metadata": {
    "id": "VaEp0qvqxdW-"
   },
   "source": [
    "**Output should be a number**"
   ]
  },
  {
   "cell_type": "code",
   "execution_count": 112,
   "id": "baf798cd",
   "metadata": {
    "cellView": "form",
    "id": "baf798cd"
   },
   "outputs": [
    {
     "data": {
      "text/plain": [
       "3058.25"
      ]
     },
     "execution_count": 112,
     "metadata": {},
     "output_type": "execute_result"
    }
   ],
   "source": [
    "# Your answer/code here:\n",
    "total_sum = df[(df['sex'] == 'Male') & (df['day'] != 'Fri')]['total_bill'].sum()\n",
    "total_sum"
   ]
  },
  {
   "cell_type": "markdown",
   "id": "46a5e395",
   "metadata": {
    "id": "46a5e395"
   },
   "source": [
    "### 📑 Question 19 (EXPRESSION - 5 pts)\n",
    "Write one line of code to filter the tables with tip amount **larger** than the **average** tip amount. "
   ]
  },
  {
   "cell_type": "code",
   "execution_count": 113,
   "id": "c3jX0O7qxxQ9",
   "metadata": {
    "cellView": "form",
    "colab": {
     "base_uri": "https://localhost:8080/",
     "height": 419
    },
    "executionInfo": {
     "elapsed": 530,
     "status": "ok",
     "timestamp": 1627637882353,
     "user": {
      "displayName": "Nam Nguyễn",
      "photoUrl": "https://lh3.googleusercontent.com/a-/AOh14Gg167jQC_MOoXQDz4VKppW_3bAF9UcLypZn0bs6=s64",
      "userId": "00309682598260473303"
     },
     "user_tz": -420
    },
    "id": "c3jX0O7qxxQ9",
    "outputId": "b693b19e-c123-4d17-d51d-f6634dcf9066"
   },
   "outputs": [
    {
     "data": {
      "text/html": [
       "<div>\n",
       "<style scoped>\n",
       "    .dataframe tbody tr th:only-of-type {\n",
       "        vertical-align: middle;\n",
       "    }\n",
       "\n",
       "    .dataframe tbody tr th {\n",
       "        vertical-align: top;\n",
       "    }\n",
       "\n",
       "    .dataframe thead th {\n",
       "        text-align: right;\n",
       "    }\n",
       "</style>\n",
       "<table border=\"1\" class=\"dataframe\">\n",
       "  <thead>\n",
       "    <tr style=\"text-align: right;\">\n",
       "      <th></th>\n",
       "      <th>total_bill</th>\n",
       "      <th>tip</th>\n",
       "      <th>sex</th>\n",
       "      <th>smoker</th>\n",
       "      <th>day</th>\n",
       "      <th>time</th>\n",
       "      <th>size</th>\n",
       "    </tr>\n",
       "  </thead>\n",
       "  <tbody>\n",
       "    <tr>\n",
       "      <th>2</th>\n",
       "      <td>21.01</td>\n",
       "      <td>3.50</td>\n",
       "      <td>Male</td>\n",
       "      <td>No</td>\n",
       "      <td>Sun</td>\n",
       "      <td>Dinner</td>\n",
       "      <td>3</td>\n",
       "    </tr>\n",
       "    <tr>\n",
       "      <th>3</th>\n",
       "      <td>23.68</td>\n",
       "      <td>3.31</td>\n",
       "      <td>Male</td>\n",
       "      <td>No</td>\n",
       "      <td>Sun</td>\n",
       "      <td>Dinner</td>\n",
       "      <td>2</td>\n",
       "    </tr>\n",
       "    <tr>\n",
       "      <th>4</th>\n",
       "      <td>24.59</td>\n",
       "      <td>3.61</td>\n",
       "      <td>Female</td>\n",
       "      <td>No</td>\n",
       "      <td>Sun</td>\n",
       "      <td>Dinner</td>\n",
       "      <td>4</td>\n",
       "    </tr>\n",
       "    <tr>\n",
       "      <th>5</th>\n",
       "      <td>25.29</td>\n",
       "      <td>4.71</td>\n",
       "      <td>Male</td>\n",
       "      <td>No</td>\n",
       "      <td>Sun</td>\n",
       "      <td>Dinner</td>\n",
       "      <td>4</td>\n",
       "    </tr>\n",
       "    <tr>\n",
       "      <th>11</th>\n",
       "      <td>35.26</td>\n",
       "      <td>5.00</td>\n",
       "      <td>Female</td>\n",
       "      <td>No</td>\n",
       "      <td>Sun</td>\n",
       "      <td>Dinner</td>\n",
       "      <td>4</td>\n",
       "    </tr>\n",
       "    <tr>\n",
       "      <th>...</th>\n",
       "      <td>...</td>\n",
       "      <td>...</td>\n",
       "      <td>...</td>\n",
       "      <td>...</td>\n",
       "      <td>...</td>\n",
       "      <td>...</td>\n",
       "      <td>...</td>\n",
       "    </tr>\n",
       "    <tr>\n",
       "      <th>214</th>\n",
       "      <td>28.17</td>\n",
       "      <td>6.50</td>\n",
       "      <td>Female</td>\n",
       "      <td>Yes</td>\n",
       "      <td>Sat</td>\n",
       "      <td>Dinner</td>\n",
       "      <td>3</td>\n",
       "    </tr>\n",
       "    <tr>\n",
       "      <th>221</th>\n",
       "      <td>13.42</td>\n",
       "      <td>3.48</td>\n",
       "      <td>Female</td>\n",
       "      <td>Yes</td>\n",
       "      <td>Fri</td>\n",
       "      <td>Lunch</td>\n",
       "      <td>2</td>\n",
       "    </tr>\n",
       "    <tr>\n",
       "      <th>232</th>\n",
       "      <td>11.61</td>\n",
       "      <td>3.39</td>\n",
       "      <td>Male</td>\n",
       "      <td>No</td>\n",
       "      <td>Sat</td>\n",
       "      <td>Dinner</td>\n",
       "      <td>2</td>\n",
       "    </tr>\n",
       "    <tr>\n",
       "      <th>238</th>\n",
       "      <td>35.83</td>\n",
       "      <td>4.67</td>\n",
       "      <td>Female</td>\n",
       "      <td>No</td>\n",
       "      <td>Sat</td>\n",
       "      <td>Dinner</td>\n",
       "      <td>3</td>\n",
       "    </tr>\n",
       "    <tr>\n",
       "      <th>239</th>\n",
       "      <td>29.03</td>\n",
       "      <td>5.92</td>\n",
       "      <td>Male</td>\n",
       "      <td>No</td>\n",
       "      <td>Sat</td>\n",
       "      <td>Dinner</td>\n",
       "      <td>3</td>\n",
       "    </tr>\n",
       "  </tbody>\n",
       "</table>\n",
       "<p>83 rows × 7 columns</p>\n",
       "</div>"
      ],
      "text/plain": [
       "     total_bill   tip     sex smoker  day    time  size\n",
       "2         21.01  3.50    Male     No  Sun  Dinner     3\n",
       "3         23.68  3.31    Male     No  Sun  Dinner     2\n",
       "4         24.59  3.61  Female     No  Sun  Dinner     4\n",
       "5         25.29  4.71    Male     No  Sun  Dinner     4\n",
       "11        35.26  5.00  Female     No  Sun  Dinner     4\n",
       "..          ...   ...     ...    ...  ...     ...   ...\n",
       "214       28.17  6.50  Female    Yes  Sat  Dinner     3\n",
       "221       13.42  3.48  Female    Yes  Fri   Lunch     2\n",
       "232       11.61  3.39    Male     No  Sat  Dinner     2\n",
       "238       35.83  4.67  Female     No  Sat  Dinner     3\n",
       "239       29.03  5.92    Male     No  Sat  Dinner     3\n",
       "\n",
       "[83 rows x 7 columns]"
      ]
     },
     "execution_count": 113,
     "metadata": {},
     "output_type": "execute_result"
    }
   ],
   "source": [
    "# Your answer/code here:\n",
    "above_avg_tips = df[df['tip'] > avg_tip]\n",
    "above_avg_tips"
   ]
  },
  {
   "cell_type": "markdown",
   "id": "3722f29c",
   "metadata": {},
   "source": [
    "### 📑 Question 20 (EXPRESSION - 5 pts)"
   ]
  },
  {
   "cell_type": "markdown",
   "id": "d298a489",
   "metadata": {},
   "source": [
    "- Task 1: load `time_hours.xlsx` table to `df_th` variable:"
   ]
  },
  {
   "cell_type": "code",
   "execution_count": 6,
   "id": "f7403a86",
   "metadata": {},
   "outputs": [
    {
     "data": {
      "text/html": [
       "<div>\n",
       "<style scoped>\n",
       "    .dataframe tbody tr th:only-of-type {\n",
       "        vertical-align: middle;\n",
       "    }\n",
       "\n",
       "    .dataframe tbody tr th {\n",
       "        vertical-align: top;\n",
       "    }\n",
       "\n",
       "    .dataframe thead th {\n",
       "        text-align: right;\n",
       "    }\n",
       "</style>\n",
       "<table border=\"1\" class=\"dataframe\">\n",
       "  <thead>\n",
       "    <tr style=\"text-align: right;\">\n",
       "      <th></th>\n",
       "      <th>time</th>\n",
       "      <th>hour</th>\n",
       "    </tr>\n",
       "  </thead>\n",
       "  <tbody>\n",
       "    <tr>\n",
       "      <th>0</th>\n",
       "      <td>Dinner</td>\n",
       "      <td>19-21h</td>\n",
       "    </tr>\n",
       "    <tr>\n",
       "      <th>1</th>\n",
       "      <td>Lunch</td>\n",
       "      <td>10-12h</td>\n",
       "    </tr>\n",
       "  </tbody>\n",
       "</table>\n",
       "</div>"
      ],
      "text/plain": [
       "     time    hour\n",
       "0  Dinner  19-21h\n",
       "1   Lunch  10-12h"
      ]
     },
     "execution_count": 6,
     "metadata": {},
     "output_type": "execute_result"
    }
   ],
   "source": [
    "import pandas as pd\n",
    "df_th = pd.read_excel(r'Data\\time_hours.xlsx') # your code here\n",
    "\n",
    "# show time_hours table:\n",
    "df_th"
   ]
  },
  {
   "cell_type": "markdown",
   "id": "7a896bd5",
   "metadata": {},
   "source": [
    "- Task 2: Get `hour` information for `df` dataframe from `df_th` by using Using `time` field (`pd.merge()`):"
   ]
  },
  {
   "cell_type": "code",
   "execution_count": 20,
   "id": "8542e5ea",
   "metadata": {},
   "outputs": [
    {
     "data": {
      "text/html": [
       "<div>\n",
       "<style scoped>\n",
       "    .dataframe tbody tr th:only-of-type {\n",
       "        vertical-align: middle;\n",
       "    }\n",
       "\n",
       "    .dataframe tbody tr th {\n",
       "        vertical-align: top;\n",
       "    }\n",
       "\n",
       "    .dataframe thead th {\n",
       "        text-align: right;\n",
       "    }\n",
       "</style>\n",
       "<table border=\"1\" class=\"dataframe\">\n",
       "  <thead>\n",
       "    <tr style=\"text-align: right;\">\n",
       "      <th></th>\n",
       "      <th>total_bill</th>\n",
       "      <th>tip</th>\n",
       "      <th>sex</th>\n",
       "      <th>smoker</th>\n",
       "      <th>day</th>\n",
       "      <th>time</th>\n",
       "      <th>size</th>\n",
       "      <th>hour_x</th>\n",
       "      <th>hour_y</th>\n",
       "    </tr>\n",
       "  </thead>\n",
       "  <tbody>\n",
       "    <tr>\n",
       "      <th>0</th>\n",
       "      <td>16.99</td>\n",
       "      <td>1.01</td>\n",
       "      <td>Female</td>\n",
       "      <td>No</td>\n",
       "      <td>Sun</td>\n",
       "      <td>Dinner</td>\n",
       "      <td>2</td>\n",
       "      <td>19-21h</td>\n",
       "      <td>19-21h</td>\n",
       "    </tr>\n",
       "    <tr>\n",
       "      <th>1</th>\n",
       "      <td>10.34</td>\n",
       "      <td>1.66</td>\n",
       "      <td>Male</td>\n",
       "      <td>No</td>\n",
       "      <td>Sun</td>\n",
       "      <td>Dinner</td>\n",
       "      <td>3</td>\n",
       "      <td>19-21h</td>\n",
       "      <td>19-21h</td>\n",
       "    </tr>\n",
       "    <tr>\n",
       "      <th>2</th>\n",
       "      <td>21.01</td>\n",
       "      <td>3.50</td>\n",
       "      <td>Male</td>\n",
       "      <td>No</td>\n",
       "      <td>Sun</td>\n",
       "      <td>Dinner</td>\n",
       "      <td>3</td>\n",
       "      <td>19-21h</td>\n",
       "      <td>19-21h</td>\n",
       "    </tr>\n",
       "  </tbody>\n",
       "</table>\n",
       "</div>"
      ],
      "text/plain": [
       "   total_bill   tip     sex smoker  day    time  size  hour_x  hour_y\n",
       "0       16.99  1.01  Female     No  Sun  Dinner     2  19-21h  19-21h\n",
       "1       10.34  1.66    Male     No  Sun  Dinner     3  19-21h  19-21h\n",
       "2       21.01  3.50    Male     No  Sun  Dinner     3  19-21h  19-21h"
      ]
     },
     "execution_count": 20,
     "metadata": {},
     "output_type": "execute_result"
    }
   ],
   "source": [
    "# your code here:\n",
    "\n",
    "df_m = pd.merge(\n",
    "    left=df,\n",
    "    right=df_th,\n",
    "    left_on='time',\n",
    "    right_on='time',\n",
    "    how='left'  \n",
    ")\n",
    "df_m.head(3)"
   ]
  },
  {
   "cell_type": "markdown",
   "id": "1f4006f5",
   "metadata": {},
   "source": [
    "✅ Giải thích từng phần:\n",
    "1. `df['smoker'] == 'Yes'`\n",
    "-   So sánh từng dòng trong cột 'smoker' với 'Yes'\n",
    "\n",
    "-   Trả về một Series boolean: True nếu người đó là smoker, False nếu không.\n",
    "\n",
    "2.`df[ ... ]`\n",
    "-   Lọc DataFrame theo điều kiện bên trong dấu ngoặc vuông [ ... ]\n",
    "\n",
    "-   Tức là chỉ lấy các dòng mà điều kiện là True → tức là các smoker\n",
    "\n",
    "3. `['total_bill']`\n",
    "-   Sau khi đã lọc ra các dòng, ta chọn riêng cột total_bill\n",
    "\n",
    "4. `.sum()`\n",
    "-   Tính tổng tiền total_bill từ các dòng còn lại (tức là của smoker)\n",
    "\n",
    "✅ Kết quả cuối cùng:\n",
    "-   Tính tổng doanh thu từ các khách hàng là smoker (smoker == 'Yes')"
   ]
  },
  {
   "cell_type": "code",
   "execution_count": 21,
   "id": "366c32b0",
   "metadata": {},
   "outputs": [
    {
     "data": {
      "text/html": [
       "<div>\n",
       "<style scoped>\n",
       "    .dataframe tbody tr th:only-of-type {\n",
       "        vertical-align: middle;\n",
       "    }\n",
       "\n",
       "    .dataframe tbody tr th {\n",
       "        vertical-align: top;\n",
       "    }\n",
       "\n",
       "    .dataframe thead th {\n",
       "        text-align: right;\n",
       "    }\n",
       "</style>\n",
       "<table border=\"1\" class=\"dataframe\">\n",
       "  <thead>\n",
       "    <tr style=\"text-align: right;\">\n",
       "      <th></th>\n",
       "      <th>total_bill</th>\n",
       "      <th>tip</th>\n",
       "      <th>sex</th>\n",
       "      <th>smoker</th>\n",
       "      <th>day</th>\n",
       "      <th>time</th>\n",
       "      <th>size</th>\n",
       "      <th>hour</th>\n",
       "    </tr>\n",
       "  </thead>\n",
       "  <tbody>\n",
       "    <tr>\n",
       "      <th>0</th>\n",
       "      <td>16.99</td>\n",
       "      <td>1.01</td>\n",
       "      <td>Female</td>\n",
       "      <td>No</td>\n",
       "      <td>Sun</td>\n",
       "      <td>Dinner</td>\n",
       "      <td>2</td>\n",
       "      <td>19-21h</td>\n",
       "    </tr>\n",
       "    <tr>\n",
       "      <th>1</th>\n",
       "      <td>10.34</td>\n",
       "      <td>1.66</td>\n",
       "      <td>Male</td>\n",
       "      <td>No</td>\n",
       "      <td>Sun</td>\n",
       "      <td>Dinner</td>\n",
       "      <td>3</td>\n",
       "      <td>19-21h</td>\n",
       "    </tr>\n",
       "    <tr>\n",
       "      <th>2</th>\n",
       "      <td>21.01</td>\n",
       "      <td>3.50</td>\n",
       "      <td>Male</td>\n",
       "      <td>No</td>\n",
       "      <td>Sun</td>\n",
       "      <td>Dinner</td>\n",
       "      <td>3</td>\n",
       "      <td>19-21h</td>\n",
       "    </tr>\n",
       "  </tbody>\n",
       "</table>\n",
       "</div>"
      ],
      "text/plain": [
       "   total_bill   tip     sex smoker  day    time  size    hour\n",
       "0       16.99  1.01  Female     No  Sun  Dinner     2  19-21h\n",
       "1       10.34  1.66    Male     No  Sun  Dinner     3  19-21h\n",
       "2       21.01  3.50    Male     No  Sun  Dinner     3  19-21h"
      ]
     },
     "execution_count": 21,
     "metadata": {},
     "output_type": "execute_result"
    }
   ],
   "source": [
    "# your code here:\n",
    "# Bỏ cột hour trong df trước khi merge:\n",
    "df_m = pd.merge(df.drop(columns=['hour'], errors='ignore'),\n",
    "\n",
    "    right=df_th,\n",
    "    left_on='time',\n",
    "    right_on='time',\n",
    "    how='left'  \n",
    ")\n",
    "df_m.head(3)"
   ]
  },
  {
   "cell_type": "code",
   "execution_count": 22,
   "id": "15790259",
   "metadata": {},
   "outputs": [
    {
     "data": {
      "text/html": [
       "<div>\n",
       "<style scoped>\n",
       "    .dataframe tbody tr th:only-of-type {\n",
       "        vertical-align: middle;\n",
       "    }\n",
       "\n",
       "    .dataframe tbody tr th {\n",
       "        vertical-align: top;\n",
       "    }\n",
       "\n",
       "    .dataframe thead th {\n",
       "        text-align: right;\n",
       "    }\n",
       "</style>\n",
       "<table border=\"1\" class=\"dataframe\">\n",
       "  <thead>\n",
       "    <tr style=\"text-align: right;\">\n",
       "      <th></th>\n",
       "      <th>total_bill</th>\n",
       "      <th>tip</th>\n",
       "      <th>sex</th>\n",
       "      <th>smoker</th>\n",
       "      <th>day</th>\n",
       "      <th>time</th>\n",
       "      <th>size</th>\n",
       "      <th>hour</th>\n",
       "    </tr>\n",
       "  </thead>\n",
       "  <tbody>\n",
       "    <tr>\n",
       "      <th>0</th>\n",
       "      <td>16.99</td>\n",
       "      <td>1.01</td>\n",
       "      <td>Female</td>\n",
       "      <td>No</td>\n",
       "      <td>Sun</td>\n",
       "      <td>Dinner</td>\n",
       "      <td>2</td>\n",
       "      <td>19-21h</td>\n",
       "    </tr>\n",
       "    <tr>\n",
       "      <th>1</th>\n",
       "      <td>10.34</td>\n",
       "      <td>1.66</td>\n",
       "      <td>Male</td>\n",
       "      <td>No</td>\n",
       "      <td>Sun</td>\n",
       "      <td>Dinner</td>\n",
       "      <td>3</td>\n",
       "      <td>19-21h</td>\n",
       "    </tr>\n",
       "    <tr>\n",
       "      <th>2</th>\n",
       "      <td>21.01</td>\n",
       "      <td>3.50</td>\n",
       "      <td>Male</td>\n",
       "      <td>No</td>\n",
       "      <td>Sun</td>\n",
       "      <td>Dinner</td>\n",
       "      <td>3</td>\n",
       "      <td>19-21h</td>\n",
       "    </tr>\n",
       "  </tbody>\n",
       "</table>\n",
       "</div>"
      ],
      "text/plain": [
       "   total_bill   tip     sex smoker  day    time  size    hour\n",
       "0       16.99  1.01  Female     No  Sun  Dinner     2  19-21h\n",
       "1       10.34  1.66    Male     No  Sun  Dinner     3  19-21h\n",
       "2       21.01  3.50    Male     No  Sun  Dinner     3  19-21h"
      ]
     },
     "execution_count": 22,
     "metadata": {},
     "output_type": "execute_result"
    }
   ],
   "source": [
    "# your code here:\n",
    "# Bỏ cột hour trong df trước khi merge:\n",
    "df_m = pd.merge(\n",
    "    df.drop(columns=['hour'], errors='ignore'),\n",
    "              df_th, on='time', how='left')\n",
    "\n",
    "df_m.head(3)"
   ]
  },
  {
   "cell_type": "code",
   "execution_count": 23,
   "id": "5b85fb34",
   "metadata": {},
   "outputs": [
    {
     "data": {
      "text/html": [
       "<div>\n",
       "<style scoped>\n",
       "    .dataframe tbody tr th:only-of-type {\n",
       "        vertical-align: middle;\n",
       "    }\n",
       "\n",
       "    .dataframe tbody tr th {\n",
       "        vertical-align: top;\n",
       "    }\n",
       "\n",
       "    .dataframe thead th {\n",
       "        text-align: right;\n",
       "    }\n",
       "</style>\n",
       "<table border=\"1\" class=\"dataframe\">\n",
       "  <thead>\n",
       "    <tr style=\"text-align: right;\">\n",
       "      <th></th>\n",
       "      <th>total_bill</th>\n",
       "      <th>tip</th>\n",
       "      <th>sex</th>\n",
       "      <th>smoker</th>\n",
       "      <th>day</th>\n",
       "      <th>time</th>\n",
       "      <th>size</th>\n",
       "      <th>hour</th>\n",
       "    </tr>\n",
       "  </thead>\n",
       "  <tbody>\n",
       "    <tr>\n",
       "      <th>173</th>\n",
       "      <td>31.85</td>\n",
       "      <td>3.18</td>\n",
       "      <td>Male</td>\n",
       "      <td>Yes</td>\n",
       "      <td>Sun</td>\n",
       "      <td>Dinner</td>\n",
       "      <td>2</td>\n",
       "      <td>19-21h</td>\n",
       "    </tr>\n",
       "    <tr>\n",
       "      <th>148</th>\n",
       "      <td>9.78</td>\n",
       "      <td>1.73</td>\n",
       "      <td>Male</td>\n",
       "      <td>No</td>\n",
       "      <td>Thur</td>\n",
       "      <td>Lunch</td>\n",
       "      <td>2</td>\n",
       "      <td>10-12h</td>\n",
       "    </tr>\n",
       "    <tr>\n",
       "      <th>51</th>\n",
       "      <td>10.29</td>\n",
       "      <td>2.60</td>\n",
       "      <td>Female</td>\n",
       "      <td>No</td>\n",
       "      <td>Sun</td>\n",
       "      <td>Dinner</td>\n",
       "      <td>2</td>\n",
       "      <td>19-21h</td>\n",
       "    </tr>\n",
       "    <tr>\n",
       "      <th>107</th>\n",
       "      <td>25.21</td>\n",
       "      <td>4.29</td>\n",
       "      <td>Male</td>\n",
       "      <td>Yes</td>\n",
       "      <td>Sat</td>\n",
       "      <td>Dinner</td>\n",
       "      <td>2</td>\n",
       "      <td>19-21h</td>\n",
       "    </tr>\n",
       "    <tr>\n",
       "      <th>166</th>\n",
       "      <td>20.76</td>\n",
       "      <td>2.24</td>\n",
       "      <td>Male</td>\n",
       "      <td>No</td>\n",
       "      <td>Sun</td>\n",
       "      <td>Dinner</td>\n",
       "      <td>2</td>\n",
       "      <td>19-21h</td>\n",
       "    </tr>\n",
       "  </tbody>\n",
       "</table>\n",
       "</div>"
      ],
      "text/plain": [
       "     total_bill   tip     sex smoker   day    time  size    hour\n",
       "173       31.85  3.18    Male    Yes   Sun  Dinner     2  19-21h\n",
       "148        9.78  1.73    Male     No  Thur   Lunch     2  10-12h\n",
       "51        10.29  2.60  Female     No   Sun  Dinner     2  19-21h\n",
       "107       25.21  4.29    Male    Yes   Sat  Dinner     2  19-21h\n",
       "166       20.76  2.24    Male     No   Sun  Dinner     2  19-21h"
      ]
     },
     "execution_count": 23,
     "metadata": {},
     "output_type": "execute_result"
    }
   ],
   "source": [
    "# show random sample 5 rows:\n",
    "df.sample(5)"
   ]
  }
 ],
 "metadata": {
  "colab": {
   "collapsed_sections": [
    "16f47872",
    "49cab693",
    "1e36acf3",
    "fe203f8e",
    "2050fbcf",
    "eed23005",
    "3d655364",
    "0150b74e",
    "8d4ffcb3",
    "ef3be229",
    "e85396dc",
    "33b15792",
    "95491584",
    "6ac137c1",
    "46a5e395",
    "1Pk1enEuySjx"
   ],
   "name": "1.3_restaurant_lab.ipynb",
   "provenance": []
  },
  "kernelspec": {
   "display_name": "base",
   "language": "python",
   "name": "python3"
  },
  "language_info": {
   "codemirror_mode": {
    "name": "ipython",
    "version": 3
   },
   "file_extension": ".py",
   "mimetype": "text/x-python",
   "name": "python",
   "nbconvert_exporter": "python",
   "pygments_lexer": "ipython3",
   "version": "3.12.7"
  }
 },
 "nbformat": 4,
 "nbformat_minor": 5
}
